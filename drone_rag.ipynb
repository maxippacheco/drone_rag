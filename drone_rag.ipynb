{
  "cells": [
    {
      "cell_type": "markdown",
      "metadata": {
        "id": "N_7N1ZWdLsHS"
      },
      "source": [
        " # Installing the environment"
      ]
    },
    {
      "cell_type": "code",
      "execution_count": 9,
      "metadata": {
        "colab": {
          "base_uri": "https://localhost:8080/"
        },
        "id": "uxJotf2QLnXc",
        "outputId": "6c367398-10e7-4545-ad29-bfbda6ce4d7e"
      },
      "outputs": [
        {
          "output_type": "stream",
          "name": "stdout",
          "text": [
            "Requirement already satisfied: llama-index==0.10.1 in /usr/local/lib/python3.11/dist-packages (0.10.1)\n",
            "Requirement already satisfied: llama-index-agent-openai<0.2.0,>=0.1.0 in /usr/local/lib/python3.11/dist-packages (from llama-index==0.10.1) (0.1.7)\n",
            "Requirement already satisfied: llama-index-core<0.11.0,>=0.10.0 in /usr/local/lib/python3.11/dist-packages (from llama-index==0.10.1) (0.10.68.post1)\n",
            "Requirement already satisfied: llama-index-embeddings-openai<0.2.0,>=0.1.0 in /usr/local/lib/python3.11/dist-packages (from llama-index==0.10.1) (0.1.11)\n",
            "Requirement already satisfied: llama-index-legacy<0.10.0,>=0.9.48 in /usr/local/lib/python3.11/dist-packages (from llama-index==0.10.1) (0.9.48.post4)\n",
            "Requirement already satisfied: llama-index-llms-openai<0.2.0,>=0.1.0 in /usr/local/lib/python3.11/dist-packages (from llama-index==0.10.1) (0.1.31)\n",
            "Requirement already satisfied: llama-index-multi-modal-llms-openai<0.2.0,>=0.1.0 in /usr/local/lib/python3.11/dist-packages (from llama-index==0.10.1) (0.1.9)\n",
            "Requirement already satisfied: llama-index-program-openai<0.2.0,>=0.1.0 in /usr/local/lib/python3.11/dist-packages (from llama-index==0.10.1) (0.1.7)\n",
            "Requirement already satisfied: llama-index-question-gen-openai<0.2.0,>=0.1.0 in /usr/local/lib/python3.11/dist-packages (from llama-index==0.10.1) (0.1.3)\n",
            "Requirement already satisfied: llama-index-readers-file<0.2.0,>=0.1.0 in /usr/local/lib/python3.11/dist-packages (from llama-index==0.10.1) (0.1.33)\n",
            "Requirement already satisfied: PyYAML>=6.0.1 in /usr/local/lib/python3.11/dist-packages (from llama-index-core<0.11.0,>=0.10.0->llama-index==0.10.1) (6.0.2)\n",
            "Requirement already satisfied: SQLAlchemy>=1.4.49 in /usr/local/lib/python3.11/dist-packages (from SQLAlchemy[asyncio]>=1.4.49->llama-index-core<0.11.0,>=0.10.0->llama-index==0.10.1) (2.0.37)\n",
            "Requirement already satisfied: aiohttp<4.0.0,>=3.8.6 in /usr/local/lib/python3.11/dist-packages (from llama-index-core<0.11.0,>=0.10.0->llama-index==0.10.1) (3.11.11)\n",
            "Requirement already satisfied: dataclasses-json in /usr/local/lib/python3.11/dist-packages (from llama-index-core<0.11.0,>=0.10.0->llama-index==0.10.1) (0.6.7)\n",
            "Requirement already satisfied: deprecated>=1.2.9.3 in /usr/local/lib/python3.11/dist-packages (from llama-index-core<0.11.0,>=0.10.0->llama-index==0.10.1) (1.2.18)\n",
            "Requirement already satisfied: dirtyjson<2.0.0,>=1.0.8 in /usr/local/lib/python3.11/dist-packages (from llama-index-core<0.11.0,>=0.10.0->llama-index==0.10.1) (1.0.8)\n",
            "Requirement already satisfied: fsspec>=2023.5.0 in /usr/local/lib/python3.11/dist-packages (from llama-index-core<0.11.0,>=0.10.0->llama-index==0.10.1) (2024.10.0)\n",
            "Requirement already satisfied: httpx in /usr/local/lib/python3.11/dist-packages (from llama-index-core<0.11.0,>=0.10.0->llama-index==0.10.1) (0.28.1)\n",
            "Requirement already satisfied: nest-asyncio<2.0.0,>=1.5.8 in /usr/local/lib/python3.11/dist-packages (from llama-index-core<0.11.0,>=0.10.0->llama-index==0.10.1) (1.6.0)\n",
            "Requirement already satisfied: networkx>=3.0 in /usr/local/lib/python3.11/dist-packages (from llama-index-core<0.11.0,>=0.10.0->llama-index==0.10.1) (3.4.2)\n",
            "Requirement already satisfied: nltk!=3.9,>=3.8.1 in /usr/local/lib/python3.11/dist-packages (from llama-index-core<0.11.0,>=0.10.0->llama-index==0.10.1) (3.9.1)\n",
            "Requirement already satisfied: numpy<2.0.0 in /usr/local/lib/python3.11/dist-packages (from llama-index-core<0.11.0,>=0.10.0->llama-index==0.10.1) (1.26.4)\n",
            "Requirement already satisfied: pandas in /usr/local/lib/python3.11/dist-packages (from llama-index-core<0.11.0,>=0.10.0->llama-index==0.10.1) (2.2.2)\n",
            "Requirement already satisfied: pillow>=9.0.0 in /usr/local/lib/python3.11/dist-packages (from llama-index-core<0.11.0,>=0.10.0->llama-index==0.10.1) (11.1.0)\n",
            "Requirement already satisfied: pydantic<3.0 in /usr/local/lib/python3.11/dist-packages (from llama-index-core<0.11.0,>=0.10.0->llama-index==0.10.1) (2.10.6)\n",
            "Requirement already satisfied: requests>=2.31.0 in /usr/local/lib/python3.11/dist-packages (from llama-index-core<0.11.0,>=0.10.0->llama-index==0.10.1) (2.32.3)\n",
            "Requirement already satisfied: tenacity!=8.4.0,<9.0.0,>=8.2.0 in /usr/local/lib/python3.11/dist-packages (from llama-index-core<0.11.0,>=0.10.0->llama-index==0.10.1) (8.5.0)\n",
            "Requirement already satisfied: tiktoken>=0.3.3 in /usr/local/lib/python3.11/dist-packages (from llama-index-core<0.11.0,>=0.10.0->llama-index==0.10.1) (0.8.0)\n",
            "Requirement already satisfied: tqdm<5.0.0,>=4.66.1 in /usr/local/lib/python3.11/dist-packages (from llama-index-core<0.11.0,>=0.10.0->llama-index==0.10.1) (4.67.1)\n",
            "Requirement already satisfied: typing-extensions>=4.5.0 in /usr/local/lib/python3.11/dist-packages (from llama-index-core<0.11.0,>=0.10.0->llama-index==0.10.1) (4.12.2)\n",
            "Requirement already satisfied: typing-inspect>=0.8.0 in /usr/local/lib/python3.11/dist-packages (from llama-index-core<0.11.0,>=0.10.0->llama-index==0.10.1) (0.9.0)\n",
            "Requirement already satisfied: wrapt in /usr/local/lib/python3.11/dist-packages (from llama-index-core<0.11.0,>=0.10.0->llama-index==0.10.1) (1.17.2)\n",
            "Requirement already satisfied: openai>=1.1.0 in /usr/local/lib/python3.11/dist-packages (from llama-index-legacy<0.10.0,>=0.9.48->llama-index==0.10.1) (1.61.0)\n",
            "Requirement already satisfied: beautifulsoup4<5.0.0,>=4.12.3 in /usr/local/lib/python3.11/dist-packages (from llama-index-readers-file<0.2.0,>=0.1.0->llama-index==0.10.1) (4.13.1)\n",
            "Requirement already satisfied: pypdf<5.0.0,>=4.0.1 in /usr/local/lib/python3.11/dist-packages (from llama-index-readers-file<0.2.0,>=0.1.0->llama-index==0.10.1) (4.3.1)\n",
            "Requirement already satisfied: striprtf<0.0.27,>=0.0.26 in /usr/local/lib/python3.11/dist-packages (from llama-index-readers-file<0.2.0,>=0.1.0->llama-index==0.10.1) (0.0.26)\n",
            "Requirement already satisfied: aiohappyeyeballs>=2.3.0 in /usr/local/lib/python3.11/dist-packages (from aiohttp<4.0.0,>=3.8.6->llama-index-core<0.11.0,>=0.10.0->llama-index==0.10.1) (2.4.4)\n",
            "Requirement already satisfied: aiosignal>=1.1.2 in /usr/local/lib/python3.11/dist-packages (from aiohttp<4.0.0,>=3.8.6->llama-index-core<0.11.0,>=0.10.0->llama-index==0.10.1) (1.3.2)\n",
            "Requirement already satisfied: attrs>=17.3.0 in /usr/local/lib/python3.11/dist-packages (from aiohttp<4.0.0,>=3.8.6->llama-index-core<0.11.0,>=0.10.0->llama-index==0.10.1) (25.1.0)\n",
            "Requirement already satisfied: frozenlist>=1.1.1 in /usr/local/lib/python3.11/dist-packages (from aiohttp<4.0.0,>=3.8.6->llama-index-core<0.11.0,>=0.10.0->llama-index==0.10.1) (1.5.0)\n",
            "Requirement already satisfied: multidict<7.0,>=4.5 in /usr/local/lib/python3.11/dist-packages (from aiohttp<4.0.0,>=3.8.6->llama-index-core<0.11.0,>=0.10.0->llama-index==0.10.1) (6.1.0)\n",
            "Requirement already satisfied: propcache>=0.2.0 in /usr/local/lib/python3.11/dist-packages (from aiohttp<4.0.0,>=3.8.6->llama-index-core<0.11.0,>=0.10.0->llama-index==0.10.1) (0.2.1)\n",
            "Requirement already satisfied: yarl<2.0,>=1.17.0 in /usr/local/lib/python3.11/dist-packages (from aiohttp<4.0.0,>=3.8.6->llama-index-core<0.11.0,>=0.10.0->llama-index==0.10.1) (1.18.3)\n",
            "Requirement already satisfied: soupsieve>1.2 in /usr/local/lib/python3.11/dist-packages (from beautifulsoup4<5.0.0,>=4.12.3->llama-index-readers-file<0.2.0,>=0.1.0->llama-index==0.10.1) (2.6)\n",
            "Requirement already satisfied: click in /usr/local/lib/python3.11/dist-packages (from nltk!=3.9,>=3.8.1->llama-index-core<0.11.0,>=0.10.0->llama-index==0.10.1) (8.1.8)\n",
            "Requirement already satisfied: joblib in /usr/local/lib/python3.11/dist-packages (from nltk!=3.9,>=3.8.1->llama-index-core<0.11.0,>=0.10.0->llama-index==0.10.1) (1.4.2)\n",
            "Requirement already satisfied: regex>=2021.8.3 in /usr/local/lib/python3.11/dist-packages (from nltk!=3.9,>=3.8.1->llama-index-core<0.11.0,>=0.10.0->llama-index==0.10.1) (2024.11.6)\n",
            "Requirement already satisfied: anyio<5,>=3.5.0 in /usr/local/lib/python3.11/dist-packages (from openai>=1.1.0->llama-index-legacy<0.10.0,>=0.9.48->llama-index==0.10.1) (3.7.1)\n",
            "Requirement already satisfied: distro<2,>=1.7.0 in /usr/local/lib/python3.11/dist-packages (from openai>=1.1.0->llama-index-legacy<0.10.0,>=0.9.48->llama-index==0.10.1) (1.9.0)\n",
            "Requirement already satisfied: jiter<1,>=0.4.0 in /usr/local/lib/python3.11/dist-packages (from openai>=1.1.0->llama-index-legacy<0.10.0,>=0.9.48->llama-index==0.10.1) (0.8.2)\n",
            "Requirement already satisfied: sniffio in /usr/local/lib/python3.11/dist-packages (from openai>=1.1.0->llama-index-legacy<0.10.0,>=0.9.48->llama-index==0.10.1) (1.3.1)\n",
            "Requirement already satisfied: certifi in /usr/local/lib/python3.11/dist-packages (from httpx->llama-index-core<0.11.0,>=0.10.0->llama-index==0.10.1) (2025.1.31)\n",
            "Requirement already satisfied: httpcore==1.* in /usr/local/lib/python3.11/dist-packages (from httpx->llama-index-core<0.11.0,>=0.10.0->llama-index==0.10.1) (1.0.7)\n",
            "Requirement already satisfied: idna in /usr/local/lib/python3.11/dist-packages (from httpx->llama-index-core<0.11.0,>=0.10.0->llama-index==0.10.1) (3.10)\n",
            "Requirement already satisfied: h11<0.15,>=0.13 in /usr/local/lib/python3.11/dist-packages (from httpcore==1.*->httpx->llama-index-core<0.11.0,>=0.10.0->llama-index==0.10.1) (0.14.0)\n",
            "Requirement already satisfied: annotated-types>=0.6.0 in /usr/local/lib/python3.11/dist-packages (from pydantic<3.0->llama-index-core<0.11.0,>=0.10.0->llama-index==0.10.1) (0.7.0)\n",
            "Requirement already satisfied: pydantic-core==2.27.2 in /usr/local/lib/python3.11/dist-packages (from pydantic<3.0->llama-index-core<0.11.0,>=0.10.0->llama-index==0.10.1) (2.27.2)\n",
            "Requirement already satisfied: charset-normalizer<4,>=2 in /usr/local/lib/python3.11/dist-packages (from requests>=2.31.0->llama-index-core<0.11.0,>=0.10.0->llama-index==0.10.1) (3.4.1)\n",
            "Requirement already satisfied: urllib3<3,>=1.21.1 in /usr/local/lib/python3.11/dist-packages (from requests>=2.31.0->llama-index-core<0.11.0,>=0.10.0->llama-index==0.10.1) (2.3.0)\n",
            "Requirement already satisfied: greenlet!=0.4.17 in /usr/local/lib/python3.11/dist-packages (from SQLAlchemy>=1.4.49->SQLAlchemy[asyncio]>=1.4.49->llama-index-core<0.11.0,>=0.10.0->llama-index==0.10.1) (3.1.1)\n",
            "Requirement already satisfied: mypy-extensions>=0.3.0 in /usr/local/lib/python3.11/dist-packages (from typing-inspect>=0.8.0->llama-index-core<0.11.0,>=0.10.0->llama-index==0.10.1) (1.0.0)\n",
            "Requirement already satisfied: marshmallow<4.0.0,>=3.18.0 in /usr/local/lib/python3.11/dist-packages (from dataclasses-json->llama-index-core<0.11.0,>=0.10.0->llama-index==0.10.1) (3.26.1)\n",
            "Requirement already satisfied: python-dateutil>=2.8.2 in /usr/local/lib/python3.11/dist-packages (from pandas->llama-index-core<0.11.0,>=0.10.0->llama-index==0.10.1) (2.8.2)\n",
            "Requirement already satisfied: pytz>=2020.1 in /usr/local/lib/python3.11/dist-packages (from pandas->llama-index-core<0.11.0,>=0.10.0->llama-index==0.10.1) (2025.1)\n",
            "Requirement already satisfied: tzdata>=2022.7 in /usr/local/lib/python3.11/dist-packages (from pandas->llama-index-core<0.11.0,>=0.10.0->llama-index==0.10.1) (2025.1)\n",
            "Requirement already satisfied: packaging>=17.0 in /usr/local/lib/python3.11/dist-packages (from marshmallow<4.0.0,>=3.18.0->dataclasses-json->llama-index-core<0.11.0,>=0.10.0->llama-index==0.10.1) (24.2)\n",
            "Requirement already satisfied: six>=1.5 in /usr/local/lib/python3.11/dist-packages (from python-dateutil>=2.8.2->pandas->llama-index-core<0.11.0,>=0.10.0->llama-index==0.10.1) (1.17.0)\n",
            "Requirement already satisfied: llama-index-vector-stores-deeplake in /usr/local/lib/python3.11/dist-packages (0.3.2)\n",
            "Requirement already satisfied: deeplake>=3.9.12 in /usr/local/lib/python3.11/dist-packages (from llama-index-vector-stores-deeplake) (4.1.6)\n",
            "Collecting llama-index-core<0.13.0,>=0.12.0 (from llama-index-vector-stores-deeplake)\n",
            "  Using cached llama_index_core-0.12.16.post1-py3-none-any.whl.metadata (2.5 kB)\n",
            "Requirement already satisfied: pyjwt in /usr/local/lib/python3.11/dist-packages (from llama-index-vector-stores-deeplake) (2.10.1)\n",
            "Requirement already satisfied: numpy in /usr/local/lib/python3.11/dist-packages (from deeplake>=3.9.12->llama-index-vector-stores-deeplake) (1.26.4)\n",
            "Requirement already satisfied: PyYAML>=6.0.1 in /usr/local/lib/python3.11/dist-packages (from llama-index-core<0.13.0,>=0.12.0->llama-index-vector-stores-deeplake) (6.0.2)\n",
            "Requirement already satisfied: SQLAlchemy>=1.4.49 in /usr/local/lib/python3.11/dist-packages (from SQLAlchemy[asyncio]>=1.4.49->llama-index-core<0.13.0,>=0.12.0->llama-index-vector-stores-deeplake) (2.0.37)\n",
            "Requirement already satisfied: aiohttp<4.0.0,>=3.8.6 in /usr/local/lib/python3.11/dist-packages (from llama-index-core<0.13.0,>=0.12.0->llama-index-vector-stores-deeplake) (3.11.11)\n",
            "Requirement already satisfied: dataclasses-json in /usr/local/lib/python3.11/dist-packages (from llama-index-core<0.13.0,>=0.12.0->llama-index-vector-stores-deeplake) (0.6.7)\n",
            "Requirement already satisfied: deprecated>=1.2.9.3 in /usr/local/lib/python3.11/dist-packages (from llama-index-core<0.13.0,>=0.12.0->llama-index-vector-stores-deeplake) (1.2.18)\n",
            "Requirement already satisfied: dirtyjson<2.0.0,>=1.0.8 in /usr/local/lib/python3.11/dist-packages (from llama-index-core<0.13.0,>=0.12.0->llama-index-vector-stores-deeplake) (1.0.8)\n",
            "Requirement already satisfied: filetype<2.0.0,>=1.2.0 in /usr/local/lib/python3.11/dist-packages (from llama-index-core<0.13.0,>=0.12.0->llama-index-vector-stores-deeplake) (1.2.0)\n",
            "Requirement already satisfied: fsspec>=2023.5.0 in /usr/local/lib/python3.11/dist-packages (from llama-index-core<0.13.0,>=0.12.0->llama-index-vector-stores-deeplake) (2024.10.0)\n",
            "Requirement already satisfied: httpx in /usr/local/lib/python3.11/dist-packages (from llama-index-core<0.13.0,>=0.12.0->llama-index-vector-stores-deeplake) (0.28.1)\n",
            "Requirement already satisfied: nest-asyncio<2.0.0,>=1.5.8 in /usr/local/lib/python3.11/dist-packages (from llama-index-core<0.13.0,>=0.12.0->llama-index-vector-stores-deeplake) (1.6.0)\n",
            "Requirement already satisfied: networkx>=3.0 in /usr/local/lib/python3.11/dist-packages (from llama-index-core<0.13.0,>=0.12.0->llama-index-vector-stores-deeplake) (3.4.2)\n",
            "Requirement already satisfied: nltk>3.8.1 in /usr/local/lib/python3.11/dist-packages (from llama-index-core<0.13.0,>=0.12.0->llama-index-vector-stores-deeplake) (3.9.1)\n",
            "Requirement already satisfied: pillow>=9.0.0 in /usr/local/lib/python3.11/dist-packages (from llama-index-core<0.13.0,>=0.12.0->llama-index-vector-stores-deeplake) (11.1.0)\n",
            "Requirement already satisfied: pydantic>=2.8.0 in /usr/local/lib/python3.11/dist-packages (from llama-index-core<0.13.0,>=0.12.0->llama-index-vector-stores-deeplake) (2.10.6)\n",
            "Requirement already satisfied: requests>=2.31.0 in /usr/local/lib/python3.11/dist-packages (from llama-index-core<0.13.0,>=0.12.0->llama-index-vector-stores-deeplake) (2.32.3)\n",
            "Requirement already satisfied: tenacity!=8.4.0,<10.0.0,>=8.2.0 in /usr/local/lib/python3.11/dist-packages (from llama-index-core<0.13.0,>=0.12.0->llama-index-vector-stores-deeplake) (8.5.0)\n",
            "Requirement already satisfied: tiktoken>=0.3.3 in /usr/local/lib/python3.11/dist-packages (from llama-index-core<0.13.0,>=0.12.0->llama-index-vector-stores-deeplake) (0.8.0)\n",
            "Requirement already satisfied: tqdm<5.0.0,>=4.66.1 in /usr/local/lib/python3.11/dist-packages (from llama-index-core<0.13.0,>=0.12.0->llama-index-vector-stores-deeplake) (4.67.1)\n",
            "Requirement already satisfied: typing-extensions>=4.5.0 in /usr/local/lib/python3.11/dist-packages (from llama-index-core<0.13.0,>=0.12.0->llama-index-vector-stores-deeplake) (4.12.2)\n",
            "Requirement already satisfied: typing-inspect>=0.8.0 in /usr/local/lib/python3.11/dist-packages (from llama-index-core<0.13.0,>=0.12.0->llama-index-vector-stores-deeplake) (0.9.0)\n",
            "Requirement already satisfied: wrapt in /usr/local/lib/python3.11/dist-packages (from llama-index-core<0.13.0,>=0.12.0->llama-index-vector-stores-deeplake) (1.17.2)\n",
            "Requirement already satisfied: aiohappyeyeballs>=2.3.0 in /usr/local/lib/python3.11/dist-packages (from aiohttp<4.0.0,>=3.8.6->llama-index-core<0.13.0,>=0.12.0->llama-index-vector-stores-deeplake) (2.4.4)\n",
            "Requirement already satisfied: aiosignal>=1.1.2 in /usr/local/lib/python3.11/dist-packages (from aiohttp<4.0.0,>=3.8.6->llama-index-core<0.13.0,>=0.12.0->llama-index-vector-stores-deeplake) (1.3.2)\n",
            "Requirement already satisfied: attrs>=17.3.0 in /usr/local/lib/python3.11/dist-packages (from aiohttp<4.0.0,>=3.8.6->llama-index-core<0.13.0,>=0.12.0->llama-index-vector-stores-deeplake) (25.1.0)\n",
            "Requirement already satisfied: frozenlist>=1.1.1 in /usr/local/lib/python3.11/dist-packages (from aiohttp<4.0.0,>=3.8.6->llama-index-core<0.13.0,>=0.12.0->llama-index-vector-stores-deeplake) (1.5.0)\n",
            "Requirement already satisfied: multidict<7.0,>=4.5 in /usr/local/lib/python3.11/dist-packages (from aiohttp<4.0.0,>=3.8.6->llama-index-core<0.13.0,>=0.12.0->llama-index-vector-stores-deeplake) (6.1.0)\n",
            "Requirement already satisfied: propcache>=0.2.0 in /usr/local/lib/python3.11/dist-packages (from aiohttp<4.0.0,>=3.8.6->llama-index-core<0.13.0,>=0.12.0->llama-index-vector-stores-deeplake) (0.2.1)\n",
            "Requirement already satisfied: yarl<2.0,>=1.17.0 in /usr/local/lib/python3.11/dist-packages (from aiohttp<4.0.0,>=3.8.6->llama-index-core<0.13.0,>=0.12.0->llama-index-vector-stores-deeplake) (1.18.3)\n",
            "Requirement already satisfied: click in /usr/local/lib/python3.11/dist-packages (from nltk>3.8.1->llama-index-core<0.13.0,>=0.12.0->llama-index-vector-stores-deeplake) (8.1.8)\n",
            "Requirement already satisfied: joblib in /usr/local/lib/python3.11/dist-packages (from nltk>3.8.1->llama-index-core<0.13.0,>=0.12.0->llama-index-vector-stores-deeplake) (1.4.2)\n",
            "Requirement already satisfied: regex>=2021.8.3 in /usr/local/lib/python3.11/dist-packages (from nltk>3.8.1->llama-index-core<0.13.0,>=0.12.0->llama-index-vector-stores-deeplake) (2024.11.6)\n",
            "Requirement already satisfied: annotated-types>=0.6.0 in /usr/local/lib/python3.11/dist-packages (from pydantic>=2.8.0->llama-index-core<0.13.0,>=0.12.0->llama-index-vector-stores-deeplake) (0.7.0)\n",
            "Requirement already satisfied: pydantic-core==2.27.2 in /usr/local/lib/python3.11/dist-packages (from pydantic>=2.8.0->llama-index-core<0.13.0,>=0.12.0->llama-index-vector-stores-deeplake) (2.27.2)\n",
            "Requirement already satisfied: charset-normalizer<4,>=2 in /usr/local/lib/python3.11/dist-packages (from requests>=2.31.0->llama-index-core<0.13.0,>=0.12.0->llama-index-vector-stores-deeplake) (3.4.1)\n",
            "Requirement already satisfied: idna<4,>=2.5 in /usr/local/lib/python3.11/dist-packages (from requests>=2.31.0->llama-index-core<0.13.0,>=0.12.0->llama-index-vector-stores-deeplake) (3.10)\n",
            "Requirement already satisfied: urllib3<3,>=1.21.1 in /usr/local/lib/python3.11/dist-packages (from requests>=2.31.0->llama-index-core<0.13.0,>=0.12.0->llama-index-vector-stores-deeplake) (2.3.0)\n",
            "Requirement already satisfied: certifi>=2017.4.17 in /usr/local/lib/python3.11/dist-packages (from requests>=2.31.0->llama-index-core<0.13.0,>=0.12.0->llama-index-vector-stores-deeplake) (2025.1.31)\n",
            "Requirement already satisfied: greenlet!=0.4.17 in /usr/local/lib/python3.11/dist-packages (from SQLAlchemy>=1.4.49->SQLAlchemy[asyncio]>=1.4.49->llama-index-core<0.13.0,>=0.12.0->llama-index-vector-stores-deeplake) (3.1.1)\n",
            "Requirement already satisfied: mypy-extensions>=0.3.0 in /usr/local/lib/python3.11/dist-packages (from typing-inspect>=0.8.0->llama-index-core<0.13.0,>=0.12.0->llama-index-vector-stores-deeplake) (1.0.0)\n",
            "Requirement already satisfied: marshmallow<4.0.0,>=3.18.0 in /usr/local/lib/python3.11/dist-packages (from dataclasses-json->llama-index-core<0.13.0,>=0.12.0->llama-index-vector-stores-deeplake) (3.26.1)\n",
            "Requirement already satisfied: anyio in /usr/local/lib/python3.11/dist-packages (from httpx->llama-index-core<0.13.0,>=0.12.0->llama-index-vector-stores-deeplake) (3.7.1)\n",
            "Requirement already satisfied: httpcore==1.* in /usr/local/lib/python3.11/dist-packages (from httpx->llama-index-core<0.13.0,>=0.12.0->llama-index-vector-stores-deeplake) (1.0.7)\n",
            "Requirement already satisfied: h11<0.15,>=0.13 in /usr/local/lib/python3.11/dist-packages (from httpcore==1.*->httpx->llama-index-core<0.13.0,>=0.12.0->llama-index-vector-stores-deeplake) (0.14.0)\n",
            "Requirement already satisfied: packaging>=17.0 in /usr/local/lib/python3.11/dist-packages (from marshmallow<4.0.0,>=3.18.0->dataclasses-json->llama-index-core<0.13.0,>=0.12.0->llama-index-vector-stores-deeplake) (24.2)\n",
            "Requirement already satisfied: sniffio>=1.1 in /usr/local/lib/python3.11/dist-packages (from anyio->httpx->llama-index-core<0.13.0,>=0.12.0->llama-index-vector-stores-deeplake) (1.3.1)\n",
            "Using cached llama_index_core-0.12.16.post1-py3-none-any.whl (1.6 MB)\n",
            "Installing collected packages: llama-index-core\n",
            "  Attempting uninstall: llama-index-core\n",
            "    Found existing installation: llama-index-core 0.10.68.post1\n",
            "    Uninstalling llama-index-core-0.10.68.post1:\n",
            "      Successfully uninstalled llama-index-core-0.10.68.post1\n",
            "\u001b[31mERROR: pip's dependency resolver does not currently take into account all the packages that are installed. This behaviour is the source of the following dependency conflicts.\n",
            "llama-index-readers-file 0.1.33 requires llama-index-core<0.11.0,>=0.10.37.post1, but you have llama-index-core 0.12.16.post1 which is incompatible.\n",
            "llama-index-agent-openai 0.1.7 requires llama-index-core<0.11.0,>=0.10.1, but you have llama-index-core 0.12.16.post1 which is incompatible.\n",
            "llama-index-question-gen-openai 0.1.3 requires llama-index-core<0.11.0,>=0.10.1, but you have llama-index-core 0.12.16.post1 which is incompatible.\n",
            "llama-index-embeddings-openai 0.1.11 requires llama-index-core<0.11.0,>=0.10.1, but you have llama-index-core 0.12.16.post1 which is incompatible.\n",
            "llama-index-multi-modal-llms-openai 0.1.9 requires llama-index-core<0.11.0,>=0.10.1, but you have llama-index-core 0.12.16.post1 which is incompatible.\n",
            "llama-index 0.10.1 requires llama-index-core<0.11.0,>=0.10.0, but you have llama-index-core 0.12.16.post1 which is incompatible.\n",
            "llama-index-program-openai 0.1.7 requires llama-index-core<0.11.0,>=0.10.57, but you have llama-index-core 0.12.16.post1 which is incompatible.\n",
            "llama-index-llms-openai 0.1.31 requires llama-index-core<0.11.0,>=0.10.57, but you have llama-index-core 0.12.16.post1 which is incompatible.\u001b[0m\u001b[31m\n",
            "\u001b[0mSuccessfully installed llama-index-core-0.12.16.post1\n",
            "Requirement already satisfied: deeplake in /usr/local/lib/python3.11/dist-packages (4.1.6)\n",
            "Requirement already satisfied: numpy in /usr/local/lib/python3.11/dist-packages (from deeplake) (1.26.4)\n",
            "Requirement already satisfied: llama-index-readers-file in /usr/local/lib/python3.11/dist-packages (0.1.33)\n",
            "Requirement already satisfied: beautifulsoup4<5.0.0,>=4.12.3 in /usr/local/lib/python3.11/dist-packages (from llama-index-readers-file) (4.13.1)\n",
            "Collecting llama-index-core<0.11.0,>=0.10.37.post1 (from llama-index-readers-file)\n",
            "  Using cached llama_index_core-0.10.68.post1-py3-none-any.whl.metadata (2.5 kB)\n",
            "Requirement already satisfied: pypdf<5.0.0,>=4.0.1 in /usr/local/lib/python3.11/dist-packages (from llama-index-readers-file) (4.3.1)\n",
            "Requirement already satisfied: striprtf<0.0.27,>=0.0.26 in /usr/local/lib/python3.11/dist-packages (from llama-index-readers-file) (0.0.26)\n",
            "Requirement already satisfied: soupsieve>1.2 in /usr/local/lib/python3.11/dist-packages (from beautifulsoup4<5.0.0,>=4.12.3->llama-index-readers-file) (2.6)\n",
            "Requirement already satisfied: typing-extensions>=4.0.0 in /usr/local/lib/python3.11/dist-packages (from beautifulsoup4<5.0.0,>=4.12.3->llama-index-readers-file) (4.12.2)\n",
            "Requirement already satisfied: PyYAML>=6.0.1 in /usr/local/lib/python3.11/dist-packages (from llama-index-core<0.11.0,>=0.10.37.post1->llama-index-readers-file) (6.0.2)\n",
            "Requirement already satisfied: SQLAlchemy>=1.4.49 in /usr/local/lib/python3.11/dist-packages (from SQLAlchemy[asyncio]>=1.4.49->llama-index-core<0.11.0,>=0.10.37.post1->llama-index-readers-file) (2.0.37)\n",
            "Requirement already satisfied: aiohttp<4.0.0,>=3.8.6 in /usr/local/lib/python3.11/dist-packages (from llama-index-core<0.11.0,>=0.10.37.post1->llama-index-readers-file) (3.11.11)\n",
            "Requirement already satisfied: dataclasses-json in /usr/local/lib/python3.11/dist-packages (from llama-index-core<0.11.0,>=0.10.37.post1->llama-index-readers-file) (0.6.7)\n",
            "Requirement already satisfied: deprecated>=1.2.9.3 in /usr/local/lib/python3.11/dist-packages (from llama-index-core<0.11.0,>=0.10.37.post1->llama-index-readers-file) (1.2.18)\n",
            "Requirement already satisfied: dirtyjson<2.0.0,>=1.0.8 in /usr/local/lib/python3.11/dist-packages (from llama-index-core<0.11.0,>=0.10.37.post1->llama-index-readers-file) (1.0.8)\n",
            "Requirement already satisfied: fsspec>=2023.5.0 in /usr/local/lib/python3.11/dist-packages (from llama-index-core<0.11.0,>=0.10.37.post1->llama-index-readers-file) (2024.10.0)\n",
            "Requirement already satisfied: httpx in /usr/local/lib/python3.11/dist-packages (from llama-index-core<0.11.0,>=0.10.37.post1->llama-index-readers-file) (0.28.1)\n",
            "Requirement already satisfied: nest-asyncio<2.0.0,>=1.5.8 in /usr/local/lib/python3.11/dist-packages (from llama-index-core<0.11.0,>=0.10.37.post1->llama-index-readers-file) (1.6.0)\n",
            "Requirement already satisfied: networkx>=3.0 in /usr/local/lib/python3.11/dist-packages (from llama-index-core<0.11.0,>=0.10.37.post1->llama-index-readers-file) (3.4.2)\n",
            "Requirement already satisfied: nltk!=3.9,>=3.8.1 in /usr/local/lib/python3.11/dist-packages (from llama-index-core<0.11.0,>=0.10.37.post1->llama-index-readers-file) (3.9.1)\n",
            "Requirement already satisfied: numpy<2.0.0 in /usr/local/lib/python3.11/dist-packages (from llama-index-core<0.11.0,>=0.10.37.post1->llama-index-readers-file) (1.26.4)\n",
            "Requirement already satisfied: pandas in /usr/local/lib/python3.11/dist-packages (from llama-index-core<0.11.0,>=0.10.37.post1->llama-index-readers-file) (2.2.2)\n",
            "Requirement already satisfied: pillow>=9.0.0 in /usr/local/lib/python3.11/dist-packages (from llama-index-core<0.11.0,>=0.10.37.post1->llama-index-readers-file) (11.1.0)\n",
            "Requirement already satisfied: pydantic<3.0 in /usr/local/lib/python3.11/dist-packages (from llama-index-core<0.11.0,>=0.10.37.post1->llama-index-readers-file) (2.10.6)\n",
            "Requirement already satisfied: requests>=2.31.0 in /usr/local/lib/python3.11/dist-packages (from llama-index-core<0.11.0,>=0.10.37.post1->llama-index-readers-file) (2.32.3)\n",
            "Requirement already satisfied: tenacity!=8.4.0,<9.0.0,>=8.2.0 in /usr/local/lib/python3.11/dist-packages (from llama-index-core<0.11.0,>=0.10.37.post1->llama-index-readers-file) (8.5.0)\n",
            "Requirement already satisfied: tiktoken>=0.3.3 in /usr/local/lib/python3.11/dist-packages (from llama-index-core<0.11.0,>=0.10.37.post1->llama-index-readers-file) (0.8.0)\n",
            "Requirement already satisfied: tqdm<5.0.0,>=4.66.1 in /usr/local/lib/python3.11/dist-packages (from llama-index-core<0.11.0,>=0.10.37.post1->llama-index-readers-file) (4.67.1)\n",
            "Requirement already satisfied: typing-inspect>=0.8.0 in /usr/local/lib/python3.11/dist-packages (from llama-index-core<0.11.0,>=0.10.37.post1->llama-index-readers-file) (0.9.0)\n",
            "Requirement already satisfied: wrapt in /usr/local/lib/python3.11/dist-packages (from llama-index-core<0.11.0,>=0.10.37.post1->llama-index-readers-file) (1.17.2)\n",
            "Requirement already satisfied: aiohappyeyeballs>=2.3.0 in /usr/local/lib/python3.11/dist-packages (from aiohttp<4.0.0,>=3.8.6->llama-index-core<0.11.0,>=0.10.37.post1->llama-index-readers-file) (2.4.4)\n",
            "Requirement already satisfied: aiosignal>=1.1.2 in /usr/local/lib/python3.11/dist-packages (from aiohttp<4.0.0,>=3.8.6->llama-index-core<0.11.0,>=0.10.37.post1->llama-index-readers-file) (1.3.2)\n",
            "Requirement already satisfied: attrs>=17.3.0 in /usr/local/lib/python3.11/dist-packages (from aiohttp<4.0.0,>=3.8.6->llama-index-core<0.11.0,>=0.10.37.post1->llama-index-readers-file) (25.1.0)\n",
            "Requirement already satisfied: frozenlist>=1.1.1 in /usr/local/lib/python3.11/dist-packages (from aiohttp<4.0.0,>=3.8.6->llama-index-core<0.11.0,>=0.10.37.post1->llama-index-readers-file) (1.5.0)\n",
            "Requirement already satisfied: multidict<7.0,>=4.5 in /usr/local/lib/python3.11/dist-packages (from aiohttp<4.0.0,>=3.8.6->llama-index-core<0.11.0,>=0.10.37.post1->llama-index-readers-file) (6.1.0)\n",
            "Requirement already satisfied: propcache>=0.2.0 in /usr/local/lib/python3.11/dist-packages (from aiohttp<4.0.0,>=3.8.6->llama-index-core<0.11.0,>=0.10.37.post1->llama-index-readers-file) (0.2.1)\n",
            "Requirement already satisfied: yarl<2.0,>=1.17.0 in /usr/local/lib/python3.11/dist-packages (from aiohttp<4.0.0,>=3.8.6->llama-index-core<0.11.0,>=0.10.37.post1->llama-index-readers-file) (1.18.3)\n",
            "Requirement already satisfied: click in /usr/local/lib/python3.11/dist-packages (from nltk!=3.9,>=3.8.1->llama-index-core<0.11.0,>=0.10.37.post1->llama-index-readers-file) (8.1.8)\n",
            "Requirement already satisfied: joblib in /usr/local/lib/python3.11/dist-packages (from nltk!=3.9,>=3.8.1->llama-index-core<0.11.0,>=0.10.37.post1->llama-index-readers-file) (1.4.2)\n",
            "Requirement already satisfied: regex>=2021.8.3 in /usr/local/lib/python3.11/dist-packages (from nltk!=3.9,>=3.8.1->llama-index-core<0.11.0,>=0.10.37.post1->llama-index-readers-file) (2024.11.6)\n",
            "Requirement already satisfied: annotated-types>=0.6.0 in /usr/local/lib/python3.11/dist-packages (from pydantic<3.0->llama-index-core<0.11.0,>=0.10.37.post1->llama-index-readers-file) (0.7.0)\n",
            "Requirement already satisfied: pydantic-core==2.27.2 in /usr/local/lib/python3.11/dist-packages (from pydantic<3.0->llama-index-core<0.11.0,>=0.10.37.post1->llama-index-readers-file) (2.27.2)\n",
            "Requirement already satisfied: charset-normalizer<4,>=2 in /usr/local/lib/python3.11/dist-packages (from requests>=2.31.0->llama-index-core<0.11.0,>=0.10.37.post1->llama-index-readers-file) (3.4.1)\n",
            "Requirement already satisfied: idna<4,>=2.5 in /usr/local/lib/python3.11/dist-packages (from requests>=2.31.0->llama-index-core<0.11.0,>=0.10.37.post1->llama-index-readers-file) (3.10)\n",
            "Requirement already satisfied: urllib3<3,>=1.21.1 in /usr/local/lib/python3.11/dist-packages (from requests>=2.31.0->llama-index-core<0.11.0,>=0.10.37.post1->llama-index-readers-file) (2.3.0)\n",
            "Requirement already satisfied: certifi>=2017.4.17 in /usr/local/lib/python3.11/dist-packages (from requests>=2.31.0->llama-index-core<0.11.0,>=0.10.37.post1->llama-index-readers-file) (2025.1.31)\n",
            "Requirement already satisfied: greenlet!=0.4.17 in /usr/local/lib/python3.11/dist-packages (from SQLAlchemy>=1.4.49->SQLAlchemy[asyncio]>=1.4.49->llama-index-core<0.11.0,>=0.10.37.post1->llama-index-readers-file) (3.1.1)\n",
            "Requirement already satisfied: mypy-extensions>=0.3.0 in /usr/local/lib/python3.11/dist-packages (from typing-inspect>=0.8.0->llama-index-core<0.11.0,>=0.10.37.post1->llama-index-readers-file) (1.0.0)\n",
            "Requirement already satisfied: marshmallow<4.0.0,>=3.18.0 in /usr/local/lib/python3.11/dist-packages (from dataclasses-json->llama-index-core<0.11.0,>=0.10.37.post1->llama-index-readers-file) (3.26.1)\n",
            "Requirement already satisfied: anyio in /usr/local/lib/python3.11/dist-packages (from httpx->llama-index-core<0.11.0,>=0.10.37.post1->llama-index-readers-file) (3.7.1)\n",
            "Requirement already satisfied: httpcore==1.* in /usr/local/lib/python3.11/dist-packages (from httpx->llama-index-core<0.11.0,>=0.10.37.post1->llama-index-readers-file) (1.0.7)\n",
            "Requirement already satisfied: h11<0.15,>=0.13 in /usr/local/lib/python3.11/dist-packages (from httpcore==1.*->httpx->llama-index-core<0.11.0,>=0.10.37.post1->llama-index-readers-file) (0.14.0)\n",
            "Requirement already satisfied: python-dateutil>=2.8.2 in /usr/local/lib/python3.11/dist-packages (from pandas->llama-index-core<0.11.0,>=0.10.37.post1->llama-index-readers-file) (2.8.2)\n",
            "Requirement already satisfied: pytz>=2020.1 in /usr/local/lib/python3.11/dist-packages (from pandas->llama-index-core<0.11.0,>=0.10.37.post1->llama-index-readers-file) (2025.1)\n",
            "Requirement already satisfied: tzdata>=2022.7 in /usr/local/lib/python3.11/dist-packages (from pandas->llama-index-core<0.11.0,>=0.10.37.post1->llama-index-readers-file) (2025.1)\n",
            "Requirement already satisfied: packaging>=17.0 in /usr/local/lib/python3.11/dist-packages (from marshmallow<4.0.0,>=3.18.0->dataclasses-json->llama-index-core<0.11.0,>=0.10.37.post1->llama-index-readers-file) (24.2)\n",
            "Requirement already satisfied: six>=1.5 in /usr/local/lib/python3.11/dist-packages (from python-dateutil>=2.8.2->pandas->llama-index-core<0.11.0,>=0.10.37.post1->llama-index-readers-file) (1.17.0)\n",
            "Requirement already satisfied: sniffio>=1.1 in /usr/local/lib/python3.11/dist-packages (from anyio->httpx->llama-index-core<0.11.0,>=0.10.37.post1->llama-index-readers-file) (1.3.1)\n",
            "Using cached llama_index_core-0.10.68.post1-py3-none-any.whl (1.6 MB)\n",
            "Installing collected packages: llama-index-core\n",
            "  Attempting uninstall: llama-index-core\n",
            "    Found existing installation: llama-index-core 0.12.16.post1\n",
            "    Uninstalling llama-index-core-0.12.16.post1:\n",
            "      Successfully uninstalled llama-index-core-0.12.16.post1\n",
            "\u001b[31mERROR: pip's dependency resolver does not currently take into account all the packages that are installed. This behaviour is the source of the following dependency conflicts.\n",
            "llama-index-vector-stores-deeplake 0.3.2 requires llama-index-core<0.13.0,>=0.12.0, but you have llama-index-core 0.10.68.post1 which is incompatible.\u001b[0m\u001b[31m\n",
            "\u001b[0mSuccessfully installed llama-index-core-0.10.68.post1\n"
          ]
        }
      ],
      "source": [
        "!pip install llama-index==0.10.1\n",
        "!pip install llama-index-vector-stores-deeplake\n",
        "!pip install deeplake\n",
        "!pip install llama-index-readers-file"
      ]
    },
    {
      "cell_type": "code",
      "execution_count": 10,
      "metadata": {
        "colab": {
          "base_uri": "https://localhost:8080/"
        },
        "id": "qOj7Vq67Yxt2",
        "outputId": "4d28836a-e7ec-4c8e-be15-05c3ad804f11"
      },
      "outputs": [
        {
          "output_type": "stream",
          "name": "stdout",
          "text": [
            "Drive already mounted at /content/drive; to attempt to forcibly remount, call drive.mount(\"/content/drive\", force_remount=True).\n"
          ]
        }
      ],
      "source": [
        "from google.colab import drive\n",
        "drive.mount('/content/drive')"
      ]
    },
    {
      "cell_type": "code",
      "execution_count": 11,
      "metadata": {
        "id": "PuH8El0yXL_X"
      },
      "outputs": [],
      "source": [
        "# OpenAI auth\n",
        "import os\n",
        "import openai\n",
        "\n",
        "f = open(\"drive/MyDrive/api_key.txt\", \"r\")\n",
        "API_KEY = f.readline().strip()\n",
        "f.close()\n",
        "\n",
        "os.environ['OPENAI_API_KEY'] = API_KEY\n",
        "openai.api_key = os.getenv(\"OPENAI_API_KEY\")\n",
        "\n",
        "# Active loop auth for deep lake\n",
        "f = open(\"drive/MyDrive/activeloop_key.txt\", \"r\")\n",
        "API_token=f.readline().strip()\n",
        "f.close()\n",
        "ACTIVELOOP_TOKEN=API_token\n",
        "os.environ['ACTIVELOOP_TOKEN'] =ACTIVELOOP_TOKEN\n",
        "\n",
        "# For Google Colab and Activeloop while waiting for Activeloop (April 2024) pending new version\n",
        "#This line writes the string \"nameserver 8.8.8.8\" to the file. This is specifying that the DNS server the system\n",
        "#should use is at the IP address 8.8.8.8, which is one of Google's Public DNS servers.\n",
        "with open('/etc/resolv.conf', 'w') as file:\n",
        "   file.write(\"nameserver 8.8.8.8\")\n"
      ]
    },
    {
      "cell_type": "code",
      "execution_count": 12,
      "metadata": {
        "id": "KX-0eMaqME4q"
      },
      "outputs": [],
      "source": [
        "from llama_index.core import VectorStoreIndex, SimpleDirectoryReader, Document\n",
        "from llama_index.vector_stores.deeplake import DeepLakeVectorStore"
      ]
    },
    {
      "cell_type": "markdown",
      "metadata": {
        "id": "cQeQVevmMinp"
      },
      "source": [
        " # Collecting and preparing the documents"
      ]
    },
    {
      "cell_type": "code",
      "execution_count": 13,
      "metadata": {
        "colab": {
          "base_uri": "https://localhost:8080/"
        },
        "id": "96kT6lflMN66",
        "outputId": "bf8c1f64-a4db-4433-c593-5a8124ab68b3"
      },
      "outputs": [
        {
          "output_type": "stream",
          "name": "stdout",
          "text": [
            "mkdir: cannot create directory ‘data’: File exists\n"
          ]
        }
      ],
      "source": [
        "!mkdir data"
      ]
    },
    {
      "cell_type": "code",
      "execution_count": 14,
      "metadata": {
        "id": "wGEV34ngMnXL"
      },
      "outputs": [],
      "source": [
        "import requests\n",
        "from bs4 import BeautifulSoup\n",
        "import re\n",
        "import os\n",
        "\n",
        "urls = [\n",
        "    \"https://github.com/VisDrone/VisDrone-Dataset\",\n",
        "    \"https://paperswithcode.com/dataset/visdrone\",\n",
        "    \"https://openaccess.thecvf.com/content_ECCVW_2018/papers/11133/Zhu_VisDrone-DET2018_The_Vision_Meets_Drone_Object_Detection_in_Image_Challenge_ECCVW_2018_paper.pdf\",\n",
        "    \"https://github.com/VisDrone/VisDrone2018-MOT-toolkit\",\n",
        "    \"https://en.wikipedia.org/wiki/Object_detection\",\n",
        "    \"https://en.wikipedia.org/wiki/Computer_vision\",\n",
        "    \"https://en.wikipedia.org/wiki/Convolutional_neural_network\",\n",
        "    \"https://en.wikipedia.org/wiki/Unmanned_aerial_vehicle\",\n",
        "    \"https://www.faa.gov/uas/\",\n",
        "    \"https://www.tensorflow.org/\",\n",
        "    \"https://pytorch.org/\",\n",
        "    \"https://keras.io/\",\n",
        "    \"https://arxiv.org/abs/1804.06985\",\n",
        "    \"https://arxiv.org/abs/2202.11983\",\n",
        "    \"https://motchallenge.net/\",\n",
        "    \"http://www.cvlibs.net/datasets/kitti/\",\n",
        "    \"https://www.dronedeploy.com/\",\n",
        "    \"https://www.dji.com/\",\n",
        "    \"https://arxiv.org/\",\n",
        "    \"https://openaccess.thecvf.com/\",\n",
        "    \"https://roboflow.com/\",\n",
        "    \"https://www.kaggle.com/\",\n",
        "    \"https://paperswithcode.com/\",\n",
        "    \"https://github.com/\"\n",
        "]"
      ]
    },
    {
      "cell_type": "code",
      "execution_count": 15,
      "metadata": {
        "colab": {
          "base_uri": "https://localhost:8080/"
        },
        "id": "Y02W484RNKFE",
        "outputId": "e07c8ff4-f547-470a-f0da-7fade118a094"
      },
      "outputs": [
        {
          "output_type": "stream",
          "name": "stderr",
          "text": [
            "WARNING:bs4.dammit:Some characters could not be decoded, and were replaced with REPLACEMENT CHARACTER.\n"
          ]
        },
        {
          "output_type": "stream",
          "name": "stdout",
          "text": [
            "Content(ones that were possible) written to files in the './data/' directory.\n"
          ]
        }
      ],
      "source": [
        "import requests\n",
        "import re\n",
        "import os\n",
        "from bs4 import BeautifulSoup\n",
        "\n",
        "def clean_text(content):\n",
        "  content = re.sub(r'\\[\\d+\\]', '', content)\n",
        "  content = re.sub(r'\\[^\\w\\s\\.]', '', content)\n",
        "  return content\n",
        "\n",
        "def fetch_and_clean(url):\n",
        "  try:\n",
        "    response = requests.get(url)\n",
        "    response.raise_for_status() # bad responses\n",
        "    soup = BeautifulSoup(response.content, 'html.parser')\n",
        "\n",
        "    # Prioritize \"mw-parser-output\" but fall back to \"content\" class if not found\n",
        "    content = soup.find('div', {'class': 'mw-parser-output'}) or soup.find('div', {'id': 'content'})\n",
        "    if content is None:\n",
        "      return None\n",
        "\n",
        "    # Remove specific sections, including nested ones\n",
        "    for section_title in ['References', 'Bibliography', 'External links', 'See also', 'Notes']:\n",
        "      section = content.find('span', id=section_title)\n",
        "      while section:\n",
        "        for sib in section.parent.find_next_siblings():\n",
        "          sib.decompose()\n",
        "        section.parent.decompose()\n",
        "        section = content.find('span', id=section_title)\n",
        "\n",
        "    # Extract and clean text\n",
        "    text = content.get_text(separator=' ', strip=True)\n",
        "    text = clean_text(text)\n",
        "    return text\n",
        "  except requests.exceptions.RequestException as e:\n",
        "    print(f\"Error fetching content from {url}: {e}\")\n",
        "    return None  # Return None on error\n",
        "\n",
        "output_dir = './data/'\n",
        "os.makedirs(output_dir, exist_ok=True)\n",
        "\n",
        "# Processing each URL (and skipping invalid ones)\n",
        "for url in urls:\n",
        "  article_name = url.split('/')[-1].replace('html', '')\n",
        "  filename = os.path.join(output_dir, f\"{article_name}.txt\")\n",
        "\n",
        "  clean_article_text = fetch_and_clean(url)\n",
        "  if clean_article_text:\n",
        "    with open(filename, 'w', encoding='utf-8') as file:\n",
        "      file.write(clean_article_text)\n",
        "\n",
        "print(f\"Content(ones that were possible) written to files in the '{output_dir}' directory.\")"
      ]
    },
    {
      "cell_type": "code",
      "execution_count": 16,
      "metadata": {
        "id": "jzPskEABQ2uF"
      },
      "outputs": [],
      "source": [
        "# load\n",
        "documents = SimpleDirectoryReader(\"./data/\").load_data()"
      ]
    },
    {
      "cell_type": "code",
      "execution_count": 17,
      "metadata": {
        "colab": {
          "base_uri": "https://localhost:8080/"
        },
        "id": "plcfPu1eRwqW",
        "outputId": "6391ec94-1949-4469-b676-babfaa39ca04"
      },
      "outputs": [
        {
          "output_type": "execute_result",
          "data": {
            "text/plain": [
              "Document(id_='6b2e0306-db45-4d62-a3a9-482b5e3759fa', embedding=None, metadata={'file_path': '/content/data/1804.06985.txt', 'file_name': '1804.06985.txt', 'file_type': 'text/plain', 'file_size': 3959, 'creation_date': '2025-02-07', 'last_modified_date': '2025-02-07'}, excluded_embed_metadata_keys=['file_name', 'file_type', 'file_size', 'creation_date', 'last_modified_date', 'last_accessed_date'], excluded_llm_metadata_keys=['file_name', 'file_type', 'file_size', 'creation_date', 'last_modified_date', 'last_accessed_date'], relationships={}, text=\"High Energy Physics - Theory arXiv:1804.06985 (hep-th) [Submitted on 19 Apr 2018] Title: A Near Horizon Extreme Binary Black Hole Geometry Authors: Jacob Ciafre , Maria J. Rodriguez View a PDF of the paper titled A Near Horizon Extreme Binary Black Hole Geometry, by Jacob Ciafre and Maria J. Rodriguez View PDF Abstract: A new solution of four-dimensional vacuum General Relativity is presented. It describes the near horizon region of the extreme (maximally spinning) binary black hole system with two identical extreme Kerr black holes held in equilibrium by a massless strut. This is the first example of a non-supersymmetric, asymptotically flat near horizon extreme binary black hole geometry of two uncharged black holes. The black holes are co-rotating, and the solution is uniquely specified by the mass. The binary extreme system has finite entropy. The distance between the black holes is fixed, but there is a zero-distance limit where the objects collapse into one. This limiting geometry corresponds to the near horizon extreme Kerr (NHEK) black hole. Comments: 1 figure Subjects: High Energy Physics - Theory (hep-th) ; High Energy Astrophysical Phenomena (astro-ph.HE); General Relativity and Quantum Cosmology (gr-qc) Cite as: arXiv:1804.06985 [hep-th] (or arXiv:1804.06985v1 [hep-th] for this version) https://doi.org/10.48550/arXiv.1804.06985 Focus to learn more arXiv-issued DOI via DataCite Related DOI : https://doi.org/10.1140/epjc/s10052-019-7188-3 Focus to learn more DOI(s) linking to related resources Submission history From: Maria J. Rodriguez [ view email ] [v1] Thu, 19 Apr 2018 03:15:45 UTC (173 KB) Full-text links: Access Paper: View a PDF of the paper titled A Near Horizon Extreme Binary Black Hole Geometry, by Jacob Ciafre and Maria J. Rodriguez View PDF TeX Source Other Formats view license Current browse context: hep-th <\\xa0prev | next\\xa0> new | recent | 2018-04 Change to browse by: astro-ph astro-ph.HE gr-qc References & Citations INSPIRE HEP NASA ADS Google Scholar Semantic Scholar a export BibTeX citation Loading... BibTeX formatted citation × loading... Data provided by: Bookmark Bibliographic Tools Bibliographic and Citation Tools Bibliographic Explorer Toggle Bibliographic Explorer ( What is the Explorer? ) Connected Papers Toggle Connected Papers ( What is Connected Papers? ) Litmaps Toggle Litmaps ( What is Litmaps? ) scite.ai Toggle scite Smart Citations ( What are Smart Citations? ) Code, Data, Media Code, Data and Media Associated with this Article alphaXiv Toggle alphaXiv ( What is alphaXiv? ) Links to Code Toggle CatalyzeX Code Finder for Papers ( What is CatalyzeX? ) DagsHub Toggle DagsHub ( What is DagsHub? ) GotitPub Toggle Gotit.pub ( What is GotitPub? ) Huggingface Toggle Hugging Face ( What is Huggingface? ) Links to Code Toggle Papers with Code ( What is Papers with Code? ) ScienceCast Toggle ScienceCast ( What is ScienceCast? ) Demos Demos Replicate Toggle Replicate ( What is Replicate? ) Spaces Toggle Hugging Face Spaces ( What is Spaces? ) Spaces Toggle TXYZ.AI ( What is TXYZ.AI? ) Related Papers Recommenders and Search Tools Link to Influence Flower Influence Flower ( What are Influence Flowers? ) Core recommender toggle CORE Recommender ( What is CORE? ) IArxiv recommender toggle IArxiv Recommender ( What is IArxiv? ) Author Venue Institution Topic About arXivLabs arXivLabs: experimental projects with community collaborators arXivLabs is a framework that allows collaborators to develop and share new arXiv features directly on our website. Both individuals and organizations that work with arXivLabs have embraced and accepted our values of openness, community, excellence, and user data privacy. arXiv is committed to these values and only works with partners that adhere to them. Have an idea for a project that will add value for arXiv's community? Learn more about arXivLabs . Which authors of this paper are endorsers? | Disable MathJax ( What is MathJax? )\", mimetype='text/plain', start_char_idx=None, end_char_idx=None, text_template='{metadata_str}\\n\\n{content}', metadata_template='{key}: {value}', metadata_seperator='\\n')"
            ]
          },
          "metadata": {},
          "execution_count": 17
        }
      ],
      "source": [
        "documents[0]"
      ]
    },
    {
      "cell_type": "markdown",
      "metadata": {
        "id": "j58EK1pMShJc"
      },
      "source": [
        "# Vector storage"
      ]
    },
    {
      "cell_type": "code",
      "execution_count": null,
      "metadata": {
        "colab": {
          "base_uri": "https://localhost:8080/"
        },
        "id": "D1Lq6NHQSk-8",
        "outputId": "fabb25bb-4fa0-4238-e3cd-6a4b0247f4db"
      },
      "outputs": [
        {
          "name": "stdout",
          "output_type": "stream",
          "text": [
            "Your Deep Lake dataset has been successfully created!\n"
          ]
        },
        {
          "name": "stderr",
          "output_type": "stream",
          "text": [
            "\r\r"
          ]
        },
        {
          "name": "stdout",
          "output_type": "stream",
          "text": [
            "Uploading data to deeplake dataset.\n"
          ]
        },
        {
          "name": "stderr",
          "output_type": "stream",
          "text": [
            "100%|██████████| 96/96 [00:52<00:00,  1.82it/s]\n",
            "\\"
          ]
        },
        {
          "name": "stdout",
          "output_type": "stream",
          "text": [
            "Dataset(path='hub://rag_example/drone_v2', tensors=['text', 'metadata', 'embedding', 'id'])\n",
            "\n",
            "  tensor      htype      shape      dtype  compression\n",
            "  -------    -------    -------    -------  ------- \n",
            "   text       text      (96, 1)      str     None   \n",
            " metadata     json      (96, 1)      str     None   \n",
            " embedding  embedding  (96, 1536)  float32   None   \n",
            "    id        text      (96, 1)      str     None   \n"
          ]
        },
        {
          "name": "stderr",
          "output_type": "stream",
          "text": [
            "\r \r"
          ]
        }
      ],
      "source": [
        "from llama_index.core import StorageContext\n",
        "\n",
        "vector_store_path = \"hub://rag_example/drone_v2\"\n",
        "dataset_path = \"hub://rag_example/drone_v2\"\n",
        "\n",
        "vector_store = DeepLakeVectorStore(dataset_path=dataset_path, overwrite=True)\n",
        "storage_context = StorageContext.from_defaults(vector_store=vector_store)\n",
        "\n",
        "# Create an index over the documents\n",
        "index = VectorStoreIndex.from_documents(documents, storage_context=storage_context)"
      ]
    },
    {
      "cell_type": "code",
      "execution_count": null,
      "metadata": {
        "colab": {
          "base_uri": "https://localhost:8080/"
        },
        "id": "eML-4vWkiXCH",
        "outputId": "9e5f0d38-60ad-49a8-ed30-1d470d043719"
      },
      "outputs": [
        {
          "name": "stderr",
          "output_type": "stream",
          "text": [
            "|"
          ]
        },
        {
          "name": "stdout",
          "output_type": "stream",
          "text": [
            "This dataset can be visualized in Jupyter Notebook by ds.visualize() or at https://app.activeloop.ai/rag_example/drone_v2\n",
            "\n"
          ]
        },
        {
          "name": "stderr",
          "output_type": "stream",
          "text": [
            "|"
          ]
        },
        {
          "name": "stdout",
          "output_type": "stream",
          "text": [
            "hub://rag_example/drone_v2 loaded successfully.\n",
            "\n"
          ]
        },
        {
          "name": "stderr",
          "output_type": "stream",
          "text": [
            "\r \r\r\r"
          ]
        }
      ],
      "source": [
        "import deeplake\n",
        "ds = deeplake.load(dataset_path)"
      ]
    },
    {
      "cell_type": "code",
      "execution_count": null,
      "metadata": {
        "id": "TC760xKSic7m"
      },
      "outputs": [],
      "source": [
        "import json\n",
        "import pandas as pd\n",
        "import numpy as np\n",
        "\n",
        "data = {}\n",
        "\n",
        "# Iterate through the tensors in the dataset\n",
        "for tensor_name in ds.tensors:\n",
        "  tensor_data = ds[tensor_name].numpy()\n",
        "\n",
        "  # Check if multi-dimensional\n",
        "  if tensor_data.ndim > 1:\n",
        "    # Flatten multi-dim tensors\n",
        "    data[tensor_name] = [np.array(e).flatten().tolist() for e in tensor_data]\n",
        "  else:\n",
        "    # Convert 1D tensors to lists and decode text\n",
        "    if tensor_name == \"text\":\n",
        "      data[tensor_name] = [t.tobytes().decode('utf-8') if t else \"\" for t in tensor_data]\n",
        "    else:\n",
        "      data[tensor_name] = tensor_data.tolist()\n",
        "\n",
        "df = pd.DataFrame(data)"
      ]
    },
    {
      "cell_type": "code",
      "execution_count": null,
      "metadata": {
        "colab": {
          "base_uri": "https://localhost:8080/"
        },
        "id": "pDRV8S9-jod3",
        "outputId": "46c4252c-4efb-493a-d299-1c03a7f15ce8"
      },
      "outputs": [
        {
          "name": "stdout",
          "output_type": "stream",
          "text": [
            "ID:\n",
            "['8e69a965-3e26-4fb4-87a8-72b64a29d684']\n",
            "\n",
            "Metadata:\n",
            "file_path: /content/data/1804.06985.txt\n",
            "\n",
            "file_name: 1804.06985.txt\n",
            "\n",
            "file_type: text/plain\n",
            "\n",
            "file_size: 3959\n",
            "\n",
            "creation_date: 2025-02-06\n",
            "\n",
            "last_modified_date: 2025-02-06\n",
            "\n",
            "_node_content: {\"id_\": \"8e69a965-3e26-4fb4-87a8-72b64a29d684\", \"embedding\": null, \"metadata\": {\"file_path\": \"/content/data/1804.06985.txt\", \"file_name\": \"1804.06985.txt\", \"file_type\": \"text/plain\", \"file_size\": 3959, \"creation_date\": \"2025-02-06\", \"last_modified_date\": \"2025-02-06\"}, \"excluded_embed_metadata_keys\": [\"file_name\", \"file_type\", \"file_size\", \"creation_date\", \"last_modified_date\", \"last_accessed_date\"], \"excluded_llm_metadata_keys\": [\"file_name\", \"file_type\", \"file_size\", \"creation_date\", \"last_modified_date\", \"last_accessed_date\"], \"relationships\": {\"1\": {\"node_id\": \"49e0afe2-5b42-43ab-89a4-432f5f2d48d3\", \"node_type\": \"4\", \"metadata\": {\"file_path\": \"/content/data/1804.06985.txt\", \"file_name\": \"1804.06985.txt\", \"file_type\": \"text/plain\", \"file_size\": 3959, \"creation_date\": \"2025-02-06\", \"last_modified_date\": \"2025-02-06\"}, \"hash\": \"0a157e8fd1a956b6c282a3dd449ec9e3616b0afef53e6ea4a302ade4f4dc0048\", \"class_name\": \"RelatedNodeInfo\"}}, \"metadata_template\": \"{key}: {value}\", \"metadata_separator\": \"\\n\", \"text\": \"High Energy Physics - Theory arXiv:1804.06985 (hep-th) [Submitted on 19 Apr 2018] Title: A Near Horizon Extreme Binary Black Hole Geometry Authors: Jacob Ciafre , Maria J. Rodriguez View a PDF of the paper titled A Near Horizon Extreme Binary Black Hole Geometry, by Jacob Ciafre and Maria J. Rodriguez View PDF Abstract: A new solution of four-dimensional vacuum General Relativity is presented. It describes the near horizon region of the extreme (maximally spinning) binary black hole system with two identical extreme Kerr black holes held in equilibrium by a massless strut. This is the first example of a non-supersymmetric, asymptotically flat near horizon extreme binary black hole geometry of two uncharged black holes. The black holes are co-rotating, and the solution is uniquely specified by the mass. The binary extreme system has finite entropy. The distance between the black holes is fixed, but there is a zero-distance limit where the objects collapse into one. This limiting geometry corresponds to the near horizon extreme Kerr (NHEK) black hole. Comments: 1 figure Subjects: High Energy Physics - Theory (hep-th) ; High Energy Astrophysical Phenomena (astro-ph.HE); General Relativity and Quantum Cosmology (gr-qc) Cite as: arXiv:1804.06985 [hep-th] (or arXiv:1804.06985v1 [hep-th] for this version) https://doi.org/10.48550/arXiv.1804.06985 Focus to learn more arXiv-issued DOI via DataCite Related DOI : https://doi.org/10.1140/epjc/s10052-019-7188-3 Focus to learn more DOI(s) linking to related resources Submission history From: Maria J. Rodriguez [ view email ] [v1] Thu, 19 Apr 2018 03:15:45 UTC (173 KB) Full-text links: Access Paper: View a PDF of the paper titled A Near Horizon Extreme Binary Black Hole Geometry, by Jacob Ciafre and Maria J. Rodriguez View PDF TeX Source Other Formats view license Current browse context: hep-th <\\u00a0prev | next\\u00a0> new | recent | 2018-04 Change to browse by: astro-ph astro-ph.HE gr-qc References & Citations INSPIRE HEP NASA ADS Google Scholar Semantic Scholar a export BibTeX citation Loading... BibTeX formatted citation \\u00d7 loading... Data provided by: Bookmark Bibliographic Tools Bibliographic and Citation Tools Bibliographic Explorer Toggle Bibliographic Explorer ( What is the Explorer? ) Connected Papers Toggle Connected Papers ( What is Connected Papers? ) Litmaps Toggle Litmaps ( What is Litmaps? ) scite.ai Toggle scite Smart Citations ( What are Smart Citations? ) Code, Data, Media Code, Data and Media Associated with this Article alphaXiv Toggle alphaXiv ( What is alphaXiv? ) Links to Code Toggle CatalyzeX Code Finder for Papers ( What is CatalyzeX? ) DagsHub Toggle DagsHub ( What is DagsHub? ) GotitPub Toggle Gotit.pub ( What is GotitPub? ) Huggingface Toggle Hugging Face ( What is Huggingface? ) Links to Code Toggle Papers with Code ( What is Papers with Code? ) ScienceCast Toggle ScienceCast ( What is ScienceCast? ) Demos Demos Replicate Toggle Replicate ( What is Replicate? ) Spaces Toggle Hugging Face Spaces ( What is Spaces? ) Spaces Toggle TXYZ.AI ( What is TXYZ.AI? ) Related Papers Recommenders and Search Tools Link to Influence Flower Influence Flower ( What are Influence Flowers? ) Core recommender toggle CORE Recommender ( What is CORE? ) IArxiv recommender toggle IArxiv Recommender ( What is IArxiv? ) Author Venue Institution Topic About arXivLabs arXivLabs: experimental projects with community collaborators arXivLabs is a framework that allows collaborators to develop and share new arXiv features directly on our website. Both individuals and organizations that work with arXivLabs have embraced and accepted our values of openness, community, excellence, and user data privacy. arXiv is committed to these values and only works with partners that adhere to them. Have an idea for a project that will add value for arXiv's community? Learn more about arXivLabs . Which authors of this paper are endorsers? | Disable MathJax ( What is MathJax? )\", \"mimetype\": \"text/plain\", \"start_char_idx\": 0, \"end_char_idx\": 3956, \"metadata_seperator\": \"\\n\", \"text_template\": \"{metadata_str}\\n\\n{content}\", \"class_name\": \"TextNode\"}\n",
            "\n",
            "_node_type: TextNode\n",
            "\n",
            "document_id: 49e0afe2-5b42-43ab-89a4-432f5f2d48d3\n",
            "\n",
            "doc_id: 49e0afe2-5b42-43ab-89a4-432f5f2d48d3\n",
            "\n",
            "ref_doc_id: 49e0afe2-5b42-43ab-89a4-432f5f2d48d3\n",
            "\n",
            "Text:\n",
            "[\"High Energy Physics - Theory arXiv:1804.06985 (hep-th) [Submitted on 19 Apr 2018] Title: A Near Horizon Extreme Binary Black Hole Geometry Authors: Jacob Ciafre , Maria J. Rodriguez View a PDF of the paper titled A Near Horizon Extreme Binary Black Hole Geometry, by Jacob Ciafre and Maria J. Rodriguez View PDF Abstract: A new solution of four-dimensional vacuum General Relativity is presented. It describes the near horizon region of the extreme (maximally spinning) binary black hole system with two identical extreme Kerr black holes held in equilibrium by a massless strut. This is the first example of a non-supersymmetric, asymptotically flat near horizon extreme binary black hole geometry of two uncharged black holes. The black holes are co-rotating, and the solution is uniquely specified by the mass. The binary extreme system has finite entropy. The distance between the black holes is fixed, but there is a zero-distance limit where the objects collapse into one. This limiting geometry corresponds to the near horizon extreme Kerr (NHEK) black hole. Comments: 1 figure Subjects: High Energy Physics - Theory (hep-th) ; High Energy Astrophysical Phenomena (astro-ph.HE); General Relativity and Quantum Cosmology (gr-qc) Cite as: arXiv:1804.06985 [hep-th] (or arXiv:1804.06985v1 [hep-th] for this version) https://doi.org/10.48550/arXiv.1804.06985 Focus to learn more arXiv-issued DOI via DataCite Related DOI : https://doi.org/10.1140/epjc/s10052-019-7188-3 Focus to learn more DOI(s) linking to related resources Submission history From: Maria J. Rodriguez [ view email ] [v1] Thu, 19 Apr 2018 03:15:45 UTC (173 KB) Full-text links: Access Paper: View a PDF of the paper titled A Near Horizon Extreme Binary Black Hole Geometry, by Jacob Ciafre and Maria J. Rodriguez View PDF TeX Source Other Formats view license Current browse context: hep-th <\\xa0prev | next\\xa0> new | recent | 2018-04 Change to browse by: astro-ph astro-ph.HE gr-qc References & Citations INSPIRE HEP NASA ADS Google Scholar Semantic Scholar a export BibTeX citation Loading... BibTeX formatted citation × loading... Data provided by: Bookmark Bibliographic Tools Bibliographic and Citation Tools Bibliographic Explorer Toggle Bibliographic Explorer ( What is the Explorer? ) Connected Papers Toggle Connected Papers ( What is Connected Papers? ) Litmaps Toggle Litmaps ( What is Litmaps? ) scite.ai Toggle scite Smart Citations ( What are Smart Citations? ) Code, Data, Media Code, Data and Media Associated with this Article alphaXiv Toggle alphaXiv ( What is alphaXiv? ) Links to Code Toggle CatalyzeX Code Finder for Papers ( What is CatalyzeX? ) DagsHub Toggle DagsHub ( What is DagsHub? ) GotitPub Toggle Gotit.pub ( What is GotitPub? ) Huggingface Toggle Hugging Face ( What is Huggingface? ) Links to Code Toggle Papers with Code ( What is Papers with Code? ) ScienceCast Toggle ScienceCast ( What is ScienceCast? ) Demos Demos Replicate Toggle Replicate ( What is Replicate? ) Spaces Toggle Hugging Face Spaces ( What is Spaces? ) Spaces Toggle TXYZ.AI ( What is TXYZ.AI? ) Related Papers Recommenders and Search Tools Link to Influence Flower Influence Flower ( What are Influence Flowers? ) Core recommender toggle CORE Recommender ( What is CORE? ) IArxiv recommender toggle IArxiv Recommender ( What is IArxiv? ) Author Venue Institution Topic About arXivLabs arXivLabs: experimental projects with community collaborators arXivLabs is a framework that allows collaborators to develop and share new arXiv features directly on our website. Both individuals and organizations that work with arXivLabs have embraced and accepted our values of openness, community, excellence, and user data privacy. arXiv is committed to these values and only works with partners that adhere to them. Have an idea for a project that will add value for arXiv's community? Learn more about arXivLabs . Which authors of this paper are endorsers? | Disable MathJax ( What is MathJax? )\"]\n",
            "\n",
            "Embedding:\n",
            "[-0.00019850228272844106, 0.00703177647665143, -0.004589749500155449, -0.002284363843500614, -0.007623889483511448, 0.019900593906641006, -0.014799314551055431, -0.028337324038147926, -0.007315570022910833, -0.03419538587331772, 0.012669109739363194, 0.0160185769200325, -0.012157580815255642, 0.010461825877428055, -0.007245497778058052, 0.014462966471910477, 0.021764522418379784, 0.01635492406785488, 0.024959828704595566, -0.00997832603752613, -0.016845431178808212, 0.010833210311830044, -0.007504765875637531, -0.004589749500155449, -0.006005214061588049, 0.008149432949721813, 0.017938563600182533, -0.002366699045524001, -0.003762893844395876, -0.02182058058679104, 0.012886335141956806, 0.0036367634311318398, -0.01848512887954712, 0.014505010098218918, -0.006849587894976139, 0.031897008419036865, 0.02456742338836193, 0.00875906366854906, 0.03108416683971882, 0.012339768931269646, 0.01604660600423813, 0.020152853801846504, -0.00915146991610527, -0.009775115177035332, 0.01432282105088234, -0.00845775194466114, 0.023768596351146698, -0.02029299922287464, -0.001319115050137043, -0.003804937470704317, 0.029262280091643333, 0.025043915957212448, -0.026165075600147247, 0.005258942022919655, 0.018989650532603264, -0.019213883206248283, -0.002373706316575408, 0.01642499677836895, -0.0014759022742509842, -0.01021657232195139, 0.006856595166027546, -0.01991460844874382, -0.0031847956124693155, -0.0014601359143853188, -0.01732192561030388, -0.007848121225833893, -0.017756374552845955, -0.0028642138931900263, -0.013299763202667236, -0.014855372719466686, 0.019480157643556595, 0.01964833214879036, -0.011183572933077812, -0.03049555793404579, 0.021722478792071342, -0.029738774523139, -0.011779189109802246, -0.003952089697122574, -0.01170210912823677, 0.0008119652047753334, 0.00491208303719759, 0.004305955953896046, -0.00421836506575346, 0.014147640205919743, -0.0020180882420390844, -0.005956163629889488, 0.0001347801007796079, 0.02486172690987587, -0.007315570022910833, -0.012059479020535946, 0.022815609350800514, -0.019325999543070793, 0.029038049280643463, 0.008555853739380836, -0.0038644990418106318, -0.0010178032098338008, 0.004211357794702053, 0.021876638755202293, -0.017237838357686996, -0.016481054946780205, -0.01025861594825983, 0.004838507156819105, -0.014883401803672314, -0.020222926512360573, -0.017980607226490974, 0.005710909608751535, -0.0148693872615695, -8.337534382008016e-05, 0.007399657275527716, 0.0009372198255732656, -0.0020846573170274496, -0.014448951929807663, -0.0034177866764366627, -0.04176321625709534, 0.0302993543446064, 0.016074635088443756, 0.01803666539490223, -0.01698557659983635, -0.011975392699241638, -0.012928378768265247, 0.023978814482688904, 0.02197474054992199, -0.00016773607057984918, -0.007686954457312822, 0.01736396923661232, 0.029766803607344627, -0.006558787077665329, -0.020461173728108406, 0.00732257729396224, -0.021288029849529266, 0.004267415963113308, 0.014462966471910477, -0.0020601318683475256, 0.02253532037138939, -0.001110649318434298, 0.019522201269865036, -0.04627588763833046, -0.02786083146929741, -0.018429070711135864, -0.0396890714764595, 0.011225616559386253, 0.029766803607344627, -0.012711153365671635, 0.009312637150287628, -0.016186749562621117, 0.03405524045228958, -0.000763790390919894, 0.0075748385861516, 0.0011500651016831398, -0.013629104010760784, 0.006597327068448067, 0.002356188138946891, 0.01649506948888302, 0.02156831882894039, 0.013306770473718643, 0.004516173619776964, -0.02156831882894039, 0.028379367664456367, -0.024735596030950546, -0.04885455593466759, -0.02587077207863331, 0.004785952623933554, 0.017938563600182533, -0.013285748660564423, 0.03528851643204689, 0.025660553947091103, 0.0025821721646934748, 0.006628859788179398, 0.012521957978606224, -0.02474961057305336, -0.01237480528652668, 0.027160106226801872, -0.03307422623038292, -0.015275808051228523, -0.007000243756920099, 0.018443085253238678, 0.019900593906641006, 0.0065062325447797775, -0.031784892082214355, -0.007651918102055788, -0.00021864812879357487, -0.0039976369589567184, 0.01953621581196785, 0.03231744095683098, -0.002210787730291486, 0.01821885257959366, 0.034671880304813385, -0.032233353704214096, 0.01320166140794754, -0.018288925290107727, 0.007630896754562855, 0.02385268360376358, -0.02850549854338169, 0.013173632323741913, -0.6336797475814819, -0.016228793188929558, 0.005472663324326277, -0.02673966996371746, -0.02606697380542755, -0.009046360850334167, 0.004736901726573706, 0.01901767961680889, -0.009810151532292366, 0.015878431499004364, -0.02617909014225006, -0.0015818868996575475, 0.004638800397515297, -0.019900593906641006, -0.020082781091332436, -0.010721093975007534, -0.007504765875637531, -0.003375743282958865, -0.005563757382333279, -0.0025839239824563265, -0.013411878608167171, 0.0024280124343931675, -0.01687346026301384, 0.003980118781328201, 0.02130204439163208, 0.007385642733424902, 0.030579643324017525, -0.01964833214879036, -0.012367798015475273, 0.002883483888581395, -0.009277600795030594, 0.0023702026810497046, -0.004123767372220755, -0.006625356152653694, 0.044005539268255234, -0.050676438957452774, 0.01915782503783703, 0.01821885257959366, 0.011358753778040409, 0.03837170824408531, -0.015093619003891945, -0.004824492614716291, 0.021666420623660088, 0.003966104239225388, -0.00116057600826025, -0.004355006385594606, 0.008373665623366833, -0.02088160812854767, -0.008275563828647137, -0.017532141879200935, -0.01785447634756565, 0.00718243233859539, 0.014147640205919743, 0.014533039182424545, 0.004316466860473156, -0.016775358468294144, 0.0314205139875412, -0.01278823334723711, -0.012549987062811852, -0.005574268288910389, -0.009754093363881111, -0.005451641511172056, -0.007960237562656403, -0.01646704040467739, -0.0076799471862614155, -0.007129878271371126, -0.015093619003891945, 0.007504765875637531, 0.010573942214250565, 0.017560170963406563, 0.020797520875930786, 0.03074781782925129, -0.0222410149872303, 0.0023894726764410734, 0.026193104684352875, 0.02493179962038994, 0.03730660676956177, -0.0012656847247853875, -0.0008789720595814288, 0.007287541404366493, 0.008857165463268757, 0.010693064890801907, -0.018204838037490845, -0.008079360239207745, 0.021358102560043335, 0.003959096968173981, -0.007476736791431904, 0.008170454762876034, -0.0015792592894285917, -0.007532794959843159, 0.011449848301708698, 0.008086367510259151, -0.006089301314204931, -0.0336628332734108, -0.011442841030657291, 0.025184061378240585, 0.00935468077659607, 0.017055649310350418, 0.02076949179172516, -0.014897416345775127, 7.003829523455352e-06, -0.02587077207863331, 0.008506802842020988, -0.018835490569472313, 0.009698035195469856, 0.008976289071142673, -0.009221542626619339, -0.029738774523139, 0.040557969361543655, -0.05227409303188324, -0.008997310884296894, -0.0010712335351854563, -0.02620711922645569, 0.022941740229725838, -0.0009827669709920883, -0.029878919944167137, 0.004025665577501059, 0.007231483235955238, -0.015219749882817268, -0.015191720798611641, 0.04507064074277878, 0.015079604461789131, 0.008422715589404106, -0.0005658355075865984, 0.009691028855741024, 0.004803470801562071, 0.021988755092024803, -0.022184956818819046, -0.05813215672969818, -0.014925445429980755, 0.009032347239553928, 0.017041634768247604, 0.034896109253168106, -0.005122300703078508, 0.04425779730081558, -0.003818952012807131, 0.021834595128893852, 0.012683124281466007, 0.00024131221289280802, -0.02737032249569893, -0.017349954694509506, -0.009789129719138145, 0.015359894372522831, 0.002487574238330126, -0.012977429665625095, -0.017335940152406693, -0.0036122379824519157, 0.006162877194583416, 0.01949417218565941, -0.0018831987399607897, -0.01093131210654974, 0.010461825877428055, -7.478050974896178e-05, 0.011779189109802246, -0.004344495944678783, -0.026683611795306206, -0.005080257076770067, -0.05261044204235077, -0.006621852517127991, -9.103952470468357e-05, 0.02051723189651966, 0.018989650532603264, -0.017448054626584053, 0.003931067883968353, 0.006394116673618555, 0.0008544466691091657, 0.005469159688800573, 0.016859445720911026, -0.010202557779848576, -0.02828126586973667, -0.0041798255406320095, -0.015415952540934086, -0.030691759660840034, -0.0014785300008952618, -0.024469321593642235, 0.0016747330082580447, -0.01604660600423813, -0.009368694387376308, -0.004540698602795601, 0.0013646621955558658, 0.000851819000672549, 0.010573942214250565, -0.044874437153339386, -0.0021109343506395817, 0.01109948568046093, 0.021918682381510735, 0.00971204973757267, 5.145950126461685e-05, 0.003081438597291708, 0.009698035195469856, -0.0076799471862614155, 0.03385903686285019, -0.01168108731508255, 0.02369852364063263, -0.02226904407143593, -0.01765827275812626, -0.001867432496510446, 0.013166625052690506, -0.015093619003891945, 0.027104048058390617, 0.02748243883252144, 0.00016872146807145327, 0.022227000445127487, -0.00704228738322854, 0.005858061835169792, -0.011730138212442398, 0.008226512931287289, -0.013818299397826195, 0.0015556097496300936, -0.0019392567919567227, 0.013867350295186043, -0.029682716354727745, -0.004726390819996595, -0.024287132546305656, 0.005059235263615847, 0.016032591462135315, 0.005269452929496765, 0.03453173488378525, -0.0005347408587113023, 0.007476736791431904, -0.0013243705034255981, 0.009782122448086739, 0.014273771084845066, 0.01432282105088234, -0.01897563599050045, -0.006562290713191032, 0.02399282716214657, 0.024637496098876, 0.011835247278213501, -0.017784403637051582, 0.005104782525449991, 0.0007598488009534776, 0.011183572933077812, -0.001874439651146531, 0.024889755994081497, 0.02931833826005459, 0.006201417185366154, -0.010153506882488728, 0.02853352762758732, 0.001584514626301825, -0.007014258299022913, -0.0021196934394538403, 0.009789129719138145, -0.002778375055640936, 0.00010532774467719719, -0.004474129993468523, 0.016733316704630852, 0.0064396639354527, -0.0003584646910894662, -0.026123031973838806, -0.012192617170512676, 0.022521305829286575, -0.01443493738770485, 0.03408326953649521, 0.042211681604385376, 0.010861239396035671, -0.00018415931845083833, 0.0128793278709054, 0.0033985169138759375, 0.018008636310696602, 0.010314674116671085, -0.00433048140257597, -0.009074389934539795, -0.03282196447253227, 0.020559275522828102, -0.021428173407912254, -0.01964833214879036, -0.004376028198748827, -0.014182676561176777, 0.007511773146688938, -0.017532141879200935, -0.014743256382644176, 0.009494825266301632, -0.0020496209617704153, 0.014715227298438549, 0.0021827586460858583, -0.005346532445400953, -0.0024525378830730915, 0.025604495778679848, 0.010419782251119614, -0.036129388958215714, -0.032681819051504135, 0.02103576809167862, 0.02040511555969715, 0.003811944741755724, -0.011064449325203896, 0.008920230902731419, 0.02051723189651966, 0.004947119392454624, 0.0382595919072628, 0.008815121836960316, -0.007785056252032518, -0.0014461214886978269, -0.011449848301708698, -0.02573062665760517, -0.01649506948888302, 0.023053856566548347, -0.019942637532949448, 0.011386782862246037, -0.007553816772997379, 0.0008750304696150124, 0.002272101119160652, -0.015654198825359344, 0.0014785300008952618, 0.03307422623038292, -0.017391998320817947, 0.0014855372719466686, -0.013769248500466347, -0.010622993111610413, -0.024623481556773186, 0.009200520813465118, -0.01318063959479332, -0.0046107713133096695, -0.0034055241849273443, 0.000498390756547451, -0.025520408526062965, -0.018134765326976776, 0.020643362775444984, 0.019410084933042526, -0.0012648088159039617, -0.00661134161055088, -0.002538376720622182, -0.014785300008952618, -0.011029412969946861, 0.06474699825048447, 0.0154299670830369, -0.02130204439163208, 0.019592273980379105, -0.00478244898840785, -0.012220646254718304, 0.0006429153145290911, 0.0016589667648077011, 0.003710339544340968, 0.002771367784589529, 0.02118992805480957, -0.0168314166367054, -0.015289821662008762, 0.013159617781639099, 0.032457586377859116, -0.01346092950552702, 0.012150573544204235, -0.026193104684352875, -0.0005842295940965414, 0.017784403637051582, -0.017265867441892624, 0.009270593523979187, 0.004383035469800234, 0.017013605684041977, 0.016733316704630852, -0.01586441695690155, 0.027328278869390488, 0.003962600603699684, 0.004064205568283796, -0.024399248883128166, 0.008787092752754688, -0.004421575460582972, -0.0068530915305018425, -0.009312637150287628, -0.0040326728485524654, -0.00687060970813036, 0.029122136533260345, -0.004572231322526932, 0.019115781411528587, -0.02175050787627697, 0.00048437624354846776, 0.001489916816353798, 0.010896275751292706, 0.005195876583456993, 0.0003225525433663279, -0.001685243914835155, -0.0029220236465334892, 0.028043018653988838, -0.02812710590660572, 0.012430863454937935, 0.017111707478761673, 0.001741301966831088, -0.021918682381510735, -0.02467953786253929, -0.013818299397826195, 0.011190580204129219, 0.0016361931338906288, -0.020236941054463387, -0.004680844023823738, -0.02175050787627697, -0.007841113954782486, -0.027202149853110313, 0.018176808953285217, 0.010300659574568272, -0.01070707943290472, -0.029038049280643463, -0.029794832691550255, -0.011653059162199497, -0.017391998320817947, 0.009060375392436981, -0.010615985840559006, -0.02374056726694107, -0.02906607836484909, 0.027888860553503036, 0.010700072161853313, -0.0046352967619895935, -0.0020303509663790464, -0.005024198908358812, -0.007764034438878298, -0.017938563600182533, -0.027174120768904686, -0.0006726961000822484, 0.00843673013150692, -0.021217957139015198, -0.004891061224043369, 0.0003383188450243324, -0.00617689173668623, -0.00025072821881622076, -0.004008147865533829, 0.031476572155952454, -0.0031865474302321672, 0.003717346815392375, 0.012038457207381725, -0.010454818606376648, 0.00673046475276351, -0.005682880524545908, 0.013019472360610962, -0.0022265540901571512, -0.004645807668566704, -0.00871702004224062, -0.02403487078845501, 0.0006297766813077033, 0.0018271408043801785, -0.012774218805134296, 0.00871702004224062, 0.0104057677090168, 0.004722887184470892, 0.0232080165296793, -0.003162022214382887, -0.01582237333059311, 0.00010352118988521397, -0.00632054079324007, 0.009347673505544662, 0.0034878593869507313, 0.008976289071142673, 0.011884298175573349, 0.03607333078980446, 0.01332779135555029, -0.02284363843500614, -0.014547053724527359, 0.007932208478450775, -0.0056443409994244576, 0.021624376997351646, 0.007539802230894566, 0.0020408618729561567, 0.021834595128893852, -0.014308806508779526, -0.02369852364063263, -0.035120341926813126, 0.005195876583456993, -0.01010445598512888, -0.0050417170859873295, 0.0019287458853796124, -0.018429070711135864, -0.031336426734924316, -0.015780329704284668, -0.00448113726451993, -0.011351746506989002, 0.014028516598045826, -0.018807461485266685, 0.0188214760273695, -0.003710339544340968, -0.001123787951655686, -0.006758493836969137, -0.023236045613884926, -0.0271881353110075, -0.026753684505820274, 0.026151061058044434, -0.009158477187156677, -0.00476142717525363, -0.0017850972944870591, -0.013509980402886868, 0.008513810113072395, -0.025884786620736122, -0.021890653297305107, -0.033999182283878326, 0.0019024687353521585, 0.005675873253494501, 0.028267251327633858, 0.017560170963406563, 0.029598629102110863, -0.0023071374744176865, 0.013811292126774788, 0.03926863521337509, 0.010069419629871845, 0.009291615337133408, 0.010398760437965393, 0.0062644826248288155, -0.0145890973508358, 0.011386782862246037, 0.018316954374313354, -0.008920230902731419, -0.007869143038988113, -0.034027211368083954, 0.015373908914625645, 0.024287132546305656, 0.018008636310696602, 0.0045617204159498215, -0.004456611815840006, -0.05230212211608887, -0.007834106683731079, -0.013888372108340263, -3.678806751850061e-05, -0.005108286160975695, -0.03910046070814133, -0.020264970138669014, 0.010552920401096344, 0.006415138486772776, 0.009901246055960655, -0.0026610037311911583, 0.017462069168686867, -0.0018464106833562255, 0.020236941054463387, 0.0017001343658193946, 0.03915651887655258, -0.03643770515918732, -0.006905646063387394, 0.0009670006693340838, 0.012872320599853992, 0.018989650532603264, 0.00011222550529055297, 0.025660553947091103, 0.014827343635261059, -0.023334145545959473, 0.016845431178808212, -0.003622748889029026, 0.008114396594464779, 0.004919090308248997, -0.01100839115679264, -0.01531785074621439, 0.0025173549074679613, -0.03377494961023331, -0.003470341209322214, -0.020124824717640877, -0.02152627520263195, 0.012802247889339924, 0.0005540107958950102, 0.028253236785531044, -0.023754581809043884, -0.009305629879236221, 0.0027188134845346212, 0.00980314426124096, 0.03531654551625252, 0.01262005977332592, 0.02730024978518486, 0.043557073920965195, 0.011505906470119953, -0.01821885257959366, 0.010132485069334507, -0.009088404476642609, 0.016887474805116653, 0.02835133858025074, 0.014533039182424545, -0.03719449043273926, -0.02673966996371746, 0.030355412513017654, 0.004600260406732559, -0.026431351900100708, -0.03441961854696274, 0.020909637212753296, -0.019788477569818497, 0.01863928884267807, -0.002209035912528634, -0.0005886090802960098, -0.016523098573088646, -0.009641977958381176, -0.004333985038101673, 0.013124581426382065, -0.017391998320817947, -0.003338955109938979, -0.006565794348716736, 0.016971562057733536, 0.001974293030798435, 0.03853988274931908, 0.013425893150269985, -0.019073737785220146, 0.009859202429652214, -0.00718243233859539, -0.006089301314204931, 0.00420785415917635, -0.017910534515976906, 0.04064205661416054, -0.020657377317547798, -0.0019848039373755455, 0.015556097961962223, -0.003496618242934346, -0.007336591836065054, -0.02793090231716633, -0.0009652488515712321, 0.02680974267423153, -0.0004287561750970781, -0.004891061224043369, -0.011456855572760105, -0.02568858303129673, 0.003598223440349102, 0.006947689689695835, -0.0005886090802960098, -0.0030253806617110968, 0.013131588697433472, 0.009361688047647476, 0.012977429665625095, 0.023978814482688904, 0.007862135767936707, -0.017602214589715004, 0.003591216169297695, -0.006103315856307745, -0.027440395206212997, 0.00267676985822618, -0.015500039793550968, -0.04204350709915161, -0.03660587966442108, -0.007813084870576859, -0.004193839617073536, 0.01387435756623745, -0.001521449419669807, -0.005980689078569412, -0.009284608066082, 0.022927725687623024, -0.026711640879511833, 0.01053890585899353, 0.028323309496045113, 0.01886351965367794, -0.02711806260049343, -0.0020110812038183212, 0.002140715252608061, 0.030579643324017525, 0.018947606906294823, -0.00954387616366148, -0.002475311513990164, -0.030579643324017525, -0.002668011002242565, 0.01919986866414547, 0.013166625052690506, 0.0030446506571024656, -0.0043970500119030476, 0.002915016608312726, 0.013811292126774788, -0.016060620546340942, -0.0024788151495158672, 0.036998286843299866, -0.009719057008624077, -0.004873543046414852, -0.008233520202338696, -0.017335940152406693, 0.006656888406723738, -0.00225983839482069, -0.003407276002690196, -0.004347999580204487, -0.026417337357997894, 0.011218609288334846, -0.003256619907915592, 0.0053885760717093945, -0.01777038909494877, -0.017055649310350418, -0.02076949179172516, -0.021021753549575806, -0.029346367344260216, -0.001117656589485705, 0.0177003163844347, 0.013881364837288857, 0.015009531751275063, 0.029934976249933243, -0.008801107294857502, -0.005125804338604212, -0.006593823432922363, -0.004116760101169348, 0.01406355295330286, 0.01391640119254589, -0.05025600641965866, -0.007280534133315086, 0.008752056397497654, 0.031364455819129944, 0.006145359482616186, -0.030691759660840034, 0.008044324815273285, -0.03170080482959747, -0.008646948263049126, 0.025786684826016426, -0.011730138212442398, 0.020110810175538063, 0.01564018428325653, 0.003389757825061679, 0.02430114708840847, 0.037222519516944885, 0.019550230354070663, 0.029486512765288353, 0.006411634851247072, 0.0038644990418106318, 0.000820286339148879, 0.009810151532292366, 0.019508186727762222, -0.018162794411182404, -0.04285634681582451, -0.005780982319265604, 0.03853988274931908, 0.009487817995250225, 0.018050679937005043, 0.04142686724662781, 0.007813084870576859, 0.005693391431123018, 0.03576501086354256, -0.012795240618288517, -0.0072735268622636795, 0.02175050787627697, 0.00017868490249384195, -0.06441064924001694, -0.020222926512360573, 0.006972215138375759, -0.007392650004476309, -0.023768596351146698, 0.00562682282179594, 0.012998450547456741, 0.0033442105632275343, 0.01664922945201397, -0.0064711966551840305, -0.021806566044688225, 0.015457996167242527, -0.0452948734164238, 0.02872972935438156, 0.011779189109802246, 0.01079817395657301, 0.031560659408569336, 0.02617909014225006, -0.006867106072604656, 0.003794426564127207, 0.006106819491833448, -0.01897563599050045, 0.004116760101169348, 0.004835003521293402, -0.018050679937005043, 0.020054752007126808, -0.016074635088443756, 0.007427686359733343, -0.008899209089577198, 0.01747608371078968, -0.02828126586973667, -0.02013883925974369, -0.016789373010396957, 0.020559275522828102, 0.015051575377583504, -0.027664627879858017, -0.018611259758472443, 0.013131588697433472, -0.010580949485301971, 0.013713190332055092, 0.007518780417740345, -0.015696242451667786, -0.005658355541527271, 0.013425893150269985, -0.0031725328881293535, -0.01886351965367794, -0.013138595968484879, 0.024090928956866264, 0.006726961117237806, 0.0036893177311867476, 0.010433796793222427, 0.18723374605178833, -0.0233621746301651, 0.01329275593161583, 0.010615985840559006, -0.031560659408569336, -0.014841358177363873, 0.012437870725989342, 0.007532794959843159, -0.003312678076326847, 0.020895622670650482, 0.004523180425167084, 0.010868246667087078, -0.011183572933077812, -0.0024087426718324423, 0.027650613337755203, -0.026417337357997894, -0.031112195923924446, -0.020783506333827972, 0.0004280992434360087, -0.0008894829661585391, -0.006937178783118725, 0.01886351965367794, -0.0027118062134832144, -0.012592030689120293, 0.03195306658744812, -0.020391101017594337, -0.009627963416278362, -0.020461173728108406, -0.006355576682835817, -0.0019304977031424642, -0.009880224242806435, -0.027776744216680527, 0.025786684826016426, -0.006383605767041445, 0.00012766335566993803, 0.01334881316870451, 0.02126000076532364, 0.012234660796821117, 0.010300659574568272, 0.025268148630857468, -0.007336591836065054, -0.00021755325724370778, 0.0046948581002652645, -0.012606045231223106, 0.018120750784873962, 0.012129551731050014, -0.004039680119603872, 0.009754093363881111, -0.008836143650114536, 0.0007948850397951901, -0.02598288655281067, -0.0008049579919315875, 0.035905156284570694, 0.033214371651411057, -0.01023759413510561, -0.009670007042586803, 0.0021862622816115618, 0.008674977347254753, 0.0072735268622636795, 0.019003665074706078, -0.023320132866501808, 0.012830276973545551, -0.00703177647665143, 0.0416230708360672, -0.009719057008624077, 0.016999591141939163, -0.015766315162181854, -0.013986472971737385, 0.009102419018745422, -0.017728345468640327, 0.015990547835826874, -0.012578016147017479, -0.014378879219293594, -0.022521305829286575, -0.01547201070934534, -0.02126000076532364, 0.009887231513857841, -0.009775115177035332, 0.015121648088097572, 0.024665523320436478, 0.011204594746232033, -0.007553816772997379, 0.01960628852248192, -0.01960628852248192, -0.016957547515630722, -0.03820353373885155, 0.004600260406732559, 0.004827996250241995, -0.018835490569472313, -0.014420922845602036, -0.0038399735931307077, 0.014161654748022556, -0.011351746506989002, -0.014631140045821667, 0.0065062325447797775, -0.003675303189083934, -0.02362845093011856, -0.00547616695985198, -0.044117651879787445, 0.011330725625157356, -0.011526928283274174, 0.04428582638502121, 0.0014180924044921994, -0.00826855655759573, 0.002340422011911869, -0.01192634180188179, 0.0018148780800402164, 0.013706183061003685, 0.026781713590025902, -0.01322268322110176, 0.021582333371043205, -0.02013883925974369, -0.007126374635845423, -0.010111463256180286, 0.005392079707235098, 0.02389472723007202, 0.011674080044031143, -0.018162794411182404, -0.012711153365671635, -0.02250729128718376, -0.00787615031003952, -0.02474961057305336, 0.0007020389894023538, 0.003934571519494057, -0.009950296953320503, -0.0311682540923357, -0.013313776813447475, -0.012220646254718304, -0.020951680839061737, -0.008380671963095665, 0.008513810113072395, -0.01931198500096798, 0.03783915564417839, -0.004996170289814472, 0.009004318155348301, 0.0015880182618275285, 0.01669127307832241, -0.030663730576634407, -0.02069942094385624, 0.008667970076203346, -0.008114396594464779, -0.0066709029488265514, 0.0064396639354527, 0.0037769083864986897, 0.02351633459329605, -0.03441961854696274, 0.026571497321128845, -0.014056545682251453, -0.007315570022910833, -0.019143810495734215, -0.014953473582863808, -0.009873216971755028, -0.008198483847081661, 0.001136050559580326, 0.013110566884279251, -0.01725185289978981, -0.025856757536530495, -0.04728493094444275, -0.0014049538876861334, 0.002948300912976265, -0.028925932943820953, 0.008976289071142673, 0.013313776813447475, -0.02962665818631649, -0.00997832603752613, -0.003990629687905312, -0.18061891198158264, 0.006232949905097485, 0.018443085253238678, -0.0067935301922261715, 0.017349954694509506, 0.018835490569472313, 0.009950296953320503, 0.009284608066082, -0.008331621997058392, -0.001988307572901249, 0.012830276973545551, -0.001344516291283071, -0.013601074926555157, -0.022367145866155624, 0.024581437930464745, 0.001710645155981183, 0.0024577933363616467, 0.0008693371200934052, 0.01447698101401329, 0.0031865474302321672, 0.013096552342176437, -0.030607672408223152, 0.0433608703315258, 0.004512669984251261, 0.00903935357928276, 0.006134848576039076, -0.008773078210651875, 0.03921257704496384, 0.007616882212460041, 0.003452823031693697, 0.00973307155072689, -0.005031206179410219, 0.03352268785238266, 0.0027871341444551945, 0.009025339968502522, 0.012528965249657631, -0.01924191229045391, 0.01702762022614479, -0.022633422166109085, 0.008576875552535057, 0.039016373455524445, -0.009508839808404446, -0.004253401421010494, -0.0121155371889472, -0.02032102830708027, 0.018288925290107727, 0.0018218853510916233, -0.0034125312231481075, 0.0035579318646341562, -0.03809141740202904, 0.0034791002981364727, -0.036101359874010086, 0.018723376095294952, 0.013271734118461609, 0.025338219478726387, -0.00645017484202981, -0.020559275522828102, 0.02291371114552021, 0.009228549897670746, -0.006534261628985405, -0.030551616102457047, -0.0123958270996809, -0.0029693227261304855, -0.013888372108340263, 0.013755233958363533, -0.0257586557418108, 0.018064694479107857, -0.006551779806613922, -0.027720686048269272, -0.01264108158648014, -0.015990547835826874, -0.009025339968502522, 0.003048154292628169, 0.003416034858673811, 0.009782122448086739, 0.022212985903024673, -0.02662755362689495, 0.0053044892847537994, 0.010868246667087078, -0.008373665623366833, -0.0018271408043801785, 0.011330725625157356, -0.010174528695642948, -0.00963497068732977, 0.0050662425346672535, -0.00817746203392744, -0.025113988667726517, -0.010791166685521603, -0.004319970495998859, -0.008100382052361965, 0.010321681387722492, -0.030383441597223282, 0.012795240618288517, -0.02088160812854767, 0.004428582731634378, -0.0026417337357997894, -0.005322007462382317, -0.007343599107116461, 0.01845709979534149, -0.0067690047435462475, 0.04064205661416054, 0.00882913637906313, -0.004796463530510664, -0.009817158803343773, 0.02723017893731594, 0.010503869503736496, -0.02546435035765171, 0.019662346690893173, 0.044341884553432465, -0.008079360239207745, -0.014140632934868336, -0.008331621997058392, 0.02295575477182865, 0.006492218002676964, 0.0010046646930277348, 0.019550230354070663, 0.00926358625292778, -0.026879815384745598, 0.013425893150269985, -0.012956407852470875, 0.04392145201563835, 0.0038890244904905558, -0.04725690186023712, 0.006404627580195665, -0.012255682609975338, -0.022367145866155624, -0.10000748932361603, -0.016509084030985832, -0.00018558267038315535, 0.0121155371889472, -8.118557161651552e-05, 0.008394686505198479, -0.008920230902731419, -0.010209565050899982, -0.009137455374002457, 0.03517640009522438, -0.027986960485577583, -0.021428173407912254, -0.004095738288015127, 0.00915146991610527, -0.0035369100514799356, -0.005346532445400953, 0.010644014924764633, -0.022591378539800644, -0.0057039023377001286, 0.017041634768247604, 0.0018779432866722345, -0.003629756160080433, -0.01192634180188179, 0.007441700901836157, 0.019101766869425774, -0.000321676634484902, -0.026305221021175385, 0.02868768572807312, 0.013909393921494484, -0.004326977767050266, -0.012725167907774448, -0.0018989650998264551, -0.013334798626601696, -0.027272222563624382, -0.010791166685521603, -0.012739182449877262, 0.004281430505216122, -0.003006110666319728, 0.01063000038266182, -0.04313663765788078, 0.000795760948676616, 0.025001872330904007, 0.02114788442850113, 0.0010589708108454943, -0.009992340579628944, -0.01359406765550375, -0.026165075600147247, 0.018877534195780754, -0.001515318057499826, -0.01042678952217102, -0.020503217354416847, -0.0145890973508358, -0.03184095025062561, 0.0014426178531721234, 0.029991034418344498, -0.017167765647172928, 0.009789129719138145, 0.02040511555969715, -0.014967488124966621, -0.0032093210611492395, -0.014035523869097233, 0.02118992805480957, -0.003748879302293062, 0.029542570933699608, 0.016971562057733536, 0.016032591462135315, -0.025772670283913612, -0.026080988347530365, -0.005742442328482866, -0.019396070390939713, -0.011611015535891056, 0.032345470041036606, 0.0032741380855441093, 0.003542165504768491, -0.016032591462135315, -0.01426676381379366, -0.024581437930464745, -0.021358102560043335, 0.005332518368959427, -0.016551127657294273, -0.018835490569472313, -0.026165075600147247, 0.001785973203368485, -0.013306770473718643, -0.0045021590776741505, 0.011246638372540474, -0.0010116718476638198, 0.0024210053961724043, 0.0390724316239357, -0.034447647631168365, 0.01868133246898651, 0.03971710056066513, 0.020657377317547798, -0.03848382458090782, 0.010770144872367382, 0.006716450210660696, 0.018330968916416168, -0.013313776813447475, 0.011526928283274174, -0.008822129108011723, -0.05238620936870575, 0.013608082197606564, -0.06581210345029831, 0.04837806150317192, 0.017223823815584183, -0.0247916541993618, -0.029794832691550255, -0.03498019650578499, 0.019003665074706078, 0.0037068359088152647, -0.01740601286292076, 0.01919986866414547, -0.011043427512049675, 0.005577771924436092, -0.011218609288334846, -0.027384337037801743, -0.021722478792071342, -0.032457586377859116, -0.002657500095665455, 0.0003218956117052585, 0.012367798015475273, 0.008710012771189213, 0.007014258299022913, 0.018316954374313354, 0.022367145866155624, 0.02163839153945446, -0.01608864963054657, 0.018120750784873962, -0.03327042981982231, 0.021876638755202293, 0.0006267110002227128, -0.015401937998831272, 0.025212090462446213, -0.02741236612200737, 0.008976289071142673, 0.051208991557359695, 0.0023964799474924803, -0.008324614726006985, 0.0008640816668048501, 0.0064396639354527, 0.02130204439163208, 0.04835003241896629, -0.029682716354727745, -0.0368301123380661, -0.010223579593002796, 0.00870300643146038, 0.02118992805480957, 0.03304619714617729, 0.010265623219311237, 0.012031449936330318, 0.01743404008448124, -0.003769901115447283, 0.027160106226801872, 0.021063797175884247, -0.0021950213704258204, -0.03904440253973007, -0.00275209778919816, 0.006737472023814917, -0.037586893886327744, -0.0011518169194459915, 0.005959667265415192, -0.00521339476108551, 0.042548030614852905, 0.009417745284736156, 0.016284851357340813, -0.015205735340714455, 0.02985089085996151, -0.0002443778794258833, -0.012500936165452003, -0.009053368121385574, 0.003030636114999652, -0.03957695513963699, -0.01306852325797081, 0.007953230291604996, 0.001571376109495759, 0.034139327704906464, -0.003906542435288429, -0.02414698712527752, -0.018583230674266815, 0.014077567495405674, -0.010700072161853313, -0.0010432045673951507, 0.006839076988399029, -0.008233520202338696, -0.01821885257959366, -0.013902386650443077, 0.02884184569120407, 0.006618348881602287, -0.010580949485301971, 0.010286645032465458, -0.0005413101753219962, 0.016677258536219597, 0.004197343252599239, 0.01830293983221054, 0.008142425678670406, 0.01220663171261549, 0.0072244759649038315, 0.007063309196382761, -0.010784159414470196, -0.02723017893731594, 0.026781713590025902, 0.011071456596255302, 0.016410982236266136, 0.005227409303188324, 0.004270919598639011, -0.028491484001278877, -0.01053890585899353, 0.017938563600182533, -0.021778536960482597, -0.030579643324017525, 0.0036087343469262123, 0.010286645032465458, 0.009424752555787563, -0.0006683165556751192, 0.010482847690582275, 0.02126000076532364, -0.034139327704906464, 0.02340421825647354, -0.010587956756353378, -0.027552511543035507, 0.0009705043048597872, 0.0288698747754097, 0.002279108390212059, 0.0027345798444002867, 0.017980607226490974, 0.004891061224043369, 0.017391998320817947, 0.024273118004202843, 0.043444957584142685, -0.011856269091367722, 0.013509980402886868, -0.032793935388326645, 0.021245986223220825, -0.00561631191521883, -0.004873543046414852, 0.0053885760717093945, -0.04047388210892677, -0.005150329787284136, 0.009943289682269096, -0.008282571099698544, 0.023726552724838257, 0.0918230190873146, 0.02062934823334217, 0.0005640837480314076, 0.03192503750324249, -0.03007512167096138, 0.02235313132405281, 0.01848512887954712, -0.0012288966681808233, -0.005749449599534273, -0.06939981877803802, -0.015766315162181854, -0.01051788404583931, 0.017490098252892494, -0.04072614386677742, 0.0004935732576996088, 0.0123958270996809, -0.012108529917895794, 0.010412774980068207, -0.028981991112232208, -0.0233621746301651, 0.008359651081264019, -0.014119611121714115, 0.03517640009522438, 0.010980363003909588, -0.023684509098529816, 0.017349954694509506, 0.007792063523083925, 0.022072840481996536, 0.008836143650114536, -0.006691924761980772, -0.00614886311814189, 0.01070707943290472, -0.031224310398101807, -0.030215267091989517, -0.0012166339438408613, -0.015107633545994759, -0.015668213367462158, 0.00011999917478533462, 0.042127594351768494, 0.008752056397497654, 0.008913223631680012, 0.02665558271110058, -0.007539802230894566, -0.013965451158583164, -0.009116433560848236, -0.005479670595377684, -0.007343599107116461, 0.006225942634046078, -0.040670085698366165]\n",
            "\n"
          ]
        }
      ],
      "source": [
        "def display_record(record_number):\n",
        "  record = df.iloc[record_number]\n",
        "  display_data = {\n",
        "    \"ID\": record[\"id\"] if \"id\" in record else \"N/A\",\n",
        "    \"Metadata\": record[\"metadata\"] if \"metadata\" in record else \"N/A\",\n",
        "    \"Text\": record[\"text\"] if \"text\" in record else \"N/A\",\n",
        "    \"Embedding\": record[\"embedding\"] if \"embedding\" in record else \"N/A\"\n",
        "  }\n",
        "  # Print the ID\n",
        "  print(\"ID:\")\n",
        "  print(display_data[\"ID\"])\n",
        "  print()\n",
        "\n",
        "  # Print the metadata in a structured format\n",
        "  print(\"Metadata:\")\n",
        "  metadata = display_data[\"Metadata\"]\n",
        "  if isinstance(metadata, list):\n",
        "    for item in metadata:\n",
        "      for key, value in item.items():\n",
        "        print(f\"{key}: {value}\")\n",
        "        print()\n",
        "  else:\n",
        "    print(metadata)\n",
        "    print()\n",
        "\n",
        "  # Print the text\n",
        "  print(\"Text:\")\n",
        "  print(display_data[\"Text\"])\n",
        "  print()\n",
        "\n",
        "  # Print the embedding\n",
        "  print(\"Embedding:\")\n",
        "  print(display_data[\"Embedding\"])\n",
        "  print()\n",
        "\n",
        "# Function call to display a record\n",
        "rec = 0  # Replace with the desired record number\n",
        "display_record(rec)"
      ]
    },
    {
      "cell_type": "code",
      "execution_count": null,
      "metadata": {
        "colab": {
          "base_uri": "https://localhost:8080/"
        },
        "id": "ypb_nnD6jzl-",
        "outputId": "952ef9f2-c886-4b11-b5d3-d059081b67c7"
      },
      "outputs": [
        {
          "name": "stdout",
          "output_type": "stream",
          "text": [
            "ID:\n",
            "['8e69a965-3e26-4fb4-87a8-72b64a29d684']\n",
            "\n",
            "Metadata:\n",
            "file_path: /content/data/1804.06985.txt\n",
            "\n",
            "file_name: 1804.06985.txt\n",
            "\n",
            "file_type: text/plain\n",
            "\n",
            "file_size: 3959\n",
            "\n",
            "creation_date: 2025-02-06\n",
            "\n",
            "last_modified_date: 2025-02-06\n",
            "\n",
            "_node_content: {\"id_\": \"8e69a965-3e26-4fb4-87a8-72b64a29d684\", \"embedding\": null, \"metadata\": {\"file_path\": \"/content/data/1804.06985.txt\", \"file_name\": \"1804.06985.txt\", \"file_type\": \"text/plain\", \"file_size\": 3959, \"creation_date\": \"2025-02-06\", \"last_modified_date\": \"2025-02-06\"}, \"excluded_embed_metadata_keys\": [\"file_name\", \"file_type\", \"file_size\", \"creation_date\", \"last_modified_date\", \"last_accessed_date\"], \"excluded_llm_metadata_keys\": [\"file_name\", \"file_type\", \"file_size\", \"creation_date\", \"last_modified_date\", \"last_accessed_date\"], \"relationships\": {\"1\": {\"node_id\": \"49e0afe2-5b42-43ab-89a4-432f5f2d48d3\", \"node_type\": \"4\", \"metadata\": {\"file_path\": \"/content/data/1804.06985.txt\", \"file_name\": \"1804.06985.txt\", \"file_type\": \"text/plain\", \"file_size\": 3959, \"creation_date\": \"2025-02-06\", \"last_modified_date\": \"2025-02-06\"}, \"hash\": \"0a157e8fd1a956b6c282a3dd449ec9e3616b0afef53e6ea4a302ade4f4dc0048\", \"class_name\": \"RelatedNodeInfo\"}}, \"metadata_template\": \"{key}: {value}\", \"metadata_separator\": \"\\n\", \"text\": \"High Energy Physics - Theory arXiv:1804.06985 (hep-th) [Submitted on 19 Apr 2018] Title: A Near Horizon Extreme Binary Black Hole Geometry Authors: Jacob Ciafre , Maria J. Rodriguez View a PDF of the paper titled A Near Horizon Extreme Binary Black Hole Geometry, by Jacob Ciafre and Maria J. Rodriguez View PDF Abstract: A new solution of four-dimensional vacuum General Relativity is presented. It describes the near horizon region of the extreme (maximally spinning) binary black hole system with two identical extreme Kerr black holes held in equilibrium by a massless strut. This is the first example of a non-supersymmetric, asymptotically flat near horizon extreme binary black hole geometry of two uncharged black holes. The black holes are co-rotating, and the solution is uniquely specified by the mass. The binary extreme system has finite entropy. The distance between the black holes is fixed, but there is a zero-distance limit where the objects collapse into one. This limiting geometry corresponds to the near horizon extreme Kerr (NHEK) black hole. Comments: 1 figure Subjects: High Energy Physics - Theory (hep-th) ; High Energy Astrophysical Phenomena (astro-ph.HE); General Relativity and Quantum Cosmology (gr-qc) Cite as: arXiv:1804.06985 [hep-th] (or arXiv:1804.06985v1 [hep-th] for this version) https://doi.org/10.48550/arXiv.1804.06985 Focus to learn more arXiv-issued DOI via DataCite Related DOI : https://doi.org/10.1140/epjc/s10052-019-7188-3 Focus to learn more DOI(s) linking to related resources Submission history From: Maria J. Rodriguez [ view email ] [v1] Thu, 19 Apr 2018 03:15:45 UTC (173 KB) Full-text links: Access Paper: View a PDF of the paper titled A Near Horizon Extreme Binary Black Hole Geometry, by Jacob Ciafre and Maria J. Rodriguez View PDF TeX Source Other Formats view license Current browse context: hep-th <\\u00a0prev | next\\u00a0> new | recent | 2018-04 Change to browse by: astro-ph astro-ph.HE gr-qc References & Citations INSPIRE HEP NASA ADS Google Scholar Semantic Scholar a export BibTeX citation Loading... BibTeX formatted citation \\u00d7 loading... Data provided by: Bookmark Bibliographic Tools Bibliographic and Citation Tools Bibliographic Explorer Toggle Bibliographic Explorer ( What is the Explorer? ) Connected Papers Toggle Connected Papers ( What is Connected Papers? ) Litmaps Toggle Litmaps ( What is Litmaps? ) scite.ai Toggle scite Smart Citations ( What are Smart Citations? ) Code, Data, Media Code, Data and Media Associated with this Article alphaXiv Toggle alphaXiv ( What is alphaXiv? ) Links to Code Toggle CatalyzeX Code Finder for Papers ( What is CatalyzeX? ) DagsHub Toggle DagsHub ( What is DagsHub? ) GotitPub Toggle Gotit.pub ( What is GotitPub? ) Huggingface Toggle Hugging Face ( What is Huggingface? ) Links to Code Toggle Papers with Code ( What is Papers with Code? ) ScienceCast Toggle ScienceCast ( What is ScienceCast? ) Demos Demos Replicate Toggle Replicate ( What is Replicate? ) Spaces Toggle Hugging Face Spaces ( What is Spaces? ) Spaces Toggle TXYZ.AI ( What is TXYZ.AI? ) Related Papers Recommenders and Search Tools Link to Influence Flower Influence Flower ( What are Influence Flowers? ) Core recommender toggle CORE Recommender ( What is CORE? ) IArxiv recommender toggle IArxiv Recommender ( What is IArxiv? ) Author Venue Institution Topic About arXivLabs arXivLabs: experimental projects with community collaborators arXivLabs is a framework that allows collaborators to develop and share new arXiv features directly on our website. Both individuals and organizations that work with arXivLabs have embraced and accepted our values of openness, community, excellence, and user data privacy. arXiv is committed to these values and only works with partners that adhere to them. Have an idea for a project that will add value for arXiv's community? Learn more about arXivLabs . Which authors of this paper are endorsers? | Disable MathJax ( What is MathJax? )\", \"mimetype\": \"text/plain\", \"start_char_idx\": 0, \"end_char_idx\": 3956, \"metadata_seperator\": \"\\n\", \"text_template\": \"{metadata_str}\\n\\n{content}\", \"class_name\": \"TextNode\"}\n",
            "\n",
            "_node_type: TextNode\n",
            "\n",
            "document_id: 49e0afe2-5b42-43ab-89a4-432f5f2d48d3\n",
            "\n",
            "doc_id: 49e0afe2-5b42-43ab-89a4-432f5f2d48d3\n",
            "\n",
            "ref_doc_id: 49e0afe2-5b42-43ab-89a4-432f5f2d48d3\n",
            "\n",
            "Text:\n",
            "[\"High Energy Physics - Theory arXiv:1804.06985 (hep-th) [Submitted on 19 Apr 2018] Title: A Near Horizon Extreme Binary Black Hole Geometry Authors: Jacob Ciafre , Maria J. Rodriguez View a PDF of the paper titled A Near Horizon Extreme Binary Black Hole Geometry, by Jacob Ciafre and Maria J. Rodriguez View PDF Abstract: A new solution of four-dimensional vacuum General Relativity is presented. It describes the near horizon region of the extreme (maximally spinning) binary black hole system with two identical extreme Kerr black holes held in equilibrium by a massless strut. This is the first example of a non-supersymmetric, asymptotically flat near horizon extreme binary black hole geometry of two uncharged black holes. The black holes are co-rotating, and the solution is uniquely specified by the mass. The binary extreme system has finite entropy. The distance between the black holes is fixed, but there is a zero-distance limit where the objects collapse into one. This limiting geometry corresponds to the near horizon extreme Kerr (NHEK) black hole. Comments: 1 figure Subjects: High Energy Physics - Theory (hep-th) ; High Energy Astrophysical Phenomena (astro-ph.HE); General Relativity and Quantum Cosmology (gr-qc) Cite as: arXiv:1804.06985 [hep-th] (or arXiv:1804.06985v1 [hep-th] for this version) https://doi.org/10.48550/arXiv.1804.06985 Focus to learn more arXiv-issued DOI via DataCite Related DOI : https://doi.org/10.1140/epjc/s10052-019-7188-3 Focus to learn more DOI(s) linking to related resources Submission history From: Maria J. Rodriguez [ view email ] [v1] Thu, 19 Apr 2018 03:15:45 UTC (173 KB) Full-text links: Access Paper: View a PDF of the paper titled A Near Horizon Extreme Binary Black Hole Geometry, by Jacob Ciafre and Maria J. Rodriguez View PDF TeX Source Other Formats view license Current browse context: hep-th <\\xa0prev | next\\xa0> new | recent | 2018-04 Change to browse by: astro-ph astro-ph.HE gr-qc References & Citations INSPIRE HEP NASA ADS Google Scholar Semantic Scholar a export BibTeX citation Loading... BibTeX formatted citation × loading... Data provided by: Bookmark Bibliographic Tools Bibliographic and Citation Tools Bibliographic Explorer Toggle Bibliographic Explorer ( What is the Explorer? ) Connected Papers Toggle Connected Papers ( What is Connected Papers? ) Litmaps Toggle Litmaps ( What is Litmaps? ) scite.ai Toggle scite Smart Citations ( What are Smart Citations? ) Code, Data, Media Code, Data and Media Associated with this Article alphaXiv Toggle alphaXiv ( What is alphaXiv? ) Links to Code Toggle CatalyzeX Code Finder for Papers ( What is CatalyzeX? ) DagsHub Toggle DagsHub ( What is DagsHub? ) GotitPub Toggle Gotit.pub ( What is GotitPub? ) Huggingface Toggle Hugging Face ( What is Huggingface? ) Links to Code Toggle Papers with Code ( What is Papers with Code? ) ScienceCast Toggle ScienceCast ( What is ScienceCast? ) Demos Demos Replicate Toggle Replicate ( What is Replicate? ) Spaces Toggle Hugging Face Spaces ( What is Spaces? ) Spaces Toggle TXYZ.AI ( What is TXYZ.AI? ) Related Papers Recommenders and Search Tools Link to Influence Flower Influence Flower ( What are Influence Flowers? ) Core recommender toggle CORE Recommender ( What is CORE? ) IArxiv recommender toggle IArxiv Recommender ( What is IArxiv? ) Author Venue Institution Topic About arXivLabs arXivLabs: experimental projects with community collaborators arXivLabs is a framework that allows collaborators to develop and share new arXiv features directly on our website. Both individuals and organizations that work with arXivLabs have embraced and accepted our values of openness, community, excellence, and user data privacy. arXiv is committed to these values and only works with partners that adhere to them. Have an idea for a project that will add value for arXiv's community? Learn more about arXivLabs . Which authors of this paper are endorsers? | Disable MathJax ( What is MathJax? )\"]\n",
            "\n",
            "Embedding:\n",
            "[-0.00019850228272844106, 0.00703177647665143, -0.004589749500155449, -0.002284363843500614, -0.007623889483511448, 0.019900593906641006, -0.014799314551055431, -0.028337324038147926, -0.007315570022910833, -0.03419538587331772, 0.012669109739363194, 0.0160185769200325, -0.012157580815255642, 0.010461825877428055, -0.007245497778058052, 0.014462966471910477, 0.021764522418379784, 0.01635492406785488, 0.024959828704595566, -0.00997832603752613, -0.016845431178808212, 0.010833210311830044, -0.007504765875637531, -0.004589749500155449, -0.006005214061588049, 0.008149432949721813, 0.017938563600182533, -0.002366699045524001, -0.003762893844395876, -0.02182058058679104, 0.012886335141956806, 0.0036367634311318398, -0.01848512887954712, 0.014505010098218918, -0.006849587894976139, 0.031897008419036865, 0.02456742338836193, 0.00875906366854906, 0.03108416683971882, 0.012339768931269646, 0.01604660600423813, 0.020152853801846504, -0.00915146991610527, -0.009775115177035332, 0.01432282105088234, -0.00845775194466114, 0.023768596351146698, -0.02029299922287464, -0.001319115050137043, -0.003804937470704317, 0.029262280091643333, 0.025043915957212448, -0.026165075600147247, 0.005258942022919655, 0.018989650532603264, -0.019213883206248283, -0.002373706316575408, 0.01642499677836895, -0.0014759022742509842, -0.01021657232195139, 0.006856595166027546, -0.01991460844874382, -0.0031847956124693155, -0.0014601359143853188, -0.01732192561030388, -0.007848121225833893, -0.017756374552845955, -0.0028642138931900263, -0.013299763202667236, -0.014855372719466686, 0.019480157643556595, 0.01964833214879036, -0.011183572933077812, -0.03049555793404579, 0.021722478792071342, -0.029738774523139, -0.011779189109802246, -0.003952089697122574, -0.01170210912823677, 0.0008119652047753334, 0.00491208303719759, 0.004305955953896046, -0.00421836506575346, 0.014147640205919743, -0.0020180882420390844, -0.005956163629889488, 0.0001347801007796079, 0.02486172690987587, -0.007315570022910833, -0.012059479020535946, 0.022815609350800514, -0.019325999543070793, 0.029038049280643463, 0.008555853739380836, -0.0038644990418106318, -0.0010178032098338008, 0.004211357794702053, 0.021876638755202293, -0.017237838357686996, -0.016481054946780205, -0.01025861594825983, 0.004838507156819105, -0.014883401803672314, -0.020222926512360573, -0.017980607226490974, 0.005710909608751535, -0.0148693872615695, -8.337534382008016e-05, 0.007399657275527716, 0.0009372198255732656, -0.0020846573170274496, -0.014448951929807663, -0.0034177866764366627, -0.04176321625709534, 0.0302993543446064, 0.016074635088443756, 0.01803666539490223, -0.01698557659983635, -0.011975392699241638, -0.012928378768265247, 0.023978814482688904, 0.02197474054992199, -0.00016773607057984918, -0.007686954457312822, 0.01736396923661232, 0.029766803607344627, -0.006558787077665329, -0.020461173728108406, 0.00732257729396224, -0.021288029849529266, 0.004267415963113308, 0.014462966471910477, -0.0020601318683475256, 0.02253532037138939, -0.001110649318434298, 0.019522201269865036, -0.04627588763833046, -0.02786083146929741, -0.018429070711135864, -0.0396890714764595, 0.011225616559386253, 0.029766803607344627, -0.012711153365671635, 0.009312637150287628, -0.016186749562621117, 0.03405524045228958, -0.000763790390919894, 0.0075748385861516, 0.0011500651016831398, -0.013629104010760784, 0.006597327068448067, 0.002356188138946891, 0.01649506948888302, 0.02156831882894039, 0.013306770473718643, 0.004516173619776964, -0.02156831882894039, 0.028379367664456367, -0.024735596030950546, -0.04885455593466759, -0.02587077207863331, 0.004785952623933554, 0.017938563600182533, -0.013285748660564423, 0.03528851643204689, 0.025660553947091103, 0.0025821721646934748, 0.006628859788179398, 0.012521957978606224, -0.02474961057305336, -0.01237480528652668, 0.027160106226801872, -0.03307422623038292, -0.015275808051228523, -0.007000243756920099, 0.018443085253238678, 0.019900593906641006, 0.0065062325447797775, -0.031784892082214355, -0.007651918102055788, -0.00021864812879357487, -0.0039976369589567184, 0.01953621581196785, 0.03231744095683098, -0.002210787730291486, 0.01821885257959366, 0.034671880304813385, -0.032233353704214096, 0.01320166140794754, -0.018288925290107727, 0.007630896754562855, 0.02385268360376358, -0.02850549854338169, 0.013173632323741913, -0.6336797475814819, -0.016228793188929558, 0.005472663324326277, -0.02673966996371746, -0.02606697380542755, -0.009046360850334167, 0.004736901726573706, 0.01901767961680889, -0.009810151532292366, 0.015878431499004364, -0.02617909014225006, -0.0015818868996575475, 0.004638800397515297, -0.019900593906641006, -0.020082781091332436, -0.010721093975007534, -0.007504765875637531, -0.003375743282958865, -0.005563757382333279, -0.0025839239824563265, -0.013411878608167171, 0.0024280124343931675, -0.01687346026301384, 0.003980118781328201, 0.02130204439163208, 0.007385642733424902, 0.030579643324017525, -0.01964833214879036, -0.012367798015475273, 0.002883483888581395, -0.009277600795030594, 0.0023702026810497046, -0.004123767372220755, -0.006625356152653694, 0.044005539268255234, -0.050676438957452774, 0.01915782503783703, 0.01821885257959366, 0.011358753778040409, 0.03837170824408531, -0.015093619003891945, -0.004824492614716291, 0.021666420623660088, 0.003966104239225388, -0.00116057600826025, -0.004355006385594606, 0.008373665623366833, -0.02088160812854767, -0.008275563828647137, -0.017532141879200935, -0.01785447634756565, 0.00718243233859539, 0.014147640205919743, 0.014533039182424545, 0.004316466860473156, -0.016775358468294144, 0.0314205139875412, -0.01278823334723711, -0.012549987062811852, -0.005574268288910389, -0.009754093363881111, -0.005451641511172056, -0.007960237562656403, -0.01646704040467739, -0.0076799471862614155, -0.007129878271371126, -0.015093619003891945, 0.007504765875637531, 0.010573942214250565, 0.017560170963406563, 0.020797520875930786, 0.03074781782925129, -0.0222410149872303, 0.0023894726764410734, 0.026193104684352875, 0.02493179962038994, 0.03730660676956177, -0.0012656847247853875, -0.0008789720595814288, 0.007287541404366493, 0.008857165463268757, 0.010693064890801907, -0.018204838037490845, -0.008079360239207745, 0.021358102560043335, 0.003959096968173981, -0.007476736791431904, 0.008170454762876034, -0.0015792592894285917, -0.007532794959843159, 0.011449848301708698, 0.008086367510259151, -0.006089301314204931, -0.0336628332734108, -0.011442841030657291, 0.025184061378240585, 0.00935468077659607, 0.017055649310350418, 0.02076949179172516, -0.014897416345775127, 7.003829523455352e-06, -0.02587077207863331, 0.008506802842020988, -0.018835490569472313, 0.009698035195469856, 0.008976289071142673, -0.009221542626619339, -0.029738774523139, 0.040557969361543655, -0.05227409303188324, -0.008997310884296894, -0.0010712335351854563, -0.02620711922645569, 0.022941740229725838, -0.0009827669709920883, -0.029878919944167137, 0.004025665577501059, 0.007231483235955238, -0.015219749882817268, -0.015191720798611641, 0.04507064074277878, 0.015079604461789131, 0.008422715589404106, -0.0005658355075865984, 0.009691028855741024, 0.004803470801562071, 0.021988755092024803, -0.022184956818819046, -0.05813215672969818, -0.014925445429980755, 0.009032347239553928, 0.017041634768247604, 0.034896109253168106, -0.005122300703078508, 0.04425779730081558, -0.003818952012807131, 0.021834595128893852, 0.012683124281466007, 0.00024131221289280802, -0.02737032249569893, -0.017349954694509506, -0.009789129719138145, 0.015359894372522831, 0.002487574238330126, -0.012977429665625095, -0.017335940152406693, -0.0036122379824519157, 0.006162877194583416, 0.01949417218565941, -0.0018831987399607897, -0.01093131210654974, 0.010461825877428055, -7.478050974896178e-05, 0.011779189109802246, -0.004344495944678783, -0.026683611795306206, -0.005080257076770067, -0.05261044204235077, -0.006621852517127991, -9.103952470468357e-05, 0.02051723189651966, 0.018989650532603264, -0.017448054626584053, 0.003931067883968353, 0.006394116673618555, 0.0008544466691091657, 0.005469159688800573, 0.016859445720911026, -0.010202557779848576, -0.02828126586973667, -0.0041798255406320095, -0.015415952540934086, -0.030691759660840034, -0.0014785300008952618, -0.024469321593642235, 0.0016747330082580447, -0.01604660600423813, -0.009368694387376308, -0.004540698602795601, 0.0013646621955558658, 0.000851819000672549, 0.010573942214250565, -0.044874437153339386, -0.0021109343506395817, 0.01109948568046093, 0.021918682381510735, 0.00971204973757267, 5.145950126461685e-05, 0.003081438597291708, 0.009698035195469856, -0.0076799471862614155, 0.03385903686285019, -0.01168108731508255, 0.02369852364063263, -0.02226904407143593, -0.01765827275812626, -0.001867432496510446, 0.013166625052690506, -0.015093619003891945, 0.027104048058390617, 0.02748243883252144, 0.00016872146807145327, 0.022227000445127487, -0.00704228738322854, 0.005858061835169792, -0.011730138212442398, 0.008226512931287289, -0.013818299397826195, 0.0015556097496300936, -0.0019392567919567227, 0.013867350295186043, -0.029682716354727745, -0.004726390819996595, -0.024287132546305656, 0.005059235263615847, 0.016032591462135315, 0.005269452929496765, 0.03453173488378525, -0.0005347408587113023, 0.007476736791431904, -0.0013243705034255981, 0.009782122448086739, 0.014273771084845066, 0.01432282105088234, -0.01897563599050045, -0.006562290713191032, 0.02399282716214657, 0.024637496098876, 0.011835247278213501, -0.017784403637051582, 0.005104782525449991, 0.0007598488009534776, 0.011183572933077812, -0.001874439651146531, 0.024889755994081497, 0.02931833826005459, 0.006201417185366154, -0.010153506882488728, 0.02853352762758732, 0.001584514626301825, -0.007014258299022913, -0.0021196934394538403, 0.009789129719138145, -0.002778375055640936, 0.00010532774467719719, -0.004474129993468523, 0.016733316704630852, 0.0064396639354527, -0.0003584646910894662, -0.026123031973838806, -0.012192617170512676, 0.022521305829286575, -0.01443493738770485, 0.03408326953649521, 0.042211681604385376, 0.010861239396035671, -0.00018415931845083833, 0.0128793278709054, 0.0033985169138759375, 0.018008636310696602, 0.010314674116671085, -0.00433048140257597, -0.009074389934539795, -0.03282196447253227, 0.020559275522828102, -0.021428173407912254, -0.01964833214879036, -0.004376028198748827, -0.014182676561176777, 0.007511773146688938, -0.017532141879200935, -0.014743256382644176, 0.009494825266301632, -0.0020496209617704153, 0.014715227298438549, 0.0021827586460858583, -0.005346532445400953, -0.0024525378830730915, 0.025604495778679848, 0.010419782251119614, -0.036129388958215714, -0.032681819051504135, 0.02103576809167862, 0.02040511555969715, 0.003811944741755724, -0.011064449325203896, 0.008920230902731419, 0.02051723189651966, 0.004947119392454624, 0.0382595919072628, 0.008815121836960316, -0.007785056252032518, -0.0014461214886978269, -0.011449848301708698, -0.02573062665760517, -0.01649506948888302, 0.023053856566548347, -0.019942637532949448, 0.011386782862246037, -0.007553816772997379, 0.0008750304696150124, 0.002272101119160652, -0.015654198825359344, 0.0014785300008952618, 0.03307422623038292, -0.017391998320817947, 0.0014855372719466686, -0.013769248500466347, -0.010622993111610413, -0.024623481556773186, 0.009200520813465118, -0.01318063959479332, -0.0046107713133096695, -0.0034055241849273443, 0.000498390756547451, -0.025520408526062965, -0.018134765326976776, 0.020643362775444984, 0.019410084933042526, -0.0012648088159039617, -0.00661134161055088, -0.002538376720622182, -0.014785300008952618, -0.011029412969946861, 0.06474699825048447, 0.0154299670830369, -0.02130204439163208, 0.019592273980379105, -0.00478244898840785, -0.012220646254718304, 0.0006429153145290911, 0.0016589667648077011, 0.003710339544340968, 0.002771367784589529, 0.02118992805480957, -0.0168314166367054, -0.015289821662008762, 0.013159617781639099, 0.032457586377859116, -0.01346092950552702, 0.012150573544204235, -0.026193104684352875, -0.0005842295940965414, 0.017784403637051582, -0.017265867441892624, 0.009270593523979187, 0.004383035469800234, 0.017013605684041977, 0.016733316704630852, -0.01586441695690155, 0.027328278869390488, 0.003962600603699684, 0.004064205568283796, -0.024399248883128166, 0.008787092752754688, -0.004421575460582972, -0.0068530915305018425, -0.009312637150287628, -0.0040326728485524654, -0.00687060970813036, 0.029122136533260345, -0.004572231322526932, 0.019115781411528587, -0.02175050787627697, 0.00048437624354846776, 0.001489916816353798, 0.010896275751292706, 0.005195876583456993, 0.0003225525433663279, -0.001685243914835155, -0.0029220236465334892, 0.028043018653988838, -0.02812710590660572, 0.012430863454937935, 0.017111707478761673, 0.001741301966831088, -0.021918682381510735, -0.02467953786253929, -0.013818299397826195, 0.011190580204129219, 0.0016361931338906288, -0.020236941054463387, -0.004680844023823738, -0.02175050787627697, -0.007841113954782486, -0.027202149853110313, 0.018176808953285217, 0.010300659574568272, -0.01070707943290472, -0.029038049280643463, -0.029794832691550255, -0.011653059162199497, -0.017391998320817947, 0.009060375392436981, -0.010615985840559006, -0.02374056726694107, -0.02906607836484909, 0.027888860553503036, 0.010700072161853313, -0.0046352967619895935, -0.0020303509663790464, -0.005024198908358812, -0.007764034438878298, -0.017938563600182533, -0.027174120768904686, -0.0006726961000822484, 0.00843673013150692, -0.021217957139015198, -0.004891061224043369, 0.0003383188450243324, -0.00617689173668623, -0.00025072821881622076, -0.004008147865533829, 0.031476572155952454, -0.0031865474302321672, 0.003717346815392375, 0.012038457207381725, -0.010454818606376648, 0.00673046475276351, -0.005682880524545908, 0.013019472360610962, -0.0022265540901571512, -0.004645807668566704, -0.00871702004224062, -0.02403487078845501, 0.0006297766813077033, 0.0018271408043801785, -0.012774218805134296, 0.00871702004224062, 0.0104057677090168, 0.004722887184470892, 0.0232080165296793, -0.003162022214382887, -0.01582237333059311, 0.00010352118988521397, -0.00632054079324007, 0.009347673505544662, 0.0034878593869507313, 0.008976289071142673, 0.011884298175573349, 0.03607333078980446, 0.01332779135555029, -0.02284363843500614, -0.014547053724527359, 0.007932208478450775, -0.0056443409994244576, 0.021624376997351646, 0.007539802230894566, 0.0020408618729561567, 0.021834595128893852, -0.014308806508779526, -0.02369852364063263, -0.035120341926813126, 0.005195876583456993, -0.01010445598512888, -0.0050417170859873295, 0.0019287458853796124, -0.018429070711135864, -0.031336426734924316, -0.015780329704284668, -0.00448113726451993, -0.011351746506989002, 0.014028516598045826, -0.018807461485266685, 0.0188214760273695, -0.003710339544340968, -0.001123787951655686, -0.006758493836969137, -0.023236045613884926, -0.0271881353110075, -0.026753684505820274, 0.026151061058044434, -0.009158477187156677, -0.00476142717525363, -0.0017850972944870591, -0.013509980402886868, 0.008513810113072395, -0.025884786620736122, -0.021890653297305107, -0.033999182283878326, 0.0019024687353521585, 0.005675873253494501, 0.028267251327633858, 0.017560170963406563, 0.029598629102110863, -0.0023071374744176865, 0.013811292126774788, 0.03926863521337509, 0.010069419629871845, 0.009291615337133408, 0.010398760437965393, 0.0062644826248288155, -0.0145890973508358, 0.011386782862246037, 0.018316954374313354, -0.008920230902731419, -0.007869143038988113, -0.034027211368083954, 0.015373908914625645, 0.024287132546305656, 0.018008636310696602, 0.0045617204159498215, -0.004456611815840006, -0.05230212211608887, -0.007834106683731079, -0.013888372108340263, -3.678806751850061e-05, -0.005108286160975695, -0.03910046070814133, -0.020264970138669014, 0.010552920401096344, 0.006415138486772776, 0.009901246055960655, -0.0026610037311911583, 0.017462069168686867, -0.0018464106833562255, 0.020236941054463387, 0.0017001343658193946, 0.03915651887655258, -0.03643770515918732, -0.006905646063387394, 0.0009670006693340838, 0.012872320599853992, 0.018989650532603264, 0.00011222550529055297, 0.025660553947091103, 0.014827343635261059, -0.023334145545959473, 0.016845431178808212, -0.003622748889029026, 0.008114396594464779, 0.004919090308248997, -0.01100839115679264, -0.01531785074621439, 0.0025173549074679613, -0.03377494961023331, -0.003470341209322214, -0.020124824717640877, -0.02152627520263195, 0.012802247889339924, 0.0005540107958950102, 0.028253236785531044, -0.023754581809043884, -0.009305629879236221, 0.0027188134845346212, 0.00980314426124096, 0.03531654551625252, 0.01262005977332592, 0.02730024978518486, 0.043557073920965195, 0.011505906470119953, -0.01821885257959366, 0.010132485069334507, -0.009088404476642609, 0.016887474805116653, 0.02835133858025074, 0.014533039182424545, -0.03719449043273926, -0.02673966996371746, 0.030355412513017654, 0.004600260406732559, -0.026431351900100708, -0.03441961854696274, 0.020909637212753296, -0.019788477569818497, 0.01863928884267807, -0.002209035912528634, -0.0005886090802960098, -0.016523098573088646, -0.009641977958381176, -0.004333985038101673, 0.013124581426382065, -0.017391998320817947, -0.003338955109938979, -0.006565794348716736, 0.016971562057733536, 0.001974293030798435, 0.03853988274931908, 0.013425893150269985, -0.019073737785220146, 0.009859202429652214, -0.00718243233859539, -0.006089301314204931, 0.00420785415917635, -0.017910534515976906, 0.04064205661416054, -0.020657377317547798, -0.0019848039373755455, 0.015556097961962223, -0.003496618242934346, -0.007336591836065054, -0.02793090231716633, -0.0009652488515712321, 0.02680974267423153, -0.0004287561750970781, -0.004891061224043369, -0.011456855572760105, -0.02568858303129673, 0.003598223440349102, 0.006947689689695835, -0.0005886090802960098, -0.0030253806617110968, 0.013131588697433472, 0.009361688047647476, 0.012977429665625095, 0.023978814482688904, 0.007862135767936707, -0.017602214589715004, 0.003591216169297695, -0.006103315856307745, -0.027440395206212997, 0.00267676985822618, -0.015500039793550968, -0.04204350709915161, -0.03660587966442108, -0.007813084870576859, -0.004193839617073536, 0.01387435756623745, -0.001521449419669807, -0.005980689078569412, -0.009284608066082, 0.022927725687623024, -0.026711640879511833, 0.01053890585899353, 0.028323309496045113, 0.01886351965367794, -0.02711806260049343, -0.0020110812038183212, 0.002140715252608061, 0.030579643324017525, 0.018947606906294823, -0.00954387616366148, -0.002475311513990164, -0.030579643324017525, -0.002668011002242565, 0.01919986866414547, 0.013166625052690506, 0.0030446506571024656, -0.0043970500119030476, 0.002915016608312726, 0.013811292126774788, -0.016060620546340942, -0.0024788151495158672, 0.036998286843299866, -0.009719057008624077, -0.004873543046414852, -0.008233520202338696, -0.017335940152406693, 0.006656888406723738, -0.00225983839482069, -0.003407276002690196, -0.004347999580204487, -0.026417337357997894, 0.011218609288334846, -0.003256619907915592, 0.0053885760717093945, -0.01777038909494877, -0.017055649310350418, -0.02076949179172516, -0.021021753549575806, -0.029346367344260216, -0.001117656589485705, 0.0177003163844347, 0.013881364837288857, 0.015009531751275063, 0.029934976249933243, -0.008801107294857502, -0.005125804338604212, -0.006593823432922363, -0.004116760101169348, 0.01406355295330286, 0.01391640119254589, -0.05025600641965866, -0.007280534133315086, 0.008752056397497654, 0.031364455819129944, 0.006145359482616186, -0.030691759660840034, 0.008044324815273285, -0.03170080482959747, -0.008646948263049126, 0.025786684826016426, -0.011730138212442398, 0.020110810175538063, 0.01564018428325653, 0.003389757825061679, 0.02430114708840847, 0.037222519516944885, 0.019550230354070663, 0.029486512765288353, 0.006411634851247072, 0.0038644990418106318, 0.000820286339148879, 0.009810151532292366, 0.019508186727762222, -0.018162794411182404, -0.04285634681582451, -0.005780982319265604, 0.03853988274931908, 0.009487817995250225, 0.018050679937005043, 0.04142686724662781, 0.007813084870576859, 0.005693391431123018, 0.03576501086354256, -0.012795240618288517, -0.0072735268622636795, 0.02175050787627697, 0.00017868490249384195, -0.06441064924001694, -0.020222926512360573, 0.006972215138375759, -0.007392650004476309, -0.023768596351146698, 0.00562682282179594, 0.012998450547456741, 0.0033442105632275343, 0.01664922945201397, -0.0064711966551840305, -0.021806566044688225, 0.015457996167242527, -0.0452948734164238, 0.02872972935438156, 0.011779189109802246, 0.01079817395657301, 0.031560659408569336, 0.02617909014225006, -0.006867106072604656, 0.003794426564127207, 0.006106819491833448, -0.01897563599050045, 0.004116760101169348, 0.004835003521293402, -0.018050679937005043, 0.020054752007126808, -0.016074635088443756, 0.007427686359733343, -0.008899209089577198, 0.01747608371078968, -0.02828126586973667, -0.02013883925974369, -0.016789373010396957, 0.020559275522828102, 0.015051575377583504, -0.027664627879858017, -0.018611259758472443, 0.013131588697433472, -0.010580949485301971, 0.013713190332055092, 0.007518780417740345, -0.015696242451667786, -0.005658355541527271, 0.013425893150269985, -0.0031725328881293535, -0.01886351965367794, -0.013138595968484879, 0.024090928956866264, 0.006726961117237806, 0.0036893177311867476, 0.010433796793222427, 0.18723374605178833, -0.0233621746301651, 0.01329275593161583, 0.010615985840559006, -0.031560659408569336, -0.014841358177363873, 0.012437870725989342, 0.007532794959843159, -0.003312678076326847, 0.020895622670650482, 0.004523180425167084, 0.010868246667087078, -0.011183572933077812, -0.0024087426718324423, 0.027650613337755203, -0.026417337357997894, -0.031112195923924446, -0.020783506333827972, 0.0004280992434360087, -0.0008894829661585391, -0.006937178783118725, 0.01886351965367794, -0.0027118062134832144, -0.012592030689120293, 0.03195306658744812, -0.020391101017594337, -0.009627963416278362, -0.020461173728108406, -0.006355576682835817, -0.0019304977031424642, -0.009880224242806435, -0.027776744216680527, 0.025786684826016426, -0.006383605767041445, 0.00012766335566993803, 0.01334881316870451, 0.02126000076532364, 0.012234660796821117, 0.010300659574568272, 0.025268148630857468, -0.007336591836065054, -0.00021755325724370778, 0.0046948581002652645, -0.012606045231223106, 0.018120750784873962, 0.012129551731050014, -0.004039680119603872, 0.009754093363881111, -0.008836143650114536, 0.0007948850397951901, -0.02598288655281067, -0.0008049579919315875, 0.035905156284570694, 0.033214371651411057, -0.01023759413510561, -0.009670007042586803, 0.0021862622816115618, 0.008674977347254753, 0.0072735268622636795, 0.019003665074706078, -0.023320132866501808, 0.012830276973545551, -0.00703177647665143, 0.0416230708360672, -0.009719057008624077, 0.016999591141939163, -0.015766315162181854, -0.013986472971737385, 0.009102419018745422, -0.017728345468640327, 0.015990547835826874, -0.012578016147017479, -0.014378879219293594, -0.022521305829286575, -0.01547201070934534, -0.02126000076532364, 0.009887231513857841, -0.009775115177035332, 0.015121648088097572, 0.024665523320436478, 0.011204594746232033, -0.007553816772997379, 0.01960628852248192, -0.01960628852248192, -0.016957547515630722, -0.03820353373885155, 0.004600260406732559, 0.004827996250241995, -0.018835490569472313, -0.014420922845602036, -0.0038399735931307077, 0.014161654748022556, -0.011351746506989002, -0.014631140045821667, 0.0065062325447797775, -0.003675303189083934, -0.02362845093011856, -0.00547616695985198, -0.044117651879787445, 0.011330725625157356, -0.011526928283274174, 0.04428582638502121, 0.0014180924044921994, -0.00826855655759573, 0.002340422011911869, -0.01192634180188179, 0.0018148780800402164, 0.013706183061003685, 0.026781713590025902, -0.01322268322110176, 0.021582333371043205, -0.02013883925974369, -0.007126374635845423, -0.010111463256180286, 0.005392079707235098, 0.02389472723007202, 0.011674080044031143, -0.018162794411182404, -0.012711153365671635, -0.02250729128718376, -0.00787615031003952, -0.02474961057305336, 0.0007020389894023538, 0.003934571519494057, -0.009950296953320503, -0.0311682540923357, -0.013313776813447475, -0.012220646254718304, -0.020951680839061737, -0.008380671963095665, 0.008513810113072395, -0.01931198500096798, 0.03783915564417839, -0.004996170289814472, 0.009004318155348301, 0.0015880182618275285, 0.01669127307832241, -0.030663730576634407, -0.02069942094385624, 0.008667970076203346, -0.008114396594464779, -0.0066709029488265514, 0.0064396639354527, 0.0037769083864986897, 0.02351633459329605, -0.03441961854696274, 0.026571497321128845, -0.014056545682251453, -0.007315570022910833, -0.019143810495734215, -0.014953473582863808, -0.009873216971755028, -0.008198483847081661, 0.001136050559580326, 0.013110566884279251, -0.01725185289978981, -0.025856757536530495, -0.04728493094444275, -0.0014049538876861334, 0.002948300912976265, -0.028925932943820953, 0.008976289071142673, 0.013313776813447475, -0.02962665818631649, -0.00997832603752613, -0.003990629687905312, -0.18061891198158264, 0.006232949905097485, 0.018443085253238678, -0.0067935301922261715, 0.017349954694509506, 0.018835490569472313, 0.009950296953320503, 0.009284608066082, -0.008331621997058392, -0.001988307572901249, 0.012830276973545551, -0.001344516291283071, -0.013601074926555157, -0.022367145866155624, 0.024581437930464745, 0.001710645155981183, 0.0024577933363616467, 0.0008693371200934052, 0.01447698101401329, 0.0031865474302321672, 0.013096552342176437, -0.030607672408223152, 0.0433608703315258, 0.004512669984251261, 0.00903935357928276, 0.006134848576039076, -0.008773078210651875, 0.03921257704496384, 0.007616882212460041, 0.003452823031693697, 0.00973307155072689, -0.005031206179410219, 0.03352268785238266, 0.0027871341444551945, 0.009025339968502522, 0.012528965249657631, -0.01924191229045391, 0.01702762022614479, -0.022633422166109085, 0.008576875552535057, 0.039016373455524445, -0.009508839808404446, -0.004253401421010494, -0.0121155371889472, -0.02032102830708027, 0.018288925290107727, 0.0018218853510916233, -0.0034125312231481075, 0.0035579318646341562, -0.03809141740202904, 0.0034791002981364727, -0.036101359874010086, 0.018723376095294952, 0.013271734118461609, 0.025338219478726387, -0.00645017484202981, -0.020559275522828102, 0.02291371114552021, 0.009228549897670746, -0.006534261628985405, -0.030551616102457047, -0.0123958270996809, -0.0029693227261304855, -0.013888372108340263, 0.013755233958363533, -0.0257586557418108, 0.018064694479107857, -0.006551779806613922, -0.027720686048269272, -0.01264108158648014, -0.015990547835826874, -0.009025339968502522, 0.003048154292628169, 0.003416034858673811, 0.009782122448086739, 0.022212985903024673, -0.02662755362689495, 0.0053044892847537994, 0.010868246667087078, -0.008373665623366833, -0.0018271408043801785, 0.011330725625157356, -0.010174528695642948, -0.00963497068732977, 0.0050662425346672535, -0.00817746203392744, -0.025113988667726517, -0.010791166685521603, -0.004319970495998859, -0.008100382052361965, 0.010321681387722492, -0.030383441597223282, 0.012795240618288517, -0.02088160812854767, 0.004428582731634378, -0.0026417337357997894, -0.005322007462382317, -0.007343599107116461, 0.01845709979534149, -0.0067690047435462475, 0.04064205661416054, 0.00882913637906313, -0.004796463530510664, -0.009817158803343773, 0.02723017893731594, 0.010503869503736496, -0.02546435035765171, 0.019662346690893173, 0.044341884553432465, -0.008079360239207745, -0.014140632934868336, -0.008331621997058392, 0.02295575477182865, 0.006492218002676964, 0.0010046646930277348, 0.019550230354070663, 0.00926358625292778, -0.026879815384745598, 0.013425893150269985, -0.012956407852470875, 0.04392145201563835, 0.0038890244904905558, -0.04725690186023712, 0.006404627580195665, -0.012255682609975338, -0.022367145866155624, -0.10000748932361603, -0.016509084030985832, -0.00018558267038315535, 0.0121155371889472, -8.118557161651552e-05, 0.008394686505198479, -0.008920230902731419, -0.010209565050899982, -0.009137455374002457, 0.03517640009522438, -0.027986960485577583, -0.021428173407912254, -0.004095738288015127, 0.00915146991610527, -0.0035369100514799356, -0.005346532445400953, 0.010644014924764633, -0.022591378539800644, -0.0057039023377001286, 0.017041634768247604, 0.0018779432866722345, -0.003629756160080433, -0.01192634180188179, 0.007441700901836157, 0.019101766869425774, -0.000321676634484902, -0.026305221021175385, 0.02868768572807312, 0.013909393921494484, -0.004326977767050266, -0.012725167907774448, -0.0018989650998264551, -0.013334798626601696, -0.027272222563624382, -0.010791166685521603, -0.012739182449877262, 0.004281430505216122, -0.003006110666319728, 0.01063000038266182, -0.04313663765788078, 0.000795760948676616, 0.025001872330904007, 0.02114788442850113, 0.0010589708108454943, -0.009992340579628944, -0.01359406765550375, -0.026165075600147247, 0.018877534195780754, -0.001515318057499826, -0.01042678952217102, -0.020503217354416847, -0.0145890973508358, -0.03184095025062561, 0.0014426178531721234, 0.029991034418344498, -0.017167765647172928, 0.009789129719138145, 0.02040511555969715, -0.014967488124966621, -0.0032093210611492395, -0.014035523869097233, 0.02118992805480957, -0.003748879302293062, 0.029542570933699608, 0.016971562057733536, 0.016032591462135315, -0.025772670283913612, -0.026080988347530365, -0.005742442328482866, -0.019396070390939713, -0.011611015535891056, 0.032345470041036606, 0.0032741380855441093, 0.003542165504768491, -0.016032591462135315, -0.01426676381379366, -0.024581437930464745, -0.021358102560043335, 0.005332518368959427, -0.016551127657294273, -0.018835490569472313, -0.026165075600147247, 0.001785973203368485, -0.013306770473718643, -0.0045021590776741505, 0.011246638372540474, -0.0010116718476638198, 0.0024210053961724043, 0.0390724316239357, -0.034447647631168365, 0.01868133246898651, 0.03971710056066513, 0.020657377317547798, -0.03848382458090782, 0.010770144872367382, 0.006716450210660696, 0.018330968916416168, -0.013313776813447475, 0.011526928283274174, -0.008822129108011723, -0.05238620936870575, 0.013608082197606564, -0.06581210345029831, 0.04837806150317192, 0.017223823815584183, -0.0247916541993618, -0.029794832691550255, -0.03498019650578499, 0.019003665074706078, 0.0037068359088152647, -0.01740601286292076, 0.01919986866414547, -0.011043427512049675, 0.005577771924436092, -0.011218609288334846, -0.027384337037801743, -0.021722478792071342, -0.032457586377859116, -0.002657500095665455, 0.0003218956117052585, 0.012367798015475273, 0.008710012771189213, 0.007014258299022913, 0.018316954374313354, 0.022367145866155624, 0.02163839153945446, -0.01608864963054657, 0.018120750784873962, -0.03327042981982231, 0.021876638755202293, 0.0006267110002227128, -0.015401937998831272, 0.025212090462446213, -0.02741236612200737, 0.008976289071142673, 0.051208991557359695, 0.0023964799474924803, -0.008324614726006985, 0.0008640816668048501, 0.0064396639354527, 0.02130204439163208, 0.04835003241896629, -0.029682716354727745, -0.0368301123380661, -0.010223579593002796, 0.00870300643146038, 0.02118992805480957, 0.03304619714617729, 0.010265623219311237, 0.012031449936330318, 0.01743404008448124, -0.003769901115447283, 0.027160106226801872, 0.021063797175884247, -0.0021950213704258204, -0.03904440253973007, -0.00275209778919816, 0.006737472023814917, -0.037586893886327744, -0.0011518169194459915, 0.005959667265415192, -0.00521339476108551, 0.042548030614852905, 0.009417745284736156, 0.016284851357340813, -0.015205735340714455, 0.02985089085996151, -0.0002443778794258833, -0.012500936165452003, -0.009053368121385574, 0.003030636114999652, -0.03957695513963699, -0.01306852325797081, 0.007953230291604996, 0.001571376109495759, 0.034139327704906464, -0.003906542435288429, -0.02414698712527752, -0.018583230674266815, 0.014077567495405674, -0.010700072161853313, -0.0010432045673951507, 0.006839076988399029, -0.008233520202338696, -0.01821885257959366, -0.013902386650443077, 0.02884184569120407, 0.006618348881602287, -0.010580949485301971, 0.010286645032465458, -0.0005413101753219962, 0.016677258536219597, 0.004197343252599239, 0.01830293983221054, 0.008142425678670406, 0.01220663171261549, 0.0072244759649038315, 0.007063309196382761, -0.010784159414470196, -0.02723017893731594, 0.026781713590025902, 0.011071456596255302, 0.016410982236266136, 0.005227409303188324, 0.004270919598639011, -0.028491484001278877, -0.01053890585899353, 0.017938563600182533, -0.021778536960482597, -0.030579643324017525, 0.0036087343469262123, 0.010286645032465458, 0.009424752555787563, -0.0006683165556751192, 0.010482847690582275, 0.02126000076532364, -0.034139327704906464, 0.02340421825647354, -0.010587956756353378, -0.027552511543035507, 0.0009705043048597872, 0.0288698747754097, 0.002279108390212059, 0.0027345798444002867, 0.017980607226490974, 0.004891061224043369, 0.017391998320817947, 0.024273118004202843, 0.043444957584142685, -0.011856269091367722, 0.013509980402886868, -0.032793935388326645, 0.021245986223220825, -0.00561631191521883, -0.004873543046414852, 0.0053885760717093945, -0.04047388210892677, -0.005150329787284136, 0.009943289682269096, -0.008282571099698544, 0.023726552724838257, 0.0918230190873146, 0.02062934823334217, 0.0005640837480314076, 0.03192503750324249, -0.03007512167096138, 0.02235313132405281, 0.01848512887954712, -0.0012288966681808233, -0.005749449599534273, -0.06939981877803802, -0.015766315162181854, -0.01051788404583931, 0.017490098252892494, -0.04072614386677742, 0.0004935732576996088, 0.0123958270996809, -0.012108529917895794, 0.010412774980068207, -0.028981991112232208, -0.0233621746301651, 0.008359651081264019, -0.014119611121714115, 0.03517640009522438, 0.010980363003909588, -0.023684509098529816, 0.017349954694509506, 0.007792063523083925, 0.022072840481996536, 0.008836143650114536, -0.006691924761980772, -0.00614886311814189, 0.01070707943290472, -0.031224310398101807, -0.030215267091989517, -0.0012166339438408613, -0.015107633545994759, -0.015668213367462158, 0.00011999917478533462, 0.042127594351768494, 0.008752056397497654, 0.008913223631680012, 0.02665558271110058, -0.007539802230894566, -0.013965451158583164, -0.009116433560848236, -0.005479670595377684, -0.007343599107116461, 0.006225942634046078, -0.040670085698366165]\n",
            "\n",
            "None\n"
          ]
        }
      ],
      "source": [
        "rec = 0 # record number\n",
        "print(display_record(rec))"
      ]
    },
    {
      "cell_type": "markdown",
      "metadata": {
        "id": "zkmI-xaZ9uiT"
      },
      "source": [
        "# Index-based RAG\n",
        "*   Vector store index engine\n",
        "*   Tree index\n",
        "*   List index\n",
        "*   Keyword table index\n",
        "\n",
        "\n"
      ]
    },
    {
      "cell_type": "code",
      "execution_count": 18,
      "metadata": {
        "id": "ok6C6nUv8HNh"
      },
      "outputs": [],
      "source": [
        "user_input = \"How do drones identify vehicles?\"\n",
        "\n",
        "#similarity_top_k\n",
        "k=3 #  top 3 most probable responses - k will serve as a ranking function\n",
        "temp=0.1\n",
        "mt=1024 # token limit"
      ]
    },
    {
      "cell_type": "code",
      "execution_count": 19,
      "metadata": {
        "colab": {
          "base_uri": "https://localhost:8080/"
        },
        "id": "o4Xux8Zx-Ofr",
        "outputId": "fb118b46-eaca-4ae7-cd97-5bdb585a185a"
      },
      "outputs": [
        {
          "output_type": "stream",
          "name": "stderr",
          "text": [
            "/usr/local/lib/python3.11/dist-packages/huggingface_hub/utils/_auth.py:94: UserWarning: \n",
            "The secret `HF_TOKEN` does not exist in your Colab secrets.\n",
            "To authenticate with the Hugging Face Hub, create a token in your settings tab (https://huggingface.co/settings/tokens), set it as secret in your Google Colab and restart your session.\n",
            "You will be able to reuse this secret in all of your notebooks.\n",
            "Please note that authentication is recommended but still optional to access public models or datasets.\n",
            "  warnings.warn(\n"
          ]
        }
      ],
      "source": [
        "from sklearn.feature_extraction.text import TfidfVectorizer\n",
        "from sklearn.metrics.pairwise import cosine_similarity\n",
        "from sentence_transformers import SentenceTransformer\n",
        "\n",
        "model = SentenceTransformer('all-MiniLM-L6-v2')\n",
        "\n",
        "def calculate_cosine_similarity_with_embeddings(text1, text2):\n",
        "  embeddings1 = model.encode(text1)\n",
        "  embeddings2 = model.encode(text2)\n",
        "\n",
        "  similarity = cosine_similarity([embeddings1], [embeddings2])\n",
        "\n",
        "  return similarity[0][0]"
      ]
    },
    {
      "cell_type": "markdown",
      "metadata": {
        "id": "ISm_3UKNHSz8"
      },
      "source": [
        "# Vector store index engine"
      ]
    },
    {
      "cell_type": "code",
      "execution_count": 20,
      "metadata": {
        "id": "JMC0YR6e-g0L"
      },
      "outputs": [],
      "source": [
        "from llama_index.core import VectorStoreIndex\n",
        "vector_store_index = VectorStoreIndex.from_documents(documents)"
      ]
    },
    {
      "cell_type": "code",
      "execution_count": null,
      "metadata": {
        "id": "8cfBGu37-v4b"
      },
      "outputs": [],
      "source": [
        "print(type(vector_store_index))"
      ]
    },
    {
      "cell_type": "code",
      "execution_count": 21,
      "metadata": {
        "id": "Fhvq3uR5CG-C"
      },
      "outputs": [],
      "source": [
        "vector_query_engine = vector_store_index.as_query_engine(similarity_top_k=k,\n",
        "temperature=temp, num_output=mt)"
      ]
    },
    {
      "cell_type": "code",
      "execution_count": 22,
      "metadata": {
        "id": "l2v1_zBWBZWD"
      },
      "outputs": [],
      "source": [
        "import pandas as pd\n",
        "import textwrap\n",
        "\n",
        "def index_query(input_query):\n",
        "  response = vector_query_engine.query(input_query)\n",
        "  print(textwrap.fill(str(response), 100))\n",
        "\n",
        "  node_data = []\n",
        "\n",
        "  for node_with_score in response.source_nodes:\n",
        "    node = node_with_score.node\n",
        "    node_info = {\n",
        "        'Node ID': node.id_,\n",
        "        'Score': node_with_score.score,\n",
        "        'Text': node.text\n",
        "    }\n",
        "    node_data.append(node_info)\n",
        "\n",
        "  df = pd.DataFrame(node_data)\n",
        "\n",
        "  return df, response\n"
      ]
    },
    {
      "cell_type": "code",
      "execution_count": 23,
      "metadata": {
        "colab": {
          "base_uri": "https://localhost:8080/"
        },
        "id": "aoTMr0gcCJSb",
        "outputId": "6e85a5d6-2ebc-49c8-e5b6-861b3d034893"
      },
      "outputs": [
        {
          "output_type": "stream",
          "name": "stdout",
          "text": [
            "Drones identify vehicles through the implementation of a Class Identification Label, which serves as\n",
            "a verification mechanism to confirm that drones within a specific class meet the rigorous standards\n",
            "set by administrations for design and manufacturing.\n"
          ]
        }
      ],
      "source": [
        "import time\n",
        "#start the timer\n",
        "start_time = time.time()\n",
        "df, response = index_query(user_input)\n",
        "# Stop the timer\n",
        "end_time = time.time()"
      ]
    },
    {
      "cell_type": "code",
      "execution_count": 24,
      "metadata": {
        "colab": {
          "base_uri": "https://localhost:8080/"
        },
        "id": "hGy_W7KzCM5N",
        "outputId": "67357a25-448a-4d16-ab5b-3a26b80e7d9f"
      },
      "outputs": [
        {
          "output_type": "stream",
          "name": "stdout",
          "text": [
            "Query execution time: 1.7359 seconds\n",
            "| Node ID                              | Score    | Text                                                                                                                                                                                                                                                                                                                                                                                                                                                                                                                                                                                                                                                                                                                                                                                                                                                                                                                                                                                                                                                                                                                                                                                                                                                                                                                                                                                                                                                                                                                                                                                                                                                                                                                                                                                                                                                                                                                                                                                                                                                                                                                                                                                                                                                                                                                                                                                                                                                                                                                                                                                                                                                                                                                                                                                                                                                                                                                                                                                                                                                                                                                                                                                                                                                                                                                                                                                                                                                                                                                                                                                                                                                                                                                                                                                                                                                                                                                                                                                                                                                                                                                                                                                                                                                                                                                                                                                                                                                                                                                                                                                                                                                                                                                                                                                                                                                                                                                                                                                                                                                                                                  |\n",
            "|:-------------------------------------|:---------|:------------------------------------------------------------------------------------------------------------------------------------------------------------------------------------------------------------------------------------------------------------------------------------------------------------------------------------------------------------------------------------------------------------------------------------------------------------------------------------------------------------------------------------------------------------------------------------------------------------------------------------------------------------------------------------------------------------------------------------------------------------------------------------------------------------------------------------------------------------------------------------------------------------------------------------------------------------------------------------------------------------------------------------------------------------------------------------------------------------------------------------------------------------------------------------------------------------------------------------------------------------------------------------------------------------------------------------------------------------------------------------------------------------------------------------------------------------------------------------------------------------------------------------------------------------------------------------------------------------------------------------------------------------------------------------------------------------------------------------------------------------------------------------------------------------------------------------------------------------------------------------------------------------------------------------------------------------------------------------------------------------------------------------------------------------------------------------------------------------------------------------------------------------------------------------------------------------------------------------------------------------------------------------------------------------------------------------------------------------------------------------------------------------------------------------------------------------------------------------------------------------------------------------------------------------------------------------------------------------------------------------------------------------------------------------------------------------------------------------------------------------------------------------------------------------------------------------------------------------------------------------------------------------------------------------------------------------------------------------------------------------------------------------------------------------------------------------------------------------------------------------------------------------------------------------------------------------------------------------------------------------------------------------------------------------------------------------------------------------------------------------------------------------------------------------------------------------------------------------------------------------------------------------------------------------------------------------------------------------------------------------------------------------------------------------------------------------------------------------------------------------------------------------------------------------------------------------------------------------------------------------------------------------------------------------------------------------------------------------------------------------------------------------------------------------------------------------------------------------------------------------------------------------------------------------------------------------------------------------------------------------------------------------------------------------------------------------------------------------------------------------------------------------------------------------------------------------------------------------------------------------------------------------------------------------------------------------------------------------------------------------------------------------------------------------------------------------------------------------------------------------------------------------------------------------------------------------------------------------------------------------------------------------------------------------------------------------------------------------------------------------------------------------------------------------------------------------------------------|\n",
            "| 71a43926-cb5c-45ff-87d4-f1a14228b824 | 0.848769 | [ 216 ] In 2021, the FAA published a rule requiring all commercially used UAVs and all UAVs regardless of intent weighing 250 g or more to participate in Remote ID , which makes drone locations, controller locations, and other information public from takeoff to shutdown; this rule has since been challenged in the pending federal lawsuit RaceDayQuads v. FAA . [ 217 ] [ 218 ] EU Drone Certification - Class Identification Label [ edit ] The implementation of the Class Identification Label serves a crucial purpose in the regulation and operation of drones. [ 219 ] The label is a verification mechanism designed to confirm that drones within a specific class meet the rigorous standards set by administrations for design and manufacturing. [ 220 ] These standards are necessary to ensure the safety and reliability of drones in various industries and applications. By providing this assurance to customers, the Class Identification Label helps to increase confidence in drone technology and encourages wider adoption across industries. This, in turn, contributes to the growth and development of the drone industry and supports the integration of drones into society. Export controls [ edit ] The export of UAVs or technology capable of carrying a 500 kg payload at least 300 km is restricted in many countries by the Missile Technology Control Regime . See also [ edit ] List of unmanned aerial vehicles Delivery drone Drone in a Box Glide bomb International Aerial Robotics Competition List of films featuring drones List of military electronics of the United States MARSS Interceptor Micromechanical Flying Insect ParcAberporth Quadcopter Radio-controlled aircraft Autonomous aircraft Optionally piloted vehicle Sypaq Corvo Precision Payload Delivery System Satellite Sentinel Project Tactical Control System UAV ground control station Unmanned underwater vehicle Portals : Aviation Systems science Engineering Telecommunication References [ edit ] Citations [ edit ] ^ Tice, Brian P. (Spring 1991). \"Unmanned Aerial Vehicles – The Force Multiplier of the 1990s\" . Airpower Journal . Archived from the original on 24 July 2009 . Retrieved 6 June 2013 . When used, UAVs should generally perform missions characterized by the three Ds: dull, dirty, and dangerous. ^ a b Alvarado, Ed (3 May 2021). \"237 Ways Drone Applications Revolutionize Business\" . Drone Industry Insights . Archived from the original on 11 May 2021 . Retrieved 11 May 2021 . ^ F.  Rekabi-Bana; Hu, J.; T. Krajník; Arvin, F., \" Unified Robust Path Planning and Optimal Trajectory Generation for Efficient 3D Area Coverage of Quadrotor UAVs \" IEEE Transactions on Intelligent Transportation Systems, 2023. ^ a b Hu, J.; Niu, H.; Carrasco, J.; Lennox, B.; Arvin, F., \" Fault-tolerant cooperative navigation of networked UAV swarms for forest fire monitoring \" Aerospace Science and Technology, 2022. ^ a b Remote sensing of the environment using unmanned aerial systems (UAS) . [S.l.]: ELSEVIER - HEALTH SCIENCE. 2023. ISBN 978-0-323-85283-8 . OCLC 1329422815 . Archived from the original on 27 February 2023 . Retrieved 11 January 2023 . ^ Perks, Matthew T.; Dal Sasso, Silvano Fortunato; Hauet, Alexandre; Jamieson, Elizabeth; Le Coz, Jérôme; Pearce, Sophie; Peña-Haro, Salvador; Pizarro, Alonso; Strelnikova, Dariia; Tauro, Flavia; Bomhof, James; Grimaldi, Salvatore; Goulet, Alain; Hortobágyi, Borbála; Jodeau, Magali (8 July 2020). \"Towards harmonisation of image velocimetry techniques for river surface velocity observations\" . Earth System Science Data . 12 (3): 1545– 1559. Bibcode : 2020ESSD...12.1545P . doi : 10.5194/essd-12-1545-2020 . ISSN 1866-3516 . Archived from the original on 12 January 2023 . Retrieved 12 January 2023 . ^ Koparan, Cengiz; Koc, A. Bulent; Privette, Charles V.; Sawyer, Calvin B. (March 2020). \"Adaptive Water Sampling Device for Aerial Robots\" . Drones . 4 (1): 5.                                                                                                                                                                                                                                                                                                                                                                                                                                                                                                                                                                                                                                                                                                                                                                                                                                                                                                                                                                                                                                                                     |\n",
            "| bddaa01c-a380-4c82-9ca4-8214b5810ece | 0.841546 | [ 200 ] [ 201 ] In response, California legislators introduced a bill that would allow firefighters to disable UAVs which invaded restricted airspace. [ 202 ] The FAA later required registration of most UAVs. Security vulnerabilities [ edit ] By 2017, drones were being used to drop contraband into prisons. [ 203 ] The interest in UAVs cybersecurity has been raised greatly after the Predator UAV video stream hijacking incident in 2009, [ 204 ] where Islamic militants used cheap, off-the-shelf equipment to stream video feeds from a UAV. Another risk is the possibility of hijacking or jamming a UAV in flight. Several security researchers have made public some vulnerabilities in commercial UAVs, in some cases even providing full source code or tools to reproduce their attacks. [ 205 ] At a workshop on UAVs and privacy in October 2016, researchers from the Federal Trade Commission showed they were able to hack into three different consumer quadcopters and noted that UAV manufacturers can make their UAVs more secure by the basic security measures of encrypting the Wi-Fi signal and adding password protection. [ 206 ] Aggression [ edit ] Many UAVs have been loaded with dangerous payloads, and/or crashed into targets. Payloads have included or could include explosives, chemical, radiological or biological hazards. UAVs with generally non-lethal payloads could possibly be hacked and put to malicious purposes. Counter-UAV systems (C-UAS), from detection to electronic warfare to UAVs designed to destroy other UAVs, are in development and being deployed by states to counter this threat. Such developments have occurred despite the difficulties. As J. Rogers stated in a 2017 interview to A&T, \"There is a big debate out there at the moment about what the best way is to counter these small UAVs, whether they are used by hobbyists causing a bit of a nuisance or in a more sinister manner by a terrorist actor\". [ 207 ] Countermeasures [ edit ] Counter unmanned air system [ edit ] Further information: Electronic warfare Italian Army soldiers of the 17th Anti-aircraft Artillery Regiment \"Sforzesca\" with a portable drone jammer in Rome Cannon anti-drone system The malicious use of UAVs has led to the development of counter unmanned air system (C-UAS) technologies. Automatic tracking and detection of UAVs from commercial cameras have become accurate thanks to the development of deep learning based machine learning algorithms. [ 208 ] It is also possible to automatically identify UAVs across different cameras with different viewpoints and hardware specification with re-identification methods. [ 209 ] Commercial systems such as the Aaronia AARTOS have been installed on major international airports. [ 210 ] [ 211 ] Once a UAV is detected, it can be countered with kinetic force (missiles, projectiles or another UAV) or by non-kinetic force (laser, microwaves, communications jamming). [ 212 ] Anti-aircraft missile systems such as the Iron Dome are also being enhanced with C-UAS technologies. Utilising a smart UAV swarm to counter one or more hostile UAVs is also proposed. [ 213 ] Regulation [ edit ] Main article: Regulation of unmanned aerial vehicles Regulatory bodies around the world are developing unmanned aircraft system traffic management solutions to better integrate UAVs into airspace. [ 214 ] The use of unmanned aerial vehicles is becoming increasingly regulated by the civil aviation authorities of individual countries. Regulatory regimes can differ significantly according to drone size and use. The International Civil Aviation Organization (ICAO) began exploring the use of drone technology as far back as 2005, which resulted in a 2011 report. [ 215 ] France was among the first countries to set a national framework based on this report and larger aviation bodies such as the FAA and the EASA quickly followed suit. [ 216 ] In 2021, the FAA published a rule requiring all commercially used UAVs and all UAVs regardless of intent weighing 250 g or more to participate in Remote ID , which makes drone locations, controller locations, and other information public from takeoff to shutdown; this rule has since been challenged in the pending federal lawsuit RaceDayQuads v. FAA . [ 217 ] [ 218 ] EU Drone Certification - Class Identification Label [ edit ] The implementation of the Class Identification Label serves a crucial purpose in the regulation and operation of drones. [ 219 ] The label is a verification mechanism designed to confirm that drones within a specific class meet the rigorous standards set by administrations for design and manufacturing. [ 220 ] These standards are necessary to ensure the safety and reliability of drones in various industries and applications. By providing this assurance to customers, the Class Identification Label helps to increase confidence in drone technology and encourages wider adoption across industries. |\n",
            "| 820e66e0-5727-4f8c-b9e7-8add2371946e | 0.837422 | [ 162 ] These civilian DJI drones were sourced by governments, hobbyists, international donations to Ukraine and Russia to support each side on the battlefield, and were often flown by drone hobbyists recruited by the armed forces. The prevalence of DJI drones was attributable to their market dominance, affordability, high performance, and reliability. [ 163 ] Entertainment [ edit ] See also: Drone art and Drone racing Drones are also used in nighttime displays for artistic and advertising purposes with the main benefits are that they are safer, quieter and better for the environment than fireworks. They can replace or be an adjunct for fireworks displays to reduce the financial burden of festivals. In addition they can complement fireworks due to the ability for drones to carry them, creating new forms of artwork in the process. [ 164 ] [ 165 ] [ 166 ] Drones can also be used for racing, either with or without VR functionality. Aerial photography [ edit ] See also: Drone journalism Drones are ideally suited to capturing aerial shots in photography and cinematography, and are widely used for this purpose. [ 131 ] Small drones avoid the need for precise coordination between pilot and cameraman, with the same person taking on both roles. Big drones with professional cine cameras usually have a drone pilot and a camera operator who controls camera angle and lens. For example, the AERIGON cinema drone, used in film production, is operated by two people. [ 167 ] [ full citation needed ] Drones provide access to dangerous, remote or otherwise inaccessible sites. Environmental monitoring [ edit ] UASs or UAVs offer the great advantage for environmental monitoring to generate a new generation of survey at very-high or ultra-high resolution both in space and time. [ 168 ] This gives the opportunity to bridge the existing gap between satellite data and field monitoring. This has stimulated a huge number of activities in order to enhance the description of natural and agricultural ecosystems. Most common applications are: Topographic surveys [ 169 ] for the production of orthomosaics, digital surface models and 3D models; Monitoring of natural ecosystems for biodiversity monitoring, [ 170 ] habitat mapping, [ 171 ] detection of invasive alien species [ 172 ] and study of ecosystem degradation due to invasive species or disturbances; Precision agriculture [ 173 ] which exploits all available technologies including UAV in order to produce more with less (e.g., optimisation of fertilizers, pesticides, irrigation); River monitoring several methods have been developed to perform flow monitoring using image velocimetry methods which allow to properly describe the 2D flow velocity fields. [ 174 ] Structural integrity of any type of structure whether it be a dam, railway or other dangerous, inaccessible or massive locations for building monitoring. [ 175 ] Mineral detection for acid mine drainage using UAVs and hyperspectral cameras can produce detailed maps of proxy minerals (e.g. goethite , jarosite ) for certain pH-values in natural, mining and post-mining environments, such as remediated sites. [ 176 ] [ 177 ] These activities can be completed with different measurements, such as photogrammetry , thermography , multispectral images, 3D field scanning, and normalized difference vegetation index maps. Geological hazards [ edit ] UAVs have become a widely used tool for studying geohazards such as landslides . [ 178 ] Various sensors, including radar, optical, and thermal, can be mounted on UAVs to monitor different properties. UAVs enable the capture of images of various landslide features, such as transverse, radial, and longitudinal cracks, ridges, scarps, and surfaces of rupture, even in inaccessible areas of the sliding mass. [ 179 ] [ 180 ] Moreover, processing the optical images captured by UAVs also allows for the creation of point clouds and 3D models, from which these properties can be derived. [ 181 ] Comparing point clouds obtained at different times allows for the detection of changes caused by landslide deformation. [ 182 ] [ 183 ] Mineral exploration [ edit ] UAVs may help in the discovery of new or reevaluation of known mineral deposits to meet the demand for raw materials such as critical raw metals (e.g. cobalt , nickel ), rare earths and battery minerals. By employing a suite of sensors (e.g. spectral imaging , Lidar , magnetics , gamma-ray spectroscopy ) [ 184 ] [ 185 ] , and similar to those used in environmental monitoring, UAV-based data can produce maps of geological surface and subsurface features, contributing to more efficient and targeted mineral exploration.                                                                                                                                                                                                                                                        |\n"
          ]
        }
      ],
      "source": [
        "elapsed_time = end_time - start_time\n",
        "print(f\"Query execution time: {elapsed_time:.4f} seconds\")\n",
        "\n",
        "print(df.to_markdown(index=False, numalign=\"left\", stralign=\"left\"))"
      ]
    },
    {
      "cell_type": "code",
      "execution_count": 25,
      "metadata": {
        "colab": {
          "base_uri": "https://localhost:8080/",
          "height": 35
        },
        "id": "gNeuoMraCRZh",
        "outputId": "7dfb8485-becd-45e0-f5b7-d1b9dd610290"
      },
      "outputs": [
        {
          "output_type": "execute_result",
          "data": {
            "text/plain": [
              "'71a43926-cb5c-45ff-87d4-f1a14228b824'"
            ],
            "application/vnd.google.colaboratory.intrinsic+json": {
              "type": "string"
            }
          },
          "metadata": {},
          "execution_count": 25
        }
      ],
      "source": [
        "nodeid = response.source_nodes[0].node_id\n",
        "nodeid"
      ]
    },
    {
      "cell_type": "code",
      "execution_count": 26,
      "metadata": {
        "colab": {
          "base_uri": "https://localhost:8080/",
          "height": 157
        },
        "id": "azNeccRcGFgM",
        "outputId": "5fd08457-13ef-4ba9-d038-c6e493a81c19"
      },
      "outputs": [
        {
          "output_type": "execute_result",
          "data": {
            "text/plain": [
              "'[ 216 ] In 2021, the FAA published a rule requiring all commercially used UAVs and all UAVs regardless of intent weighing 250 g or more to participate in Remote ID , which makes drone locations, controller locations, and other information public from takeoff to shutdown; this rule has since been challenged in the pending federal lawsuit RaceDayQuads v. FAA . [ 217 ] [ 218 ] EU Drone Certification - Class Identification Label [ edit ] The implementation of the Class Identification Label serves a crucial purpose in the regulation and operation of drones. [ 219 ] The label is a verification mechanism designed to confirm that drones within a specific class meet the rigorous standards set by administrations for design and manufacturing. [ 220 ] These standards are necessary to ensure the safety and reliability of drones in various industries and applications. By providing this assurance to customers, the Class Identification Label helps to increase confidence in drone technology and encourages wider adoption across industries. This, in turn, contributes to the growth and development of the drone industry and supports the integration of drones into society. Export controls [ edit ] The export of UAVs or technology capable of carrying a 500\\xa0kg payload at least 300\\xa0km is restricted in many countries by the Missile Technology Control Regime . See also [ edit ] List of unmanned aerial vehicles Delivery drone Drone in a Box Glide bomb International Aerial Robotics Competition List of films featuring drones List of military electronics of the United States MARSS Interceptor Micromechanical Flying Insect ParcAberporth Quadcopter Radio-controlled aircraft Autonomous aircraft Optionally piloted vehicle Sypaq Corvo Precision Payload Delivery System Satellite Sentinel Project Tactical Control System UAV ground control station Unmanned underwater vehicle Portals : Aviation Systems science Engineering Telecommunication References [ edit ] Citations [ edit ] ^ Tice, Brian P. (Spring 1991). \"Unmanned Aerial Vehicles – The Force Multiplier of the 1990s\" . Airpower Journal . Archived from the original on 24 July 2009 . Retrieved 6 June 2013 . When used, UAVs should generally perform missions characterized by the three Ds: dull, dirty, and dangerous. ^ a b Alvarado, Ed (3 May 2021). \"237 Ways Drone Applications Revolutionize Business\" . Drone Industry Insights . Archived from the original on 11 May 2021 . Retrieved 11 May 2021 . ^ F.  Rekabi-Bana; Hu, J.; T. Krajník; Arvin, F., \" Unified Robust Path Planning and Optimal Trajectory Generation for Efficient 3D Area Coverage of Quadrotor UAVs \" IEEE Transactions on Intelligent Transportation Systems, 2023. ^ a b Hu, J.; Niu, H.; Carrasco, J.; Lennox, B.; Arvin, F., \" Fault-tolerant cooperative navigation of networked UAV swarms for forest fire monitoring \" Aerospace Science and Technology, 2022. ^ a b Remote sensing of the environment using unmanned aerial systems (UAS) . [S.l.]: ELSEVIER - HEALTH SCIENCE. 2023. ISBN 978-0-323-85283-8 . OCLC 1329422815 . Archived from the original on 27 February 2023 . Retrieved 11 January 2023 . ^ Perks, Matthew T.; Dal Sasso, Silvano Fortunato; Hauet, Alexandre; Jamieson, Elizabeth; Le Coz, Jérôme; Pearce, Sophie; Peña-Haro, Salvador; Pizarro, Alonso; Strelnikova, Dariia; Tauro, Flavia; Bomhof, James; Grimaldi, Salvatore; Goulet, Alain; Hortobágyi, Borbála; Jodeau, Magali (8 July 2020). \"Towards harmonisation of image velocimetry techniques for river surface velocity observations\" . Earth System Science Data . 12 (3): 1545– 1559. Bibcode : 2020ESSD...12.1545P . doi : 10.5194/essd-12-1545-2020 . ISSN 1866-3516 . Archived from the original on 12 January 2023 . Retrieved 12 January 2023 . ^ Koparan, Cengiz; Koc, A. Bulent; Privette, Charles V.; Sawyer, Calvin B. (March 2020). \"Adaptive Water Sampling Device for Aerial Robots\" . Drones . 4 (1): 5.'"
            ],
            "application/vnd.google.colaboratory.intrinsic+json": {
              "type": "string"
            }
          },
          "metadata": {},
          "execution_count": 26
        }
      ],
      "source": [
        "response.source_nodes[0].get_text()"
      ]
    },
    {
      "cell_type": "markdown",
      "metadata": {
        "id": "75qzwN4CGQQs"
      },
      "source": [
        "# Optimized chunking"
      ]
    },
    {
      "cell_type": "code",
      "execution_count": 27,
      "metadata": {
        "colab": {
          "base_uri": "https://localhost:8080/"
        },
        "id": "goMN670hGP9U",
        "outputId": "fd17eaa7-d66c-4aa9-e060-71df971b8d15"
      },
      "outputs": [
        {
          "output_type": "stream",
          "name": "stdout",
          "text": [
            "Node ID: 71a43926-cb5c-45ff-87d4-f1a14228b824, Chunk Size: 3873 characters\n",
            "Node ID: bddaa01c-a380-4c82-9ca4-8214b5810ece, Chunk Size: 4901 characters\n",
            "Node ID: 820e66e0-5727-4f8c-b9e7-8add2371946e, Chunk Size: 4654 characters\n"
          ]
        }
      ],
      "source": [
        "for node_with_score in response.source_nodes:\n",
        "  node = node_with_score.node\n",
        "  chunk_size = len(node.text)\n",
        "  print(f\"Node ID: {node.id_}, Chunk Size: {chunk_size} characters\")"
      ]
    },
    {
      "cell_type": "code",
      "execution_count": 28,
      "metadata": {
        "id": "evdSsFI4GnKk"
      },
      "outputs": [],
      "source": [
        "import numpy as np\n",
        "\n",
        "def info_metrics(response):\n",
        "  # Calculate the performance (handling None scores)\n",
        "  scores = [node.score for node in response.source_nodes if node.score is not None]\n",
        "  if scores:  # Check if there are any valid scores\n",
        "      weights = np.exp(scores) / np.sum(np.exp(scores))\n",
        "      perf = np.average(scores, weights=weights) / elapsed_time\n",
        "  else:\n",
        "      perf = 0  # Or some other default value if all scores are None\n",
        "\n",
        "  average_score=np.average(scores, weights=weights)\n",
        "  print(f\"Average score: {average_score:.4f}\")\n",
        "  print(f\"Query execution time: {elapsed_time:.4f} seconds\")\n",
        "  print(f\"Performance metric: {perf:.4f}\")"
      ]
    },
    {
      "cell_type": "code",
      "execution_count": 29,
      "metadata": {
        "colab": {
          "base_uri": "https://localhost:8080/"
        },
        "id": "DSA7Yf60G5Ht",
        "outputId": "be539e42-4b66-4576-faec-0296e6c739a9"
      },
      "outputs": [
        {
          "output_type": "stream",
          "name": "stdout",
          "text": [
            "Average score: 0.8426\n",
            "Query execution time: 1.7359 seconds\n",
            "Performance metric: 0.4854\n"
          ]
        }
      ],
      "source": [
        "info_metrics(response)"
      ]
    },
    {
      "cell_type": "markdown",
      "metadata": {
        "id": "pMVPcbZqHW8E"
      },
      "source": [
        "# Tree index query engine"
      ]
    },
    {
      "cell_type": "code",
      "execution_count": 30,
      "metadata": {
        "id": "Ng4LtDniHZKc"
      },
      "outputs": [],
      "source": [
        "from llama_index.core import TreeIndex\n",
        "tree_index = TreeIndex.from_documents(documents)"
      ]
    },
    {
      "cell_type": "code",
      "execution_count": 31,
      "metadata": {
        "id": "jBDZH8r_IJFE"
      },
      "outputs": [],
      "source": [
        "tree_query_engine = tree_index.as_query_engine(similarity_top_k=k,\n",
        "                              temperature=temp,\n",
        "                              num_output=mt)"
      ]
    },
    {
      "cell_type": "code",
      "execution_count": 32,
      "metadata": {
        "colab": {
          "base_uri": "https://localhost:8080/"
        },
        "id": "yWYeGYrDIS4m",
        "outputId": "5e42f967-c1e7-4efb-c61f-2a820039aca6"
      },
      "outputs": [
        {
          "output_type": "stream",
          "name": "stdout",
          "text": [
            "Query execution time: 4.4204 seconds\n",
            "Drones identify vehicles by utilizing computer vision technology for object detection. They can\n",
            "detect vehicles in images and videos by analyzing visual features and patterns specific to vehicles,\n",
            "such as shape, size, and movement. This process involves using deep learning models trained on\n",
            "datasets that include vehicle classes, allowing drones to accurately recognize and track vehicles in\n",
            "various scenarios.\n"
          ]
        }
      ],
      "source": [
        "import time\n",
        "import textwrap\n",
        "\n",
        "start_time = time.time()\n",
        "response = tree_query_engine.query(user_input)\n",
        "\n",
        "end_time = time.time()\n",
        "\n",
        "# Calculate and print the execution time\n",
        "elapsed_time = end_time - start_time\n",
        "\n",
        "print(f\"Query execution time: {elapsed_time:.4f} seconds\")\n",
        "print(textwrap.fill(str(response), 100))"
      ]
    },
    {
      "cell_type": "code",
      "execution_count": null,
      "metadata": {
        "colab": {
          "base_uri": "https://localhost:8080/"
        },
        "id": "h8ml0KsxIgZd",
        "outputId": "c5d9fbc2-b546-417c-f661-11f36a06da14"
      },
      "outputs": [
        {
          "name": "stdout",
          "output_type": "stream",
          "text": [
            "Cosine Similarity Score: 0.804\n",
            "Query execution time: 3.5562 seconds\n",
            "Performance metric: 0.2260\n"
          ]
        }
      ],
      "source": [
        "similarity_score = calculate_cosine_similarity_with_embeddings(user_input, str(response))\n",
        "print(f\"Cosine Similarity Score: {similarity_score:.3f}\")\n",
        "print(f\"Query execution time: {elapsed_time:.4f} seconds\")\n",
        "performance=similarity_score/elapsed_time\n",
        "print(f\"Performance metric: {performance:.4f}\")"
      ]
    },
    {
      "cell_type": "markdown",
      "metadata": {
        "id": "NPqxQ2BWIzbc"
      },
      "source": [
        "# List index query engine"
      ]
    },
    {
      "cell_type": "code",
      "execution_count": null,
      "metadata": {
        "id": "OfPPF62FI1Em"
      },
      "outputs": [],
      "source": [
        "from llama_index.core import ListIndex\n",
        "list_index = ListIndex.from_documents(documents)"
      ]
    },
    {
      "cell_type": "code",
      "execution_count": null,
      "metadata": {
        "id": "ok_QyybWJDDV"
      },
      "outputs": [],
      "source": [
        "list_query_engine = list_index.as_query_engine(similarity_top_k=k,\n",
        "temperature=temp, num_output=mt)"
      ]
    },
    {
      "cell_type": "code",
      "execution_count": null,
      "metadata": {
        "colab": {
          "base_uri": "https://localhost:8080/"
        },
        "id": "b-jq602AJHST",
        "outputId": "a83bae64-db2d-41fd-981b-8ac982abff75"
      },
      "outputs": [
        {
          "name": "stdout",
          "output_type": "stream",
          "text": [
            "Query execution time: 17.9808 seconds\n",
            "Drones can identify vehicles through computer vision systems that analyze image data captured by\n",
            "cameras mounted on the drones. These systems use object recognition algorithms to detect and\n",
            "classify vehicles in the images, allowing the drones to identify and track vehicles in their field\n",
            "of view.\n"
          ]
        }
      ],
      "source": [
        "#start the timer\n",
        "start_time = time.time()\n",
        "response = list_query_engine.query(user_input)\n",
        "# Stop the timer\n",
        "end_time = time.time()\n",
        "# Calculate and print the execution time\n",
        "elapsed_time = end_time - start_time\n",
        "print(f\"Query execution time: {elapsed_time:.4f} seconds\")\n",
        "print(textwrap.fill(str(response), 100))"
      ]
    },
    {
      "cell_type": "code",
      "execution_count": null,
      "metadata": {
        "colab": {
          "base_uri": "https://localhost:8080/"
        },
        "id": "a8zPHFFdJPeE",
        "outputId": "d9cad752-9706-47b3-b711-63865263a250"
      },
      "outputs": [
        {
          "name": "stdout",
          "output_type": "stream",
          "text": [
            "Cosine Similarity Score: 0.793\n",
            "Query execution time: 17.9808 seconds\n",
            "Performance metric: 0.0441\n"
          ]
        }
      ],
      "source": [
        "similarity_score = calculate_cosine_similarity_with_embeddings(user_input, str(response))\n",
        "print(f\"Cosine Similarity Score: {similarity_score:.3f}\")\n",
        "print(f\"Query execution time: {elapsed_time:.4f} seconds\")\n",
        "performance=similarity_score/elapsed_time\n",
        "print(f\"Performance metric: {performance:.4f}\")"
      ]
    },
    {
      "cell_type": "markdown",
      "metadata": {
        "id": "Uj_fyZmdJWS9"
      },
      "source": [
        "# Keyword index query engine"
      ]
    },
    {
      "cell_type": "code",
      "execution_count": 33,
      "metadata": {
        "id": "nNEOwP6iJYlU"
      },
      "outputs": [],
      "source": [
        "from llama_index.core import KeywordTableIndex\n",
        "keyword_index = KeywordTableIndex.from_documents(documents)"
      ]
    },
    {
      "cell_type": "code",
      "execution_count": 35,
      "metadata": {
        "id": "QNLqLYr9JeGs",
        "colab": {
          "base_uri": "https://localhost:8080/",
          "height": 424
        },
        "outputId": "5eae2d91-761d-48ae-9428-f9a910a8d6ce"
      },
      "outputs": [
        {
          "output_type": "execute_result",
          "data": {
            "text/plain": [
              "                                 Keyword                           Document ID\n",
              "0                       kerr black holes  f9a44ee2-2e2d-4bd4-afda-1b992a8da990\n",
              "1     extreme binary black hole geometry  f9a44ee2-2e2d-4bd4-afda-1b992a8da990\n",
              "2                        nhek black hole  f9a44ee2-2e2d-4bd4-afda-1b992a8da990\n",
              "3                                entropy  f9a44ee2-2e2d-4bd4-afda-1b992a8da990\n",
              "4                                entropy  165833f5-a515-4141-a763-b8bf2ae17dac\n",
              "...                                  ...                                   ...\n",
              "4467                   wikimedia commons  07414f4a-da00-4356-a860-d5286985a206\n",
              "4468                              direct  07414f4a-da00-4356-a860-d5286985a206\n",
              "4469               quantitative patterns  07414f4a-da00-4356-a860-d5286985a206\n",
              "4470                             nations  b42dcb7c-9556-446b-8b53-31136ac04af3\n",
              "4471                  stealth technology  b42dcb7c-9556-446b-8b53-31136ac04af3\n",
              "\n",
              "[4472 rows x 2 columns]"
            ],
            "text/html": [
              "\n",
              "  <div id=\"df-7eb955d0-8162-4c62-8cfd-82ea66e95d68\" class=\"colab-df-container\">\n",
              "    <div>\n",
              "<style scoped>\n",
              "    .dataframe tbody tr th:only-of-type {\n",
              "        vertical-align: middle;\n",
              "    }\n",
              "\n",
              "    .dataframe tbody tr th {\n",
              "        vertical-align: top;\n",
              "    }\n",
              "\n",
              "    .dataframe thead th {\n",
              "        text-align: right;\n",
              "    }\n",
              "</style>\n",
              "<table border=\"1\" class=\"dataframe\">\n",
              "  <thead>\n",
              "    <tr style=\"text-align: right;\">\n",
              "      <th></th>\n",
              "      <th>Keyword</th>\n",
              "      <th>Document ID</th>\n",
              "    </tr>\n",
              "  </thead>\n",
              "  <tbody>\n",
              "    <tr>\n",
              "      <th>0</th>\n",
              "      <td>kerr black holes</td>\n",
              "      <td>f9a44ee2-2e2d-4bd4-afda-1b992a8da990</td>\n",
              "    </tr>\n",
              "    <tr>\n",
              "      <th>1</th>\n",
              "      <td>extreme binary black hole geometry</td>\n",
              "      <td>f9a44ee2-2e2d-4bd4-afda-1b992a8da990</td>\n",
              "    </tr>\n",
              "    <tr>\n",
              "      <th>2</th>\n",
              "      <td>nhek black hole</td>\n",
              "      <td>f9a44ee2-2e2d-4bd4-afda-1b992a8da990</td>\n",
              "    </tr>\n",
              "    <tr>\n",
              "      <th>3</th>\n",
              "      <td>entropy</td>\n",
              "      <td>f9a44ee2-2e2d-4bd4-afda-1b992a8da990</td>\n",
              "    </tr>\n",
              "    <tr>\n",
              "      <th>4</th>\n",
              "      <td>entropy</td>\n",
              "      <td>165833f5-a515-4141-a763-b8bf2ae17dac</td>\n",
              "    </tr>\n",
              "    <tr>\n",
              "      <th>...</th>\n",
              "      <td>...</td>\n",
              "      <td>...</td>\n",
              "    </tr>\n",
              "    <tr>\n",
              "      <th>4467</th>\n",
              "      <td>wikimedia commons</td>\n",
              "      <td>07414f4a-da00-4356-a860-d5286985a206</td>\n",
              "    </tr>\n",
              "    <tr>\n",
              "      <th>4468</th>\n",
              "      <td>direct</td>\n",
              "      <td>07414f4a-da00-4356-a860-d5286985a206</td>\n",
              "    </tr>\n",
              "    <tr>\n",
              "      <th>4469</th>\n",
              "      <td>quantitative patterns</td>\n",
              "      <td>07414f4a-da00-4356-a860-d5286985a206</td>\n",
              "    </tr>\n",
              "    <tr>\n",
              "      <th>4470</th>\n",
              "      <td>nations</td>\n",
              "      <td>b42dcb7c-9556-446b-8b53-31136ac04af3</td>\n",
              "    </tr>\n",
              "    <tr>\n",
              "      <th>4471</th>\n",
              "      <td>stealth technology</td>\n",
              "      <td>b42dcb7c-9556-446b-8b53-31136ac04af3</td>\n",
              "    </tr>\n",
              "  </tbody>\n",
              "</table>\n",
              "<p>4472 rows × 2 columns</p>\n",
              "</div>\n",
              "    <div class=\"colab-df-buttons\">\n",
              "\n",
              "  <div class=\"colab-df-container\">\n",
              "    <button class=\"colab-df-convert\" onclick=\"convertToInteractive('df-7eb955d0-8162-4c62-8cfd-82ea66e95d68')\"\n",
              "            title=\"Convert this dataframe to an interactive table.\"\n",
              "            style=\"display:none;\">\n",
              "\n",
              "  <svg xmlns=\"http://www.w3.org/2000/svg\" height=\"24px\" viewBox=\"0 -960 960 960\">\n",
              "    <path d=\"M120-120v-720h720v720H120Zm60-500h600v-160H180v160Zm220 220h160v-160H400v160Zm0 220h160v-160H400v160ZM180-400h160v-160H180v160Zm440 0h160v-160H620v160ZM180-180h160v-160H180v160Zm440 0h160v-160H620v160Z\"/>\n",
              "  </svg>\n",
              "    </button>\n",
              "\n",
              "  <style>\n",
              "    .colab-df-container {\n",
              "      display:flex;\n",
              "      gap: 12px;\n",
              "    }\n",
              "\n",
              "    .colab-df-convert {\n",
              "      background-color: #E8F0FE;\n",
              "      border: none;\n",
              "      border-radius: 50%;\n",
              "      cursor: pointer;\n",
              "      display: none;\n",
              "      fill: #1967D2;\n",
              "      height: 32px;\n",
              "      padding: 0 0 0 0;\n",
              "      width: 32px;\n",
              "    }\n",
              "\n",
              "    .colab-df-convert:hover {\n",
              "      background-color: #E2EBFA;\n",
              "      box-shadow: 0px 1px 2px rgba(60, 64, 67, 0.3), 0px 1px 3px 1px rgba(60, 64, 67, 0.15);\n",
              "      fill: #174EA6;\n",
              "    }\n",
              "\n",
              "    .colab-df-buttons div {\n",
              "      margin-bottom: 4px;\n",
              "    }\n",
              "\n",
              "    [theme=dark] .colab-df-convert {\n",
              "      background-color: #3B4455;\n",
              "      fill: #D2E3FC;\n",
              "    }\n",
              "\n",
              "    [theme=dark] .colab-df-convert:hover {\n",
              "      background-color: #434B5C;\n",
              "      box-shadow: 0px 1px 3px 1px rgba(0, 0, 0, 0.15);\n",
              "      filter: drop-shadow(0px 1px 2px rgba(0, 0, 0, 0.3));\n",
              "      fill: #FFFFFF;\n",
              "    }\n",
              "  </style>\n",
              "\n",
              "    <script>\n",
              "      const buttonEl =\n",
              "        document.querySelector('#df-7eb955d0-8162-4c62-8cfd-82ea66e95d68 button.colab-df-convert');\n",
              "      buttonEl.style.display =\n",
              "        google.colab.kernel.accessAllowed ? 'block' : 'none';\n",
              "\n",
              "      async function convertToInteractive(key) {\n",
              "        const element = document.querySelector('#df-7eb955d0-8162-4c62-8cfd-82ea66e95d68');\n",
              "        const dataTable =\n",
              "          await google.colab.kernel.invokeFunction('convertToInteractive',\n",
              "                                                    [key], {});\n",
              "        if (!dataTable) return;\n",
              "\n",
              "        const docLinkHtml = 'Like what you see? Visit the ' +\n",
              "          '<a target=\"_blank\" href=https://colab.research.google.com/notebooks/data_table.ipynb>data table notebook</a>'\n",
              "          + ' to learn more about interactive tables.';\n",
              "        element.innerHTML = '';\n",
              "        dataTable['output_type'] = 'display_data';\n",
              "        await google.colab.output.renderOutput(dataTable, element);\n",
              "        const docLink = document.createElement('div');\n",
              "        docLink.innerHTML = docLinkHtml;\n",
              "        element.appendChild(docLink);\n",
              "      }\n",
              "    </script>\n",
              "  </div>\n",
              "\n",
              "\n",
              "<div id=\"df-02faa246-950c-4ef5-be9a-59d8ab219496\">\n",
              "  <button class=\"colab-df-quickchart\" onclick=\"quickchart('df-02faa246-950c-4ef5-be9a-59d8ab219496')\"\n",
              "            title=\"Suggest charts\"\n",
              "            style=\"display:none;\">\n",
              "\n",
              "<svg xmlns=\"http://www.w3.org/2000/svg\" height=\"24px\"viewBox=\"0 0 24 24\"\n",
              "     width=\"24px\">\n",
              "    <g>\n",
              "        <path d=\"M19 3H5c-1.1 0-2 .9-2 2v14c0 1.1.9 2 2 2h14c1.1 0 2-.9 2-2V5c0-1.1-.9-2-2-2zM9 17H7v-7h2v7zm4 0h-2V7h2v10zm4 0h-2v-4h2v4z\"/>\n",
              "    </g>\n",
              "</svg>\n",
              "  </button>\n",
              "\n",
              "<style>\n",
              "  .colab-df-quickchart {\n",
              "      --bg-color: #E8F0FE;\n",
              "      --fill-color: #1967D2;\n",
              "      --hover-bg-color: #E2EBFA;\n",
              "      --hover-fill-color: #174EA6;\n",
              "      --disabled-fill-color: #AAA;\n",
              "      --disabled-bg-color: #DDD;\n",
              "  }\n",
              "\n",
              "  [theme=dark] .colab-df-quickchart {\n",
              "      --bg-color: #3B4455;\n",
              "      --fill-color: #D2E3FC;\n",
              "      --hover-bg-color: #434B5C;\n",
              "      --hover-fill-color: #FFFFFF;\n",
              "      --disabled-bg-color: #3B4455;\n",
              "      --disabled-fill-color: #666;\n",
              "  }\n",
              "\n",
              "  .colab-df-quickchart {\n",
              "    background-color: var(--bg-color);\n",
              "    border: none;\n",
              "    border-radius: 50%;\n",
              "    cursor: pointer;\n",
              "    display: none;\n",
              "    fill: var(--fill-color);\n",
              "    height: 32px;\n",
              "    padding: 0;\n",
              "    width: 32px;\n",
              "  }\n",
              "\n",
              "  .colab-df-quickchart:hover {\n",
              "    background-color: var(--hover-bg-color);\n",
              "    box-shadow: 0 1px 2px rgba(60, 64, 67, 0.3), 0 1px 3px 1px rgba(60, 64, 67, 0.15);\n",
              "    fill: var(--button-hover-fill-color);\n",
              "  }\n",
              "\n",
              "  .colab-df-quickchart-complete:disabled,\n",
              "  .colab-df-quickchart-complete:disabled:hover {\n",
              "    background-color: var(--disabled-bg-color);\n",
              "    fill: var(--disabled-fill-color);\n",
              "    box-shadow: none;\n",
              "  }\n",
              "\n",
              "  .colab-df-spinner {\n",
              "    border: 2px solid var(--fill-color);\n",
              "    border-color: transparent;\n",
              "    border-bottom-color: var(--fill-color);\n",
              "    animation:\n",
              "      spin 1s steps(1) infinite;\n",
              "  }\n",
              "\n",
              "  @keyframes spin {\n",
              "    0% {\n",
              "      border-color: transparent;\n",
              "      border-bottom-color: var(--fill-color);\n",
              "      border-left-color: var(--fill-color);\n",
              "    }\n",
              "    20% {\n",
              "      border-color: transparent;\n",
              "      border-left-color: var(--fill-color);\n",
              "      border-top-color: var(--fill-color);\n",
              "    }\n",
              "    30% {\n",
              "      border-color: transparent;\n",
              "      border-left-color: var(--fill-color);\n",
              "      border-top-color: var(--fill-color);\n",
              "      border-right-color: var(--fill-color);\n",
              "    }\n",
              "    40% {\n",
              "      border-color: transparent;\n",
              "      border-right-color: var(--fill-color);\n",
              "      border-top-color: var(--fill-color);\n",
              "    }\n",
              "    60% {\n",
              "      border-color: transparent;\n",
              "      border-right-color: var(--fill-color);\n",
              "    }\n",
              "    80% {\n",
              "      border-color: transparent;\n",
              "      border-right-color: var(--fill-color);\n",
              "      border-bottom-color: var(--fill-color);\n",
              "    }\n",
              "    90% {\n",
              "      border-color: transparent;\n",
              "      border-bottom-color: var(--fill-color);\n",
              "    }\n",
              "  }\n",
              "</style>\n",
              "\n",
              "  <script>\n",
              "    async function quickchart(key) {\n",
              "      const quickchartButtonEl =\n",
              "        document.querySelector('#' + key + ' button');\n",
              "      quickchartButtonEl.disabled = true;  // To prevent multiple clicks.\n",
              "      quickchartButtonEl.classList.add('colab-df-spinner');\n",
              "      try {\n",
              "        const charts = await google.colab.kernel.invokeFunction(\n",
              "            'suggestCharts', [key], {});\n",
              "      } catch (error) {\n",
              "        console.error('Error during call to suggestCharts:', error);\n",
              "      }\n",
              "      quickchartButtonEl.classList.remove('colab-df-spinner');\n",
              "      quickchartButtonEl.classList.add('colab-df-quickchart-complete');\n",
              "    }\n",
              "    (() => {\n",
              "      let quickchartButtonEl =\n",
              "        document.querySelector('#df-02faa246-950c-4ef5-be9a-59d8ab219496 button');\n",
              "      quickchartButtonEl.style.display =\n",
              "        google.colab.kernel.accessAllowed ? 'block' : 'none';\n",
              "    })();\n",
              "  </script>\n",
              "</div>\n",
              "\n",
              "  <div id=\"id_efc8b766-aad9-4d36-96c5-c1d0f3ec2bba\">\n",
              "    <style>\n",
              "      .colab-df-generate {\n",
              "        background-color: #E8F0FE;\n",
              "        border: none;\n",
              "        border-radius: 50%;\n",
              "        cursor: pointer;\n",
              "        display: none;\n",
              "        fill: #1967D2;\n",
              "        height: 32px;\n",
              "        padding: 0 0 0 0;\n",
              "        width: 32px;\n",
              "      }\n",
              "\n",
              "      .colab-df-generate:hover {\n",
              "        background-color: #E2EBFA;\n",
              "        box-shadow: 0px 1px 2px rgba(60, 64, 67, 0.3), 0px 1px 3px 1px rgba(60, 64, 67, 0.15);\n",
              "        fill: #174EA6;\n",
              "      }\n",
              "\n",
              "      [theme=dark] .colab-df-generate {\n",
              "        background-color: #3B4455;\n",
              "        fill: #D2E3FC;\n",
              "      }\n",
              "\n",
              "      [theme=dark] .colab-df-generate:hover {\n",
              "        background-color: #434B5C;\n",
              "        box-shadow: 0px 1px 3px 1px rgba(0, 0, 0, 0.15);\n",
              "        filter: drop-shadow(0px 1px 2px rgba(0, 0, 0, 0.3));\n",
              "        fill: #FFFFFF;\n",
              "      }\n",
              "    </style>\n",
              "    <button class=\"colab-df-generate\" onclick=\"generateWithVariable('df')\"\n",
              "            title=\"Generate code using this dataframe.\"\n",
              "            style=\"display:none;\">\n",
              "\n",
              "  <svg xmlns=\"http://www.w3.org/2000/svg\" height=\"24px\"viewBox=\"0 0 24 24\"\n",
              "       width=\"24px\">\n",
              "    <path d=\"M7,19H8.4L18.45,9,17,7.55,7,17.6ZM5,21V16.75L18.45,3.32a2,2,0,0,1,2.83,0l1.4,1.43a1.91,1.91,0,0,1,.58,1.4,1.91,1.91,0,0,1-.58,1.4L9.25,21ZM18.45,9,17,7.55Zm-12,3A5.31,5.31,0,0,0,4.9,8.1,5.31,5.31,0,0,0,1,6.5,5.31,5.31,0,0,0,4.9,4.9,5.31,5.31,0,0,0,6.5,1,5.31,5.31,0,0,0,8.1,4.9,5.31,5.31,0,0,0,12,6.5,5.46,5.46,0,0,0,6.5,12Z\"/>\n",
              "  </svg>\n",
              "    </button>\n",
              "    <script>\n",
              "      (() => {\n",
              "      const buttonEl =\n",
              "        document.querySelector('#id_efc8b766-aad9-4d36-96c5-c1d0f3ec2bba button.colab-df-generate');\n",
              "      buttonEl.style.display =\n",
              "        google.colab.kernel.accessAllowed ? 'block' : 'none';\n",
              "\n",
              "      buttonEl.onclick = () => {\n",
              "        google.colab.notebook.generateWithVariable('df');\n",
              "      }\n",
              "      })();\n",
              "    </script>\n",
              "  </div>\n",
              "\n",
              "    </div>\n",
              "  </div>\n"
            ],
            "application/vnd.google.colaboratory.intrinsic+json": {
              "type": "dataframe",
              "variable_name": "df",
              "summary": "{\n  \"name\": \"df\",\n  \"rows\": 4472,\n  \"fields\": [\n    {\n      \"column\": \"Keyword\",\n      \"properties\": {\n        \"dtype\": \"string\",\n        \"num_unique_values\": 2452,\n        \"samples\": [\n          \"donations\",\n          \"neuromorphic computing\",\n          \"patterns\"\n        ],\n        \"semantic_type\": \"\",\n        \"description\": \"\"\n      }\n    },\n    {\n      \"column\": \"Document ID\",\n      \"properties\": {\n        \"dtype\": \"category\",\n        \"num_unique_values\": 96,\n        \"samples\": [\n          \"cb2136c8-ed73-41ed-9be7-db9a1ef6b8da\",\n          \"90d58cc4-5522-4589-9812-a3c9a95f2e48\",\n          \"5bd81516-0858-4dcd-84c4-859df2d2c65f\"\n        ],\n        \"semantic_type\": \"\",\n        \"description\": \"\"\n      }\n    }\n  ]\n}"
            }
          },
          "metadata": {},
          "execution_count": 35
        }
      ],
      "source": [
        "data = []\n",
        "for keyword, doc_ids in keyword_index.index_struct.table.items():\n",
        "  for doc_id in doc_ids:\n",
        "    data.append({\"Keyword\": keyword, \"Document ID\": doc_id})\n",
        "# Create the DataFrame\n",
        "df = pd.DataFrame(data)\n",
        "df\n"
      ]
    },
    {
      "cell_type": "code",
      "execution_count": 36,
      "metadata": {
        "id": "O-vLN0zFJgHV"
      },
      "outputs": [],
      "source": [
        "keyword_query_engine = keyword_index.as_query_engine(similarity_top_k=k,\n",
        "                                    temperature=temp, num_output=mt)"
      ]
    },
    {
      "cell_type": "code",
      "source": [
        "import time\n",
        "\n",
        "start_time = time.time()\n",
        "response = keyword_query_engine.query(user_input)\n",
        "\n",
        "end_time = time.time()\n",
        "\n",
        "elapsed_time = end_time - start_time\n",
        "\n",
        "print(f\"Query execution time: {elapsed_time:.4f} seconds\")\n",
        "print(textwrap.fill(str(response), 100))"
      ],
      "metadata": {
        "colab": {
          "base_uri": "https://localhost:8080/"
        },
        "id": "mq0Ru8UiQlC5",
        "outputId": "38dd1694-2c24-4e1f-9d3c-89fb03124d78"
      },
      "execution_count": 37,
      "outputs": [
        {
          "output_type": "stream",
          "name": "stdout",
          "text": [
            "Query execution time: 1.7925 seconds\n",
            "Drones can identify vehicles through various sensors such as RGB, multispectral, hyper-spectral\n",
            "cameras, LiDAR, and other monitoring devices. These sensors provide specific measurements and\n",
            "observations that help drones in vehicle identification. Additionally, drones can use non-\n",
            "cooperative sensors for autonomous target detection, aiding in separation assurance and collision\n",
            "avoidance during vehicle identification processes.\n"
          ]
        }
      ]
    },
    {
      "cell_type": "code",
      "source": [
        "# the execution times may vary from one run to another, due to the stochastic algorithms employed.\n",
        "similarity_score = calculate_cosine_similarity_with_embeddings(user_input, str(response))\n",
        "print(f\"Cosine Similarity Score: {similarity_score:.3f}\")\n",
        "print(f\"Query execution time: {elapsed_time:.4f} seconds\")\n",
        "performance=similarity_score/elapsed_time\n",
        "print(f\"Performance metric: {performance:.4f}\")"
      ],
      "metadata": {
        "colab": {
          "base_uri": "https://localhost:8080/"
        },
        "id": "rE9f6q72QyWY",
        "outputId": "75a3ea0d-5abe-47fd-e3a7-490e1314834b"
      },
      "execution_count": 38,
      "outputs": [
        {
          "output_type": "stream",
          "name": "stdout",
          "text": [
            "Cosine Similarity Score: 0.760\n",
            "Query execution time: 1.7925 seconds\n",
            "Performance metric: 0.4238\n"
          ]
        }
      ]
    }
  ],
  "metadata": {
    "colab": {
      "provenance": []
    },
    "kernelspec": {
      "display_name": "Python 3",
      "name": "python3"
    },
    "language_info": {
      "name": "python"
    }
  },
  "nbformat": 4,
  "nbformat_minor": 0
}